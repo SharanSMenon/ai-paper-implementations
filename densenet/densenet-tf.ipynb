{
 "cells": [
  {
   "cell_type": "code",
   "execution_count": 2,
   "id": "131cffe9-b2f2-43b0-ac60-6ca16b6bdf81",
   "metadata": {},
   "outputs": [],
   "source": [
    "import tensorflow as tf\n",
    "import numpy as np\n",
    "from tensorflow import keras\n",
    "from tensorflow.keras import layers as ly\n",
    "import math\n",
    "from functools import partial"
   ]
  },
  {
   "cell_type": "code",
   "execution_count": 3,
   "id": "032f52da-f717-47b1-8967-634520da935d",
   "metadata": {},
   "outputs": [],
   "source": [
    "batchnorm = partial(ly.BatchNormalization, epsilon=1e-3,momentum=0.999)"
   ]
  },
  {
   "cell_type": "code",
   "execution_count": null,
   "id": "51dd31c1-6eef-42f1-8043-853dc7136498",
   "metadata": {},
   "outputs": [],
   "source": [
    "def DenseLayer(x, n_in, growth_rate, bn_size):\n",
    "    x = ly.Concatenate(axis=1)([x])\n",
    "    x = batchnorm()(x)\n",
    "    x = ly.ReLU()(x)\n",
    "    x = ly.Conv2D(bn_size * growth_rate, 1, strides=1, use_bias=False)(x)\n",
    "    x = batchnorm()(x)\n",
    "    x = ly.ReLU()(x)\n",
    "    x = ly.Conv2D(growth_rate, 3, strides=1, use_bias=False)(x)\n",
    "    return x"
   ]
  },
  {
   "cell_type": "code",
   "execution_count": null,
   "id": "da6836fe-b3d1-4e8f-a4ee-849fd3abd277",
   "metadata": {},
   "outputs": [],
   "source": [
    "def TransitionBlock(x, n_in, n_out):\n",
    "    x = batchnorm()(x)\n",
    "    "
   ]
  }
 ],
 "metadata": {
  "kernelspec": {
   "display_name": "Python 3 (ipykernel)",
   "language": "python",
   "name": "python3"
  },
  "language_info": {
   "codemirror_mode": {
    "name": "ipython",
    "version": 3
   },
   "file_extension": ".py",
   "mimetype": "text/x-python",
   "name": "python",
   "nbconvert_exporter": "python",
   "pygments_lexer": "ipython3",
   "version": "3.9.4"
  }
 },
 "nbformat": 4,
 "nbformat_minor": 5
}
