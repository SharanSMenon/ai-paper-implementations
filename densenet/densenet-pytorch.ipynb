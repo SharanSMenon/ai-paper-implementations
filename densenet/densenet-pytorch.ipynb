{
 "cells": [
  {
   "cell_type": "code",
   "execution_count": 1,
   "id": "cfea2d01-6e62-447b-9039-510a3fb20270",
   "metadata": {},
   "outputs": [],
   "source": [
    "import torch\n",
    "from torch import nn, optim\n",
    "import math\n",
    "import os\n",
    "from torch.nn import functional as F\n",
    "from torchinfo import summary"
   ]
  },
  {
   "cell_type": "code",
   "execution_count": 2,
   "id": "94be36b4-7de3-4c84-b0d3-59dd7a313640",
   "metadata": {},
   "outputs": [],
   "source": [
    "class DenseLayer(nn.Module):\n",
    "    def __init__(self, n_in, growth_rate, bn_size):\n",
    "        super(DenseLayer, self).__init__()\n",
    "        self.layers = nn.Sequential(\n",
    "            nn.BatchNorm2d(n_in),\n",
    "            nn.ReLU(),\n",
    "            nn.Conv2d(n_in, bn_size * growth_rate, kernel_size=1, stride=1, bias=False),\n",
    "            nn.BatchNorm2d(bn_size * growth_rate),\n",
    "            nn.ReLU(),\n",
    "            nn.Conv2d(bn_size * growth_rate, growth_rate, kernel_size=3, stride=1, \n",
    "                      padding=1, bias=False),\n",
    "        )\n",
    "    def forward(self, x):\n",
    "        concated_features = torch.cat(x, 1)\n",
    "        bottleneck_out = self.layers(concated_features)\n",
    "        return bottleneck_out"
   ]
  },
  {
   "cell_type": "code",
   "execution_count": 3,
   "id": "2bf07ad4-a5cc-4b48-984a-bb12fad328a9",
   "metadata": {},
   "outputs": [],
   "source": [
    "class DenseBlock(nn.Module):\n",
    "    def __init__(self, n_layers, n_in, bn_size, growth_rate, drop_rate):\n",
    "        super(DenseBlock, self).__init__()\n",
    "        self.layers = nn.ModuleList()\n",
    "        for i in range(n_layers):\n",
    "            layer = DenseLayer(n_in + i * growth_rate, growth_rate, bn_size)\n",
    "            self.layers.append(layer)\n",
    "    def forward(self, x):\n",
    "        features = [x]\n",
    "        for layer in self.layers:\n",
    "            new_features = layer(features)\n",
    "            features.append(new_features)\n",
    "        return torch.cat(features, 1)"
   ]
  },
  {
   "cell_type": "code",
   "execution_count": 4,
   "id": "024d3c9f-a694-4885-bd9b-f7279ca233bd",
   "metadata": {},
   "outputs": [],
   "source": [
    "class TransitionBlock(nn.Module):\n",
    "    def __init__(self, n_in, n_out):\n",
    "        super(TransitionBlock, self).__init__()\n",
    "        self.conv = nn.Conv2d(n_in, n_out, kernel_size=1, bias=False)\n",
    "        self.bn = nn.BatchNorm2d(n_in)\n",
    "    def forward(self, x):\n",
    "        x = self.conv(F.relu(self.bn(x)))\n",
    "        x = F.avg_pool2d(x, 2)\n",
    "        return x"
   ]
  },
  {
   "cell_type": "code",
   "execution_count": 5,
   "id": "280a3b9b-b1ce-43ba-8148-dd57d2ad5011",
   "metadata": {},
   "outputs": [],
   "source": [
    "class DenseNet(nn.Module):\n",
    "    def __init__(self, n_classes=1000, growth_rate=32, blocks=(6, 12, 24, 16),\n",
    "                 num_init_features=64, bn_size=4, drop_rate=0):\n",
    "        super(DenseNet, self).__init__()\n",
    "        self.stem = nn.Sequential(\n",
    "            nn.Conv2d(3, num_init_features, kernel_size=7, stride=2, padding=3, bias=False),\n",
    "            nn.BatchNorm2d(num_init_features),\n",
    "            nn.ReLU(),\n",
    "            nn.MaxPool2d(kernel_size=3, stride=2, padding=1)\n",
    "        )\n",
    "        features = []\n",
    "        \n",
    "        n_feats = num_init_features\n",
    "        for i, n_layers in enumerate(blocks):\n",
    "            block = DenseBlock(n_layers, n_feats, bn_size, growth_rate, drop_rate=drop_rate)\n",
    "            n_feats += n_layers * growth_rate\n",
    "            features.append(block)\n",
    "            if i != len(blocks) - 1:\n",
    "                transition = TransitionBlock(n_feats, n_feats//2)\n",
    "                n_feats = n_feats // 2\n",
    "                features.append(transition)\n",
    "        \n",
    "        features.append(nn.BatchNorm2d(n_feats))\n",
    "        self.features = nn.Sequential(*features)\n",
    "        self.avgpool = nn.AdaptiveMaxPool2d(1)\n",
    "        self.head = nn.Sequential(\n",
    "            nn.Linear(n_feats, n_classes)\n",
    "        )\n",
    "        \n",
    "    def forward(self, x):\n",
    "        x = self.stem(x)\n",
    "        x = self.features(x)\n",
    "        x = self.avgpool(x)\n",
    "        x = torch.flatten(x, 1)\n",
    "        x = self.head(x)\n",
    "        return x"
   ]
  },
  {
   "cell_type": "code",
   "execution_count": 6,
   "id": "700fbba0-19ef-4b94-bc08-822dd46300d7",
   "metadata": {},
   "outputs": [],
   "source": [
    "def densenet121(n_classes=1000):\n",
    "    return DenseNet(n_classes=n_classes)\n",
    "def densenet169(n_classes=1000):\n",
    "    return DenseNet(n_classes=n_classes, growth_rate=32, blocks=(6, 12, 32, 32), num_init_features=64)\n",
    "def densenet201(n_classes=1000):\n",
    "    return DenseNet(n_classes=n_classes, growth_rate=32, blocks=(6, 12, 48, 32), num_init_features=64)\n",
    "def densenet264(n_classes=1000):\n",
    "    return DenseNet(n_classes=n_classes, growth_rate=32, blocks=(6, 12, 64, 48), num_init_features=64)"
   ]
  },
  {
   "cell_type": "code",
   "execution_count": 7,
   "id": "146f3e5f-160e-434d-ae60-f6afa291d6b7",
   "metadata": {},
   "outputs": [],
   "source": [
    "d121 = densenet121()\n",
    "d169 = densenet169()\n",
    "d201 = densenet201()\n",
    "d264 = densenet264()"
   ]
  },
  {
   "cell_type": "code",
   "execution_count": 8,
   "id": "f104a573-336d-4ad9-b72e-a4455d7d4187",
   "metadata": {},
   "outputs": [],
   "source": [
    "models = [d121, d169, d201, d264]"
   ]
  },
  {
   "cell_type": "code",
   "execution_count": 9,
   "id": "a77449b8-695e-404a-9828-1fa73fd0b5b9",
   "metadata": {},
   "outputs": [
    {
     "name": "stderr",
     "output_type": "stream",
     "text": [
      "/opt/homebrew/Caskroom/miniforge/base/lib/python3.9/site-packages/torch/nn/functional.py:718: UserWarning: Named tensors and all their associated APIs are an experimental feature and subject to change. Please do not use them for anything important until they are released as stable. (Triggered internally at  ../c10/core/TensorImpl.h:1156.)\n",
      "  return torch.max_pool2d(input, kernel_size, stride, padding, dilation, ceil_mode)\n"
     ]
    },
    {
     "name": "stdout",
     "output_type": "stream",
     "text": [
      "CPU times: user 398 ms, sys: 92.4 ms, total: 491 ms\n",
      "Wall time: 217 ms\n"
     ]
    }
   ],
   "source": [
    "%%time\n",
    "inp = torch.randn(1, 3, 224, 224)\n",
    "with torch.no_grad():\n",
    "    d121(inp).shape, d201(inp).shape"
   ]
  },
  {
   "cell_type": "code",
   "execution_count": 10,
   "id": "e6e3f9ce-ba69-4d48-abcd-be1595855320",
   "metadata": {},
   "outputs": [],
   "source": [
    "def fmat(n):\n",
    "    return \"{:.2f}M\".format(n / 1e6)"
   ]
  },
  {
   "cell_type": "code",
   "execution_count": 11,
   "id": "84c45209-7570-4fd0-a6a7-5fbe2849e0d9",
   "metadata": {},
   "outputs": [],
   "source": [
    "def params(model, f=True):\n",
    "    s = sum(p.numel() for p in model.parameters() if p.requires_grad)\n",
    "    return fmat(s) if f else s"
   ]
  },
  {
   "cell_type": "code",
   "execution_count": 12,
   "id": "239b635a-303c-4a00-b462-b225eff81f91",
   "metadata": {},
   "outputs": [],
   "source": [
    "import os\n",
    "def print_size_of_model(model):\n",
    "    torch.save(model.state_dict(), \"temp.p\")\n",
    "    print('Size (MB):', os.path.getsize(\"temp.p\")/1e6)\n",
    "    os.remove('temp.p')"
   ]
  },
  {
   "cell_type": "code",
   "execution_count": 13,
   "id": "30a632d9-cc8a-4db4-95c0-f5c584d709df",
   "metadata": {},
   "outputs": [
    {
     "name": "stdout",
     "output_type": "stream",
     "text": [
      "7.98M\n",
      "14.15M\n",
      "20.01M\n",
      "33.34M\n"
     ]
    }
   ],
   "source": [
    "for m in models:\n",
    "    print(params(m))"
   ]
  },
  {
   "cell_type": "code",
   "execution_count": 14,
   "id": "00b764e7-9d6c-4aab-b29f-7d9e696f65cb",
   "metadata": {},
   "outputs": [
    {
     "name": "stdout",
     "output_type": "stream",
     "text": [
      "Size (MB): 32.499987\n",
      "Size (MB): 57.581538\n",
      "Size (MB): 81.389026\n",
      "Size (MB): 135.496162\n"
     ]
    }
   ],
   "source": [
    "for m in models:\n",
    "    print_size_of_model(m)"
   ]
  },
  {
   "cell_type": "code",
   "execution_count": 15,
   "id": "278d1fe8-3321-4722-894a-e4b339bed723",
   "metadata": {},
   "outputs": [
    {
     "data": {
      "text/plain": [
       "====================================================================================================\n",
       "Layer (type:depth-idx)                             Output Shape              Param #\n",
       "====================================================================================================\n",
       "DenseNet                                           --                        --\n",
       "├─Sequential: 1                                    --                        --\n",
       "│    └─DenseBlock: 2                               --                        --\n",
       "│    │    └─ModuleList: 3-1                        --                        335,040\n",
       "│    └─DenseBlock: 2                               --                        --\n",
       "│    │    └─ModuleList: 3-2                        --                        919,680\n",
       "│    └─DenseBlock: 2                               --                        --\n",
       "│    │    └─ModuleList: 3-3                        --                        2,837,760\n",
       "│    └─DenseBlock: 2                               --                        --\n",
       "│    │    └─ModuleList: 3-4                        --                        2,158,080\n",
       "├─Sequential: 1-1                                  [1, 64, 56, 56]           --\n",
       "│    └─Conv2d: 2-1                                 [1, 64, 112, 112]         9,408\n",
       "│    └─BatchNorm2d: 2-2                            [1, 64, 112, 112]         128\n",
       "│    └─ReLU: 2-3                                   [1, 64, 112, 112]         --\n",
       "│    └─MaxPool2d: 2-4                              [1, 64, 56, 56]           --\n",
       "├─Sequential: 1-2                                  [1, 1024, 7, 7]           --\n",
       "│    └─DenseBlock: 2-5                             [1, 256, 56, 56]          --\n",
       "│    └─TransitionBlock: 2-6                        [1, 128, 28, 28]          --\n",
       "│    │    └─BatchNorm2d: 3-5                       [1, 256, 56, 56]          512\n",
       "│    │    └─Conv2d: 3-6                            [1, 128, 56, 56]          32,768\n",
       "│    └─DenseBlock: 2-7                             [1, 512, 28, 28]          --\n",
       "│    └─TransitionBlock: 2-8                        [1, 256, 14, 14]          --\n",
       "│    │    └─BatchNorm2d: 3-7                       [1, 512, 28, 28]          1,024\n",
       "│    │    └─Conv2d: 3-8                            [1, 256, 28, 28]          131,072\n",
       "│    └─DenseBlock: 2-9                             [1, 1024, 14, 14]         --\n",
       "│    └─TransitionBlock: 2-10                       [1, 512, 7, 7]            --\n",
       "│    │    └─BatchNorm2d: 3-9                       [1, 1024, 14, 14]         2,048\n",
       "│    │    └─Conv2d: 3-10                           [1, 512, 14, 14]          524,288\n",
       "│    └─DenseBlock: 2-11                            [1, 1024, 7, 7]           --\n",
       "│    └─BatchNorm2d: 2-12                           [1, 1024, 7, 7]           2,048\n",
       "├─AdaptiveMaxPool2d: 1-3                           [1, 1024, 1, 1]           --\n",
       "├─Sequential: 1-4                                  [1, 1000]                 --\n",
       "│    └─Linear: 2-13                                [1, 1000]                 1,025,000\n",
       "====================================================================================================\n",
       "Total params: 7,978,856\n",
       "Trainable params: 7,978,856\n",
       "Non-trainable params: 0\n",
       "Total mult-adds (G): 2.83\n",
       "====================================================================================================\n",
       "Input size (MB): 0.60\n",
       "Forward/backward pass size (MB): 180.54\n",
       "Params size (MB): 31.92\n",
       "Estimated Total Size (MB): 213.06\n",
       "===================================================================================================="
      ]
     },
     "execution_count": 15,
     "metadata": {},
     "output_type": "execute_result"
    }
   ],
   "source": [
    "summary(d121, (1, 3, 224, 224))"
   ]
  },
  {
   "cell_type": "code",
   "execution_count": null,
   "id": "882bf305-8ec2-427c-b13f-557fbb24e554",
   "metadata": {},
   "outputs": [],
   "source": []
  }
 ],
 "metadata": {
  "kernelspec": {
   "display_name": "Python 3 (ipykernel)",
   "language": "python",
   "name": "python3"
  },
  "language_info": {
   "codemirror_mode": {
    "name": "ipython",
    "version": 3
   },
   "file_extension": ".py",
   "mimetype": "text/x-python",
   "name": "python",
   "nbconvert_exporter": "python",
   "pygments_lexer": "ipython3",
   "version": "3.9.4"
  }
 },
 "nbformat": 4,
 "nbformat_minor": 5
}
