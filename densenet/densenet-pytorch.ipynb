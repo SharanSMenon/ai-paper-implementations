{
 "cells": [
  {
   "cell_type": "code",
   "execution_count": 1,
   "id": "cfea2d01-6e62-447b-9039-510a3fb20270",
   "metadata": {},
   "outputs": [],
   "source": [
    "import torch\n",
    "from torch import nn, optim\n",
    "import math\n",
    "import os\n",
    "from torchinfo import summary"
   ]
  },
  {
   "cell_type": "code",
   "execution_count": null,
   "id": "77cac810-aadb-45cd-b07e-4184cd59c823",
   "metadata": {},
   "outputs": [],
   "source": []
  },
  {
   "cell_type": "code",
   "execution_count": null,
   "id": "7115c09f-5b7e-4ea7-a7f7-ff48f012deb4",
   "metadata": {},
   "outputs": [],
   "source": []
  },
  {
   "cell_type": "code",
   "execution_count": null,
   "id": "94be36b4-7de3-4c84-b0d3-59dd7a313640",
   "metadata": {},
   "outputs": [],
   "source": []
  },
  {
   "cell_type": "code",
   "execution_count": null,
   "id": "2bf07ad4-a5cc-4b48-984a-bb12fad328a9",
   "metadata": {},
   "outputs": [],
   "source": []
  },
  {
   "cell_type": "code",
   "execution_count": null,
   "id": "024d3c9f-a694-4885-bd9b-f7279ca233bd",
   "metadata": {},
   "outputs": [],
   "source": []
  },
  {
   "cell_type": "code",
   "execution_count": null,
   "id": "e23c3aa4-0858-4a5c-95e6-0b50b0abb8bb",
   "metadata": {},
   "outputs": [],
   "source": []
  },
  {
   "cell_type": "code",
   "execution_count": null,
   "id": "1fd21a7a-d1af-493a-b4b0-9553f02ec994",
   "metadata": {},
   "outputs": [],
   "source": []
  },
  {
   "cell_type": "code",
   "execution_count": null,
   "id": "280a3b9b-b1ce-43ba-8148-dd57d2ad5011",
   "metadata": {},
   "outputs": [],
   "source": [
    "class DenseNet(nn.Module):\n",
    "    def __init__(self, n_classes=1000):\n",
    "        pass\n",
    "    def forward(self, x):\n",
    "        return x"
   ]
  },
  {
   "cell_type": "code",
   "execution_count": null,
   "id": "700fbba0-19ef-4b94-bc08-822dd46300d7",
   "metadata": {},
   "outputs": [],
   "source": [
    "def densenet121(n_classes=1000):\n",
    "    return DenseNet(n_classes=n_classes)\n",
    "def densenet161(n_classes=1000):\n",
    "    return DenseNet(n_classes=n_classes)\n",
    "def densenet169(n_classes=1000):\n",
    "    return DenseNet(n_classes=n_classes)\n",
    "def densenet201(n_classes=1000):\n",
    "    return DenseNet(n_classes=n_classes)"
   ]
  },
  {
   "cell_type": "code",
   "execution_count": null,
   "id": "146f3e5f-160e-434d-ae60-f6afa291d6b7",
   "metadata": {},
   "outputs": [],
   "source": [
    "d121 = densenet121()\n",
    "d161 = densenet161()\n",
    "d169 = densenet169()\n",
    "d201 = densenet201()"
   ]
  },
  {
   "cell_type": "code",
   "execution_count": null,
   "id": "f104a573-336d-4ad9-b72e-a4455d7d4187",
   "metadata": {},
   "outputs": [],
   "source": [
    "models = [d121, d161, d169, d210]"
   ]
  },
  {
   "cell_type": "code",
   "execution_count": null,
   "id": "e6e3f9ce-ba69-4d48-abcd-be1595855320",
   "metadata": {},
   "outputs": [],
   "source": [
    "def fmat(n):\n",
    "    return \"{:.2f}M\".format(n / 1e6)"
   ]
  },
  {
   "cell_type": "code",
   "execution_count": null,
   "id": "84c45209-7570-4fd0-a6a7-5fbe2849e0d9",
   "metadata": {},
   "outputs": [],
   "source": [
    "def params(model, f=True):\n",
    "    s = sum(p.numel() for p in model.parameters() if p.requires_grad)\n",
    "    return fmat(s) if f else s"
   ]
  },
  {
   "cell_type": "code",
   "execution_count": null,
   "id": "239b635a-303c-4a00-b462-b225eff81f91",
   "metadata": {},
   "outputs": [],
   "source": [
    "import os\n",
    "def print_size_of_model(model):\n",
    "    torch.save(model.state_dict(), \"temp.p\")\n",
    "    print('Size (MB):', os.path.getsize(\"temp.p\")/1e6)\n",
    "    os.remove('temp.p')"
   ]
  },
  {
   "cell_type": "code",
   "execution_count": null,
   "id": "30a632d9-cc8a-4db4-95c0-f5c584d709df",
   "metadata": {},
   "outputs": [],
   "source": [
    "for m in models:\n",
    "    print(params(m))"
   ]
  },
  {
   "cell_type": "code",
   "execution_count": null,
   "id": "00b764e7-9d6c-4aab-b29f-7d9e696f65cb",
   "metadata": {},
   "outputs": [],
   "source": [
    "for m in models:\n",
    "    print_size_of_model(m)"
   ]
  }
 ],
 "metadata": {
  "kernelspec": {
   "display_name": "Python 3 (ipykernel)",
   "language": "python",
   "name": "python3"
  },
  "language_info": {
   "codemirror_mode": {
    "name": "ipython",
    "version": 3
   },
   "file_extension": ".py",
   "mimetype": "text/x-python",
   "name": "python",
   "nbconvert_exporter": "python",
   "pygments_lexer": "ipython3",
   "version": "3.9.4"
  }
 },
 "nbformat": 4,
 "nbformat_minor": 5
}
