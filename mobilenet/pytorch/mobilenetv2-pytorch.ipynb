{
 "cells": [
  {
   "cell_type": "markdown",
   "id": "91c4bc90-3235-410e-a4ee-eb077a5bde3c",
   "metadata": {},
   "source": [
    "# MobileNet V2 in PyTorch\n",
    "\n",
    "Based on this [paper](https://arxiv.org/pdf/1801.04381.pdf)"
   ]
  },
  {
   "cell_type": "code",
   "execution_count": 1,
   "id": "5ba923dd-f85f-4474-ba8b-9d959abaabdd",
   "metadata": {},
   "outputs": [],
   "source": [
    "import torch\n",
    "from torch import nn\n",
    "from torchinfo import summary"
   ]
  },
  {
   "cell_type": "code",
   "execution_count": 2,
   "id": "694b13d1-1532-47f6-a27b-71ac8781256e",
   "metadata": {},
   "outputs": [],
   "source": [
    "def conv_block(in_channels, out_channels, kernel_size=3, \n",
    "               stride=1, padding=0, groups=1,\n",
    "               bias=False, bn=True, act = True):\n",
    "    layers = [\n",
    "        nn.Conv2d(in_channels, out_channels, kernel_size, stride=stride, \n",
    "                  padding=padding, groups=groups, bias=bias),\n",
    "        nn.BatchNorm2d(out_channels) if bn else nn.Identity(),\n",
    "        nn.ReLU6() if act else nn.Identity()\n",
    "    ]\n",
    "    return nn.Sequential(*layers)"
   ]
  },
  {
   "cell_type": "code",
   "execution_count": 3,
   "id": "df537c6b-9d20-4acc-8f94-3aac66b0e04a",
   "metadata": {},
   "outputs": [],
   "source": [
    "class MBConv(nn.Module):\n",
    "    def __init__(self, n_in, n_out, expansion, kernel_size=3, stride=1, dropout=0.1):\n",
    "        super(MBConv, self).__init__()\n",
    "        self.skip_connection = (n_in == n_out) and (stride == 1)\n",
    "        padding = (kernel_size-1)//2\n",
    "        expanded = expansion*n_in\n",
    "        \n",
    "        self.expand_pw = nn.Identity() if expansion == 1 else conv_block(n_in, expanded, kernel_size=1)\n",
    "        self.depthwise = conv_block(expanded, expanded, kernel_size=kernel_size, \n",
    "                                    stride=stride, padding=padding, groups=expanded)\n",
    "        self.reduce_pw = conv_block(expanded, n_out, kernel_size=1, act=False)\n",
    "        self.dropout = nn.Dropout(dropout)\n",
    "        \n",
    "    def forward(self, x):\n",
    "        residual = x\n",
    "        x = self.expand_pw(x)\n",
    "        x = self.depthwise(x)\n",
    "        x = self.reduce_pw(x)\n",
    "        if self.skip_connection:\n",
    "            x = self.dropout(x)\n",
    "            x = x + residual\n",
    "        return x"
   ]
  },
  {
   "cell_type": "code",
   "execution_count": 4,
   "id": "440af4bb-f14f-44cc-88d8-aa4c2b42cf7c",
   "metadata": {},
   "outputs": [],
   "source": [
    "def mbconv1(n_in, n_out, kernel_size=3, stride=1, dropout=0.1):\n",
    "    return MBConv(n_in, n_out, 1, kernel_size=kernel_size, stride=stride, dropout=dropout)"
   ]
  },
  {
   "cell_type": "code",
   "execution_count": 5,
   "id": "3a64b746-d796-4cba-b888-79e51df06a8b",
   "metadata": {},
   "outputs": [],
   "source": [
    "def mbconv6(n_in, n_out, kernel_size=3, stride=1, dropout=0.1):\n",
    "    return MBConv(n_in, n_out, 6, kernel_size=kernel_size, stride=stride, dropout=dropout)"
   ]
  },
  {
   "cell_type": "code",
   "execution_count": 6,
   "id": "f91543c8-95e3-4a62-8235-6e10cbdd6988",
   "metadata": {},
   "outputs": [],
   "source": [
    "def create_stage(n_in, n_out, num_layers, layer=mbconv6, \n",
    "                 kernel_size=3, stride=1, ps=0):\n",
    "    \"\"\"\n",
    "    A utility for creating a single EfficientNet stage.\n",
    "    \"\"\"\n",
    "    layers = [layer(n_in, n_out, kernel_size=kernel_size,\n",
    "                       stride=stride, dropout=ps)]\n",
    "    layers += [layer(n_out, n_out, kernel_size=kernel_size,\n",
    "                        dropout=ps) for _ in range(num_layers-1)]\n",
    "    return nn.Sequential(*layers)"
   ]
  },
  {
   "cell_type": "code",
   "execution_count": 7,
   "id": "594bc1d0-ead0-49f4-9513-b084584e0cbc",
   "metadata": {},
   "outputs": [],
   "source": [
    "### Obtained from Paper ###\n",
    "widths = [32, 16, 24, 32, 64, 96, 160, 320, 1280]\n",
    "depths = [1, 2, 3, 4, 3, 3, 1]\n",
    "strides = [1, 2, 2, 2, 1, 2, 1]\n",
    "ps = [0, 0.029, 0.057, 0.086, 0.114, 0.143, 0.171]"
   ]
  },
  {
   "cell_type": "code",
   "execution_count": 8,
   "id": "eee097bf-14f3-4e57-9a32-9fe06b3e502b",
   "metadata": {},
   "outputs": [],
   "source": [
    "class MobileNetV2(nn.Module):\n",
    "    \"\"\"\n",
    "    \"\"\"\n",
    "    def __init__(self, n_classes=1000):\n",
    "        super(MobileNetV2, self).__init__()\n",
    "        \n",
    "        self.stem = conv_block(3, widths[0], stride=2, padding=1)\n",
    "        stages = [\n",
    "            create_stage(widths[i], widths[i+1], depths[i], layer= mbconv1 if i==0 else mbconv6, \n",
    "                         stride=strides[i], ps=ps[i]) for i in range(7)\n",
    "        ]\n",
    "        self.stages = nn.Sequential(*stages)\n",
    "        self.pre = conv_block(widths[-2], widths[-1], kernel_size=1)\n",
    "        self.pool_flatten = nn.Sequential(nn.AdaptiveAvgPool2d(1), nn.Flatten())\n",
    "        self.head = nn.Sequential(\n",
    "            nn.Linear(widths[-1], n_classes)\n",
    "        )\n",
    "            \n",
    "    def forward(self, x):\n",
    "        x = self.stem(x)\n",
    "        x = self.stages(x)\n",
    "        x = self.pre(x)\n",
    "        x = self.pool_flatten(x)\n",
    "        x = self.head(x)\n",
    "        return x"
   ]
  },
  {
   "cell_type": "code",
   "execution_count": 9,
   "id": "d03f2081-fd56-4c06-8188-40d68b1b18ec",
   "metadata": {},
   "outputs": [],
   "source": [
    "model = MobileNetV2()"
   ]
  },
  {
   "cell_type": "code",
   "execution_count": 10,
   "id": "9f3fc207-9596-49ee-b079-b495c08da44a",
   "metadata": {},
   "outputs": [
    {
     "name": "stdout",
     "output_type": "stream",
     "text": [
      "CPU times: user 1.24 s, sys: 951 ms, total: 2.19 s\n",
      "Wall time: 817 ms\n"
     ]
    },
    {
     "data": {
      "text/plain": [
       "torch.Size([16, 1000])"
      ]
     },
     "execution_count": 10,
     "metadata": {},
     "output_type": "execute_result"
    }
   ],
   "source": [
    "%%time\n",
    "inp = torch.randn(16, 3, 224, 224)\n",
    "model(inp).shape"
   ]
  },
  {
   "cell_type": "code",
   "execution_count": 11,
   "id": "f35cc511-4dfc-4e37-82c3-8dc16df5eefc",
   "metadata": {},
   "outputs": [],
   "source": [
    "import os\n",
    "def print_size_of_model(model):\n",
    "    torch.save(model.state_dict(), \"temp.p\")\n",
    "    print('Size (MB):', os.path.getsize(\"temp.p\")/1e6)\n",
    "    os.remove('temp.p')"
   ]
  },
  {
   "cell_type": "code",
   "execution_count": 12,
   "id": "82724e83-4231-4c7e-a094-1c491889bd37",
   "metadata": {},
   "outputs": [
    {
     "name": "stdout",
     "output_type": "stream",
     "text": [
      "Size (MB): 14.261773\n"
     ]
    }
   ],
   "source": [
    "print_size_of_model(model)"
   ]
  },
  {
   "cell_type": "code",
   "execution_count": 13,
   "id": "1396aa4f-1674-4f16-b33d-0d8d1c3b69a9",
   "metadata": {},
   "outputs": [],
   "source": [
    "def fmat(n):\n",
    "    return \"{:.2f}M\".format(n / 1_000_000)"
   ]
  },
  {
   "cell_type": "code",
   "execution_count": 14,
   "id": "9b2aeb19-ddc1-4e21-b174-e09c97f74c3e",
   "metadata": {},
   "outputs": [],
   "source": [
    "def params(model, f=True):\n",
    "    s = sum(p.numel() for p in model.parameters() if p.requires_grad)\n",
    "    return fmat(s) if f else s"
   ]
  },
  {
   "cell_type": "code",
   "execution_count": 15,
   "id": "7a07e384-24bc-4b14-ae9f-3a16d0420f41",
   "metadata": {},
   "outputs": [
    {
     "data": {
      "text/plain": [
       "'3.50M'"
      ]
     },
     "execution_count": 15,
     "metadata": {},
     "output_type": "execute_result"
    }
   ],
   "source": [
    "params(model)"
   ]
  },
  {
   "cell_type": "code",
   "execution_count": 16,
   "id": "3b8a7506-472f-479c-801d-62fb6fb0c259",
   "metadata": {},
   "outputs": [
    {
     "data": {
      "text/plain": [
       "===============================================================================================\n",
       "Layer (type:depth-idx)                        Output Shape              Param #\n",
       "===============================================================================================\n",
       "MobileNetV2                                   --                        --\n",
       "├─Sequential: 1-1                             [1, 32, 112, 112]         --\n",
       "│    └─Conv2d: 2-1                            [1, 32, 112, 112]         864\n",
       "│    └─BatchNorm2d: 2-2                       [1, 32, 112, 112]         64\n",
       "│    └─ReLU6: 2-3                             [1, 32, 112, 112]         --\n",
       "├─Sequential: 1-2                             [1, 320, 7, 7]            --\n",
       "│    └─Sequential: 2-4                        [1, 16, 112, 112]         --\n",
       "│    │    └─MBConv: 3-1                       [1, 16, 112, 112]         896\n",
       "│    └─Sequential: 2-5                        [1, 24, 56, 56]           --\n",
       "│    │    └─MBConv: 3-2                       [1, 24, 56, 56]           5,136\n",
       "│    │    └─MBConv: 3-3                       [1, 24, 56, 56]           8,832\n",
       "│    └─Sequential: 2-6                        [1, 32, 28, 28]           --\n",
       "│    │    └─MBConv: 3-4                       [1, 32, 28, 28]           10,000\n",
       "│    │    └─MBConv: 3-5                       [1, 32, 28, 28]           14,848\n",
       "│    │    └─MBConv: 3-6                       [1, 32, 28, 28]           14,848\n",
       "│    └─Sequential: 2-7                        [1, 64, 14, 14]           --\n",
       "│    │    └─MBConv: 3-7                       [1, 64, 14, 14]           21,056\n",
       "│    │    └─MBConv: 3-8                       [1, 64, 14, 14]           54,272\n",
       "│    │    └─MBConv: 3-9                       [1, 64, 14, 14]           54,272\n",
       "│    │    └─MBConv: 3-10                      [1, 64, 14, 14]           54,272\n",
       "│    └─Sequential: 2-8                        [1, 96, 14, 14]           --\n",
       "│    │    └─MBConv: 3-11                      [1, 96, 14, 14]           66,624\n",
       "│    │    └─MBConv: 3-12                      [1, 96, 14, 14]           118,272\n",
       "│    │    └─MBConv: 3-13                      [1, 96, 14, 14]           118,272\n",
       "│    └─Sequential: 2-9                        [1, 160, 7, 7]            --\n",
       "│    │    └─MBConv: 3-14                      [1, 160, 7, 7]            155,264\n",
       "│    │    └─MBConv: 3-15                      [1, 160, 7, 7]            320,000\n",
       "│    │    └─MBConv: 3-16                      [1, 160, 7, 7]            320,000\n",
       "│    └─Sequential: 2-10                       [1, 320, 7, 7]            --\n",
       "│    │    └─MBConv: 3-17                      [1, 320, 7, 7]            473,920\n",
       "├─Sequential: 1-3                             [1, 1280, 7, 7]           --\n",
       "│    └─Conv2d: 2-11                           [1, 1280, 7, 7]           409,600\n",
       "│    └─BatchNorm2d: 2-12                      [1, 1280, 7, 7]           2,560\n",
       "│    └─ReLU6: 2-13                            [1, 1280, 7, 7]           --\n",
       "├─Sequential: 1-4                             [1, 1280]                 --\n",
       "│    └─AdaptiveAvgPool2d: 2-14                [1, 1280, 1, 1]           --\n",
       "│    └─Flatten: 2-15                          [1, 1280]                 --\n",
       "├─Sequential: 1-5                             [1, 1000]                 --\n",
       "│    └─Linear: 2-16                           [1, 1000]                 1,281,000\n",
       "===============================================================================================\n",
       "Total params: 3,504,872\n",
       "Trainable params: 3,504,872\n",
       "Non-trainable params: 0\n",
       "Total mult-adds (M): 300.81\n",
       "===============================================================================================\n",
       "Input size (MB): 0.60\n",
       "Forward/backward pass size (MB): 106.86\n",
       "Params size (MB): 14.02\n",
       "Estimated Total Size (MB): 121.48\n",
       "==============================================================================================="
      ]
     },
     "execution_count": 16,
     "metadata": {},
     "output_type": "execute_result"
    }
   ],
   "source": [
    "summary(model, (1, 3, 224, 224))"
   ]
  }
 ],
 "metadata": {
  "kernelspec": {
   "display_name": "Python 3 (ipykernel)",
   "language": "python",
   "name": "python3"
  },
  "language_info": {
   "codemirror_mode": {
    "name": "ipython",
    "version": 3
   },
   "file_extension": ".py",
   "mimetype": "text/x-python",
   "name": "python",
   "nbconvert_exporter": "python",
   "pygments_lexer": "ipython3",
   "version": "3.9.4"
  }
 },
 "nbformat": 4,
 "nbformat_minor": 5
}
