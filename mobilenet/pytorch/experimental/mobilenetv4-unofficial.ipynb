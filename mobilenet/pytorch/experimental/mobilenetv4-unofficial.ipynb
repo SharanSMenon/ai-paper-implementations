{
 "cells": [
  {
   "cell_type": "markdown",
   "id": "0e712b12-c9d4-4365-9390-5c1a0010fa7c",
   "metadata": {},
   "source": [
    "# Unofficial MobileNet v4 in PyTorch"
   ]
  },
  {
   "cell_type": "code",
   "execution_count": 1,
   "id": "a4b2ebc5-4139-48ad-951b-5378e6f9a25f",
   "metadata": {},
   "outputs": [],
   "source": [
    "import torch\n",
    "from torch import nn\n",
    "import torch.nn.functional as F\n",
    "from torchinfo import summary"
   ]
  },
  {
   "cell_type": "code",
   "execution_count": 2,
   "id": "a4cfd7fa-729c-4185-9f96-caaf1838cbfe",
   "metadata": {},
   "outputs": [],
   "source": [
    "def conv_block(in_channels, out_channels, kernel_size=3, \n",
    "               stride=1, padding=0, groups=1,\n",
    "               bias=False, bn=True, act = None):\n",
    "    layers = [\n",
    "        nn.Conv2d(in_channels, out_channels, kernel_size, stride=stride, \n",
    "                  padding=padding, groups=groups, bias=bias),\n",
    "        nn.BatchNorm2d(out_channels) if bn else nn.Identity(),\n",
    "        act if act else nn.Identity()\n",
    "    ]\n",
    "    return nn.Sequential(*layers)"
   ]
  },
  {
   "cell_type": "code",
   "execution_count": 3,
   "id": "14b3e74f-3d58-4b09-9c3e-493ae413697d",
   "metadata": {},
   "outputs": [],
   "source": [
    "class SEBlock(nn.Module):\n",
    "    def __init__(self, c, r=4):\n",
    "        super(SEBlock, self).__init__()\n",
    "        self.squeeze = nn.AdaptiveMaxPool2d(1)\n",
    "        self.excitation = nn.Sequential(\n",
    "            nn.Conv2d(c, c // r, kernel_size=1),\n",
    "            nn.SiLU(),\n",
    "            nn.Conv2d(c // r, c, kernel_size=1),\n",
    "            nn.Hardsigmoid()\n",
    "        )\n",
    "    def forward(self, x):\n",
    "        s = self.squeeze(x)\n",
    "        e = self.excitation(s)\n",
    "        return x * e"
   ]
  },
  {
   "cell_type": "code",
   "execution_count": 4,
   "id": "464004d3-d679-4804-8bda-6a9e49a744ba",
   "metadata": {},
   "outputs": [],
   "source": [
    "class MBConv(nn.Module):\n",
    "    \"\"\"\n",
    "    An implementation of the Inverted Residual from the paper. Borrowed from the EfficientNet code.\n",
    "    \"\"\"\n",
    "    def __init__(self, n_in, n_out, exp_size, act, kernel_size=3, stride=1, dropout=0.1, use_se=True):\n",
    "        super(MBConv, self).__init__()\n",
    "        self.skip_connection = (n_in == n_out) and (stride == 1)\n",
    "        padding = (kernel_size-1)//2\n",
    "        \n",
    "        self.expand_pw = conv_block(n_in, exp_size, kernel_size=1, act=act) if n_in != exp_size else nn.Identity()\n",
    "        self.depthwise = conv_block(exp_size, exp_size, kernel_size=kernel_size, \n",
    "                                    stride=stride, padding=padding, groups=exp_size, act=act)\n",
    "        self.se = SEBlock(exp_size) if use_se else nn.Identity()\n",
    "        self.reduce_pw = conv_block(exp_size, n_out, kernel_size=1, act=None)\n",
    "        self.dropout = nn.Dropout(dropout)\n",
    "        \n",
    "    def forward(self, x):\n",
    "        residual = x\n",
    "        x = self.expand_pw(x)\n",
    "        x = self.depthwise(x)\n",
    "        x = self.se(x)\n",
    "        x = self.reduce_pw(x)\n",
    "        if self.skip_connection:\n",
    "            x = self.dropout(x)\n",
    "            x = x + residual\n",
    "        return x"
   ]
  },
  {
   "cell_type": "code",
   "execution_count": 25,
   "id": "901af68b-d729-4cfa-910b-8ce8af724716",
   "metadata": {},
   "outputs": [],
   "source": [
    "class FusedMBConv(nn.Module):\n",
    "    def __init__(self, n_in, n_out, exp_size, act, kernel_size=3, stride=1, dropout=0.1, use_se=False):\n",
    "        super(FusedMBConv, self).__init__()\n",
    "        self.skip_connection = (n_in == n_out) and (stride == 1)\n",
    "        padding = (kernel_size-1)//2\n",
    "        expanded = exp_size\n",
    "        \n",
    "        self.expand_pw = conv_block(n_in, expanded, kernel_size=3, stride=stride, padding=1)\n",
    "        self.reduce_pw = conv_block(expanded, n_out, kernel_size=1, padding=0, act=act)\n",
    "        \n",
    "        if exp_size == n_out:\n",
    "            self.reduce_pw = nn.Identity() # for consistency with timm implementation\n",
    "            self.expand_pw = conv_block(n_in, n_out, kernel_size=3, stride=stride, padding=1, act=act)\n",
    "        self.dropout = nn.Dropout(dropout)\n",
    "        \n",
    "    def forward(self, x):\n",
    "        residual = x\n",
    "        x = self.expand_pw(x)\n",
    "        x = self.reduce_pw(x)\n",
    "        if self.skip_connection:\n",
    "            x = self.dropout(x)\n",
    "            x = x + residual\n",
    "        return x"
   ]
  },
  {
   "cell_type": "code",
   "execution_count": 26,
   "id": "71ca24ef-193d-4cbe-bb2a-4f06b9bd1085",
   "metadata": {},
   "outputs": [],
   "source": [
    "act_map = [nn.ReLU6(), nn.Hardswish()]\n",
    "conv_map = [FusedMBConv, MBConv]"
   ]
  },
  {
   "cell_type": "code",
   "execution_count": 53,
   "id": "1ad1a6fc-ea31-4dd9-8ec7-d5a90017aa8a",
   "metadata": {},
   "outputs": [],
   "source": [
    "CONFIGS = {\n",
    "    \"large\": {\n",
    "        \"kernel_sizes\": [3, 3, 3, 3, 3, 5, 3, 3, 3, 3, 3, 3, 5, 5, 5],\n",
    "        \"widths\": [16, 16, 24, 24, 40, 40, 40, 80, 80, 80, 80, 112, 112, 160, 160, 160],\n",
    "        \"expansion_size\": [16, 64, 72, 72, 120, 120, 240, 200, 184, 184, 480, 672, 672, 960, 960],\n",
    "        \"convtype\":[0, 0, 0, 0, 0, 1, 1, 1, 1, 1, 1, 1, 1, 1, 1],\n",
    "        \"se\": [0, 0, 0, 1, 1, 1, 0, 0, 0, 0, 1, 1, 1, 1, 1],\n",
    "        \"act\": [0, 0, 0, 0, 0, 0, 1, 1, 1, 1, 1, 1, 1, 1, 1],\n",
    "        \"strides\": [1, 2, 1, 2, 1, 1, 2, 1, 1, 1, 1, 1, 2, 1, 1],\n",
    "        \"out_width\": 1280\n",
    "    },\n",
    "    \"small\": {\n",
    "        \"kernel_sizes\": [3, 3, 3, 3, 5, 5, 5, 5, 5, 5, 5],\n",
    "        \"widths\": [16, 16, 24, 24, 40, 40, 40, 48, 48, 96, 96, 96],\n",
    "        \"expansion_size\": [16, 72, 88, 96, 240, 240, 120, 144, 288, 576, 576],\n",
    "        \"convtype\": [0, 0, 0, 0, 1, 1, 1, 1, 1, 1, 1],\n",
    "        \"se\": [1, 0, 0, 1, 1, 1, 1, 1, 1, 1, 1],\n",
    "        \"act\": [0, 0, 0, 1, 1, 1, 1, 1, 1, 1, 1, 1],\n",
    "        \"strides\": [2, 2, 1, 2, 1, 1, 1, 1, 2, 1, 1, 1],\n",
    "        \"out_width\": 1024\n",
    "    }\n",
    "}"
   ]
  },
  {
   "cell_type": "code",
   "execution_count": 54,
   "id": "664867ad-72d8-42f4-86eb-2b767464a9ce",
   "metadata": {},
   "outputs": [],
   "source": [
    "class MobileNetV4(nn.Module):\n",
    "    \"\"\"\n",
    "    Generic MobileNet V4 class. Model is determined by CONFIGS object defined above.\n",
    "    \"\"\"\n",
    "    def __init__(self, cfg, n_classes=1000):\n",
    "        super(MobileNetV4, self).__init__()\n",
    "        kernel_sizes, widths, expansion_size, se, act, strides = cfg[\"kernel_sizes\"], cfg[\"widths\"], cfg[\"expansion_size\"], cfg[\"se\"], cfg[\"act\"], cfg[\"strides\"]\n",
    "        conv_type = cfg[\"convtype\"]\n",
    "        \n",
    "        n_layers = min(len(widths), len(se), len(act), len(kernel_sizes), len(strides))\n",
    "        \n",
    "        self.cfg = cfg\n",
    "        self.stem = conv_block(3, widths[0], stride=2, padding=1)\n",
    "        \n",
    "        layers = []\n",
    "        for i in range(n_layers):\n",
    "            block = conv_map[conv_type[i]](widths[i], widths[i + 1], expansion_size[i], \n",
    "                           act=act_map[act[i]], kernel_size=kernel_sizes[i], \n",
    "                           stride=strides[i], use_se = se[i] == 1)\n",
    "\n",
    "            layers.append(block)\n",
    "            \n",
    "        self.layers = nn.Sequential(*layers)\n",
    "        self.pre = nn.Sequential(\n",
    "            conv_block(widths[-1], expansion_size[-1], kernel_size=1, act=nn.Hardswish()),\n",
    "        )\n",
    "        self.head = nn.Sequential(\n",
    "            nn.Linear(expansion_size[-1], cfg['out_width']),\n",
    "            nn.Hardswish(),\n",
    "            nn.Dropout(0.2),\n",
    "            nn.Linear(cfg[\"out_width\"], n_classes)\n",
    "\n",
    "        )\n",
    "            \n",
    "    def forward(self, x):\n",
    "        x = self.stem(x)\n",
    "        x = self.layers(x)\n",
    "        x = self.pre(x)\n",
    "        x = F.avg_pool2d(x, 7)\n",
    "        x = torch.flatten(x, 1)\n",
    "        x = self.head(x)\n",
    "        return x"
   ]
  },
  {
   "cell_type": "code",
   "execution_count": 55,
   "id": "d1ddede6-c6aa-4c1f-9acc-686eb24048a8",
   "metadata": {},
   "outputs": [],
   "source": [
    "def mobilenetv4_large(n_classes = 1000):\n",
    "    return MobileNetV4(CONFIGS[\"large\"], n_classes=n_classes)\n",
    "def mobilenetv4_small(n_classes = 1000):\n",
    "    return MobileNetV4(CONFIGS[\"small\"], n_classes=n_classes)"
   ]
  },
  {
   "cell_type": "code",
   "execution_count": 56,
   "id": "254ea6c7-df83-494a-9910-029c932b2c13",
   "metadata": {},
   "outputs": [],
   "source": [
    "m_large = mobilenetv4_large()\n",
    "m_small = mobilenetv4_small()"
   ]
  },
  {
   "cell_type": "code",
   "execution_count": 58,
   "id": "4a3ce130-b14f-4d8b-a93f-415cac882eac",
   "metadata": {},
   "outputs": [
    {
     "name": "stdout",
     "output_type": "stream",
     "text": [
      "CPU times: user 1.3 s, sys: 569 ms, total: 1.86 s\n",
      "Wall time: 790 ms\n"
     ]
    },
    {
     "data": {
      "text/plain": [
       "(torch.Size([16, 1000]), torch.Size([16, 1000]))"
      ]
     },
     "execution_count": 58,
     "metadata": {},
     "output_type": "execute_result"
    }
   ],
   "source": [
    "%%time\n",
    "inp = torch.randn(16, 3, 224, 224)\n",
    "m_small(inp).shape, m_large(inp).shape, "
   ]
  },
  {
   "cell_type": "code",
   "execution_count": 59,
   "id": "42cacc96-20ae-4dde-8630-efb59ab60218",
   "metadata": {},
   "outputs": [],
   "source": [
    "import os\n",
    "def print_size_of_model(model):\n",
    "    torch.save(model.state_dict(), \"temp.p\")\n",
    "    print('Size (MB):', os.path.getsize(\"temp.p\")/1e6)\n",
    "    os.remove('temp.p')"
   ]
  },
  {
   "cell_type": "code",
   "execution_count": 61,
   "id": "c2bd7a40-66be-45e2-b965-d95666ca8a1d",
   "metadata": {},
   "outputs": [
    {
     "name": "stdout",
     "output_type": "stream",
     "text": [
      "Size (MB): 10.414489\n",
      "Size (MB): 22.347997\n"
     ]
    }
   ],
   "source": [
    "print_size_of_model(m_small)\n",
    "print_size_of_model(m_large)"
   ]
  },
  {
   "cell_type": "code",
   "execution_count": 62,
   "id": "830b46d1-f53c-480e-8e55-de531ce24342",
   "metadata": {},
   "outputs": [],
   "source": [
    "def fmat(n):\n",
    "    return \"{:.2f}M\".format(n / 1_000_000)"
   ]
  },
  {
   "cell_type": "code",
   "execution_count": 63,
   "id": "46579b37-a9aa-4260-a341-38304bf5fc93",
   "metadata": {},
   "outputs": [],
   "source": [
    "def params(model, f=True):\n",
    "    s = sum(p.numel() for p in model.parameters() if p.requires_grad)\n",
    "    return fmat(s) if f else s"
   ]
  },
  {
   "cell_type": "code",
   "execution_count": 64,
   "id": "f50e3fc9-82df-40c9-a447-e3f26af544d7",
   "metadata": {},
   "outputs": [
    {
     "data": {
      "text/plain": [
       "('2.57M', '5.54M')"
      ]
     },
     "execution_count": 64,
     "metadata": {},
     "output_type": "execute_result"
    }
   ],
   "source": [
    "params(m_small), params(m_large)"
   ]
  },
  {
   "cell_type": "code",
   "execution_count": 66,
   "id": "479cf412-cc27-4992-bc3b-935b59087a0e",
   "metadata": {},
   "outputs": [
    {
     "data": {
      "text/plain": [
       "===============================================================================================\n",
       "Layer (type:depth-idx)                        Output Shape              Param #\n",
       "===============================================================================================\n",
       "MobileNetV4                                   --                        --\n",
       "├─Sequential: 1-1                             [1, 16, 112, 112]         --\n",
       "│    └─Conv2d: 2-1                            [1, 16, 112, 112]         432\n",
       "│    └─BatchNorm2d: 2-2                       [1, 16, 112, 112]         32\n",
       "│    └─Identity: 2-3                          [1, 16, 112, 112]         --\n",
       "├─Sequential: 1-2                             [1, 96, 7, 7]             --\n",
       "│    └─FusedMBConv: 2-4                       [1, 16, 56, 56]           --\n",
       "│    │    └─Sequential: 3-1                   [1, 16, 56, 56]           2,336\n",
       "│    │    └─Identity: 3-2                     [1, 16, 56, 56]           --\n",
       "│    └─FusedMBConv: 2-5                       [1, 24, 28, 28]           --\n",
       "│    │    └─Sequential: 3-3                   [1, 72, 28, 28]           10,512\n",
       "│    │    └─Sequential: 3-4                   [1, 24, 28, 28]           1,776\n",
       "│    └─FusedMBConv: 2-6                       [1, 24, 28, 28]           --\n",
       "│    │    └─Sequential: 3-5                   [1, 88, 28, 28]           19,184\n",
       "│    │    └─Sequential: 3-6                   [1, 24, 28, 28]           2,160\n",
       "│    │    └─Dropout: 3-7                      [1, 24, 28, 28]           --\n",
       "│    └─FusedMBConv: 2-7                       [1, 40, 14, 14]           --\n",
       "│    │    └─Sequential: 3-8                   [1, 96, 14, 14]           20,928\n",
       "│    │    └─Sequential: 3-9                   [1, 40, 14, 14]           3,920\n",
       "│    └─MBConv: 2-8                            [1, 40, 14, 14]           --\n",
       "│    │    └─Sequential: 3-10                  [1, 240, 14, 14]          10,080\n",
       "│    │    └─Sequential: 3-11                  [1, 240, 14, 14]          6,480\n",
       "│    │    └─SEBlock: 3-12                     [1, 240, 14, 14]          29,100\n",
       "│    │    └─Sequential: 3-13                  [1, 40, 14, 14]           9,680\n",
       "│    │    └─Dropout: 3-14                     [1, 40, 14, 14]           --\n",
       "│    └─MBConv: 2-9                            [1, 40, 14, 14]           --\n",
       "│    │    └─Sequential: 3-15                  [1, 240, 14, 14]          10,080\n",
       "│    │    └─Sequential: 3-16                  [1, 240, 14, 14]          6,480\n",
       "│    │    └─SEBlock: 3-17                     [1, 240, 14, 14]          29,100\n",
       "│    │    └─Sequential: 3-18                  [1, 40, 14, 14]           9,680\n",
       "│    │    └─Dropout: 3-19                     [1, 40, 14, 14]           --\n",
       "│    └─MBConv: 2-10                           [1, 48, 14, 14]           --\n",
       "│    │    └─Sequential: 3-20                  [1, 120, 14, 14]          5,040\n",
       "│    │    └─Sequential: 3-21                  [1, 120, 14, 14]          3,240\n",
       "│    │    └─SEBlock: 3-22                     [1, 120, 14, 14]          7,350\n",
       "│    │    └─Sequential: 3-23                  [1, 48, 14, 14]           5,856\n",
       "│    └─MBConv: 2-11                           [1, 48, 14, 14]           --\n",
       "│    │    └─Sequential: 3-24                  [1, 144, 14, 14]          7,200\n",
       "│    │    └─Sequential: 3-25                  [1, 144, 14, 14]          3,888\n",
       "│    │    └─SEBlock: 3-26                     [1, 144, 14, 14]          10,548\n",
       "│    │    └─Sequential: 3-27                  [1, 48, 14, 14]           7,008\n",
       "│    │    └─Dropout: 3-28                     [1, 48, 14, 14]           --\n",
       "│    └─MBConv: 2-12                           [1, 96, 7, 7]             --\n",
       "│    │    └─Sequential: 3-29                  [1, 288, 14, 14]          14,400\n",
       "│    │    └─Sequential: 3-30                  [1, 288, 7, 7]            7,776\n",
       "│    │    └─SEBlock: 3-31                     [1, 288, 7, 7]            41,832\n",
       "│    │    └─Sequential: 3-32                  [1, 96, 7, 7]             27,840\n",
       "│    └─MBConv: 2-13                           [1, 96, 7, 7]             --\n",
       "│    │    └─Sequential: 3-33                  [1, 576, 7, 7]            56,448\n",
       "│    │    └─Sequential: 3-34                  [1, 576, 7, 7]            15,552\n",
       "│    │    └─SEBlock: 3-35                     [1, 576, 7, 7]            166,608\n",
       "│    │    └─Sequential: 3-36                  [1, 96, 7, 7]             55,488\n",
       "│    │    └─Dropout: 3-37                     [1, 96, 7, 7]             --\n",
       "│    └─MBConv: 2-14                           [1, 96, 7, 7]             --\n",
       "│    │    └─Sequential: 3-38                  [1, 576, 7, 7]            56,448\n",
       "│    │    └─Sequential: 3-39                  [1, 576, 7, 7]            15,552\n",
       "│    │    └─SEBlock: 3-40                     [1, 576, 7, 7]            166,608\n",
       "│    │    └─Sequential: 3-41                  [1, 96, 7, 7]             55,488\n",
       "│    │    └─Dropout: 3-42                     [1, 96, 7, 7]             --\n",
       "├─Sequential: 1-3                             [1, 576, 7, 7]            --\n",
       "│    └─Sequential: 2-15                       [1, 576, 7, 7]            --\n",
       "│    │    └─Conv2d: 3-43                      [1, 576, 7, 7]            55,296\n",
       "│    │    └─BatchNorm2d: 3-44                 [1, 576, 7, 7]            1,152\n",
       "│    │    └─Hardswish: 3-45                   [1, 576, 7, 7]            --\n",
       "├─Sequential: 1-4                             [1, 1000]                 --\n",
       "│    └─Linear: 2-16                           [1, 1024]                 590,848\n",
       "│    └─Hardswish: 2-17                        [1, 1024]                 --\n",
       "│    └─Dropout: 2-18                          [1, 1024]                 --\n",
       "│    └─Linear: 2-19                           [1, 1000]                 1,025,000\n",
       "===============================================================================================\n",
       "Total params: 2,574,426\n",
       "Trainable params: 2,574,426\n",
       "Non-trainable params: 0\n",
       "Total mult-adds (M): 80.91\n",
       "===============================================================================================\n",
       "Input size (MB): 0.60\n",
       "Forward/backward pass size (MB): 15.92\n",
       "Params size (MB): 10.30\n",
       "Estimated Total Size (MB): 26.82\n",
       "==============================================================================================="
      ]
     },
     "execution_count": 66,
     "metadata": {},
     "output_type": "execute_result"
    }
   ],
   "source": [
    "summary(m_small, (1, 3, 224, 224), depth=3)"
   ]
  },
  {
   "cell_type": "code",
   "execution_count": null,
   "id": "85a31db9-04c2-440e-9cd9-6ca836d737f2",
   "metadata": {},
   "outputs": [],
   "source": []
  }
 ],
 "metadata": {
  "kernelspec": {
   "display_name": "Python 3 (ipykernel)",
   "language": "python",
   "name": "python3"
  },
  "language_info": {
   "codemirror_mode": {
    "name": "ipython",
    "version": 3
   },
   "file_extension": ".py",
   "mimetype": "text/x-python",
   "name": "python",
   "nbconvert_exporter": "python",
   "pygments_lexer": "ipython3",
   "version": "3.9.4"
  }
 },
 "nbformat": 4,
 "nbformat_minor": 5
}
