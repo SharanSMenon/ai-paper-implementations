{
 "cells": [
  {
   "cell_type": "markdown",
   "id": "cc8cd27f-7d5f-456f-8629-cb9027434514",
   "metadata": {},
   "source": [
    "# MobileNet V3 in PyTorch\n",
    "\n",
    "Based on this [paper](https://arxiv.org/pdf/1905.02244.pdf)"
   ]
  },
  {
   "cell_type": "code",
   "execution_count": 1,
   "id": "2c5eac89-2420-44c6-a593-20227d0e64a6",
   "metadata": {},
   "outputs": [],
   "source": [
    "import torch\n",
    "from torch import nn\n",
    "import torch.nn.functional as F\n",
    "from torchinfo import summary"
   ]
  },
  {
   "cell_type": "code",
   "execution_count": 2,
   "id": "0e2987e0-fefa-44a2-b72a-a76e6ae98b0e",
   "metadata": {},
   "outputs": [],
   "source": [
    "def conv_block(in_channels, out_channels, kernel_size=3, \n",
    "               stride=1, padding=0, groups=1,\n",
    "               bias=False, bn=True, act = None):\n",
    "    layers = [\n",
    "        nn.Conv2d(in_channels, out_channels, kernel_size, stride=stride, \n",
    "                  padding=padding, groups=groups, bias=bias),\n",
    "        nn.BatchNorm2d(out_channels) if bn else nn.Identity(),\n",
    "        act if act else nn.Identity()\n",
    "    ]\n",
    "    return nn.Sequential(*layers)"
   ]
  },
  {
   "cell_type": "code",
   "execution_count": 3,
   "id": "bf20dd61-b1a2-465b-a3a1-3718660dfd47",
   "metadata": {},
   "outputs": [],
   "source": [
    "class SEBlock(nn.Module):\n",
    "    def __init__(self, c, r=4):\n",
    "        super(SEBlock, self).__init__()\n",
    "        self.squeeze = nn.AdaptiveMaxPool2d(1)\n",
    "        self.excitation = nn.Sequential(\n",
    "            nn.Conv2d(c, c // r, kernel_size=1),\n",
    "            nn.SiLU(),\n",
    "            nn.Conv2d(c // r, c, kernel_size=1),\n",
    "            nn.Hardsigmoid()\n",
    "        )\n",
    "    def forward(self, x):\n",
    "        s = self.squeeze(x)\n",
    "        e = self.excitation(s)\n",
    "        return x * e"
   ]
  },
  {
   "cell_type": "code",
   "execution_count": 4,
   "id": "86c92f5e-cc69-40b2-bc0e-5aa22c503e4f",
   "metadata": {},
   "outputs": [],
   "source": [
    "class MBConv(nn.Module):\n",
    "    \"\"\"\n",
    "    An implementation of the Inverted Residual from the paper. Borrowed from the EfficientNet code.\n",
    "    \"\"\"\n",
    "    def __init__(self, n_in, n_out, exp_size, act, kernel_size=3, stride=1, dropout=0.1, use_se=True):\n",
    "        super(MBConv, self).__init__()\n",
    "        self.skip_connection = (n_in == n_out) and (stride == 1)\n",
    "        padding = (kernel_size-1)//2\n",
    "        \n",
    "        self.expand_pw = conv_block(n_in, exp_size, kernel_size=1, act=act) if n_in != exp_size else nn.Identity()\n",
    "        self.depthwise = conv_block(exp_size, exp_size, kernel_size=kernel_size, \n",
    "                                    stride=stride, padding=padding, groups=exp_size, act=act)\n",
    "        self.se = SEBlock(exp_size) if use_se else nn.Identity()\n",
    "        self.reduce_pw = conv_block(exp_size, n_out, kernel_size=1, act=None)\n",
    "        self.dropout = nn.Dropout(dropout)\n",
    "        \n",
    "    def forward(self, x):\n",
    "        residual = x\n",
    "        x = self.expand_pw(x)\n",
    "        x = self.depthwise(x)\n",
    "        x = self.se(x)\n",
    "        x = self.reduce_pw(x)\n",
    "        if self.skip_connection:\n",
    "            x = self.dropout(x)\n",
    "            x = x + residual\n",
    "        return x"
   ]
  },
  {
   "cell_type": "code",
   "execution_count": 5,
   "id": "608934f2-a757-480a-9b18-6d700154c6b3",
   "metadata": {},
   "outputs": [],
   "source": [
    "act_map = [nn.ReLU6(), nn.Hardswish()]"
   ]
  },
  {
   "cell_type": "code",
   "execution_count": 6,
   "id": "5d60f67d-dd0c-438d-a70f-de0751b3fcc1",
   "metadata": {},
   "outputs": [],
   "source": [
    "CONFIGS = {\n",
    "    \"large\": {\n",
    "        \"kernel_sizes\": [3, 3, 3, 5, 5, 5, 3, 3, 3, 3, 3, 3, 5, 5, 5],\n",
    "        \"widths\": [16, 16, 24, 24, 40, 40, 40, 80, 80, 80, 80, 112, 112, 160, 160, 160],\n",
    "        \"expansion_size\": [16, 64, 72, 72, 120, 120, 240, 200, 184, 184, 480, 672, 672, 960, 960],\n",
    "        \"se\": [0, 0, 0, 1, 1, 1, 0, 0, 0, 0, 1, 1, 1, 1, 1],\n",
    "        \"act\": [0, 0, 0, 0, 0, 0, 1, 1, 1, 1, 1, 1, 1, 1, 1],\n",
    "        \"strides\": [1, 2, 1, 2, 1, 1, 2, 1, 1, 1, 1, 1, 2, 1, 1],\n",
    "        \"out_width\": 1280\n",
    "    },\n",
    "    \"small\": {\n",
    "        \"kernel_sizes\": [3, 3, 3, 5, 5, 5, 5, 5, 5, 5, 5],\n",
    "        \"widths\": [16, 16, 24, 24, 40, 40, 40, 48, 48, 96, 96, 96],\n",
    "        \"expansion_size\": [16, 72, 88, 96, 240, 240, 120, 144, 288, 576, 576],\n",
    "        \"se\": [1, 0, 0, 1, 1, 1, 1, 1, 1, 1, 1],\n",
    "        \"act\": [0, 0, 0, 1, 1, 1, 1, 1, 1, 1, 1, 1],\n",
    "        \"strides\": [2, 2, 1, 2, 1, 1, 1, 1, 2, 1, 1, 1],\n",
    "        \"out_width\": 1024\n",
    "    }\n",
    "}"
   ]
  },
  {
   "cell_type": "code",
   "execution_count": 7,
   "id": "126e80cd-1216-49aa-8c13-7c9249d4c099",
   "metadata": {},
   "outputs": [],
   "source": [
    "class MobileNetV3(nn.Module):\n",
    "    \"\"\"\n",
    "    Generic MobileNet V3 class. Model is determined by CONFIGS object defined above.\n",
    "    \"\"\"\n",
    "    def __init__(self, cfg, n_classes=1000):\n",
    "        super(MobileNetV3, self).__init__()\n",
    "        kernel_sizes, widths, expansion_size, se, act, strides = cfg[\"kernel_sizes\"], cfg[\"widths\"], cfg[\"expansion_size\"], cfg[\"se\"], cfg[\"act\"], cfg[\"strides\"]\n",
    "        \n",
    "        n_layers = min(len(widths), len(se), len(act), len(kernel_sizes), len(strides))\n",
    "        \n",
    "        self.cfg = cfg\n",
    "        self.stem = conv_block(3, widths[0], stride=2, padding=1)\n",
    "        \n",
    "        layers = []\n",
    "        for i in range(n_layers):\n",
    "            block = MBConv(widths[i], widths[i + 1], expansion_size[i], \n",
    "                           act=act_map[act[i]], kernel_size=kernel_sizes[i], \n",
    "                           stride=strides[i], use_se = se[i] == 1)\n",
    "\n",
    "            layers.append(block)\n",
    "            \n",
    "        self.layers = nn.Sequential(*layers)\n",
    "        self.pre = nn.Sequential(\n",
    "            conv_block(widths[-1], expansion_size[-1], kernel_size=1, act=nn.Hardswish()),\n",
    "        )\n",
    "        self.head = nn.Sequential(\n",
    "            nn.Linear(expansion_size[-1], cfg['out_width']),\n",
    "            nn.Hardswish(),\n",
    "            nn.Dropout(0.2),\n",
    "            nn.Linear(cfg[\"out_width\"], n_classes)\n",
    "\n",
    "        )\n",
    "            \n",
    "    def forward(self, x):\n",
    "        x = self.stem(x)\n",
    "        x = self.layers(x)\n",
    "        x = self.pre(x)\n",
    "        x = F.avg_pool2d(x, 7)\n",
    "        x = torch.flatten(x, 1)\n",
    "        x = self.head(x)\n",
    "        return x"
   ]
  },
  {
   "cell_type": "code",
   "execution_count": 8,
   "id": "c1e98ed6-e3ce-44f8-adbd-be4dd997a960",
   "metadata": {},
   "outputs": [],
   "source": [
    "def mobilenetv3_large(n_classes = 1000):\n",
    "    return MobileNetV3(CONFIGS[\"large\"], n_classes=n_classes)\n",
    "def mobilenetv3_small(n_classes = 1000):\n",
    "    return MobileNetV3(CONFIGS[\"small\"], n_classes=n_classes)"
   ]
  },
  {
   "cell_type": "code",
   "execution_count": 9,
   "id": "e51222cf-79f0-4ed6-ace9-a8f02424fcd7",
   "metadata": {},
   "outputs": [],
   "source": [
    "m_large = mobilenetv3_large()\n",
    "m_small = mobilenetv3_small()"
   ]
  },
  {
   "cell_type": "code",
   "execution_count": 10,
   "id": "741f5117-7e92-4fa3-a672-bdaa84dab247",
   "metadata": {
    "scrolled": true,
    "tags": []
   },
   "outputs": [
    {
     "name": "stdout",
     "output_type": "stream",
     "text": [
      "CPU times: user 464 ms, sys: 232 ms, total: 695 ms\n",
      "Wall time: 277 ms\n"
     ]
    },
    {
     "data": {
      "text/plain": [
       "torch.Size([16, 1000])"
      ]
     },
     "execution_count": 10,
     "metadata": {},
     "output_type": "execute_result"
    }
   ],
   "source": [
    "%%time\n",
    "inp = torch.randn(16, 3, 224, 224)\n",
    "m_small(inp).shape"
   ]
  },
  {
   "cell_type": "code",
   "execution_count": 11,
   "id": "89d0d8c2-1edc-45af-84e7-f8b54fe583e2",
   "metadata": {},
   "outputs": [],
   "source": [
    "import os\n",
    "def print_size_of_model(model):\n",
    "    torch.save(model.state_dict(), \"temp.p\")\n",
    "    print('Size (MB):', os.path.getsize(\"temp.p\")/1e6)\n",
    "    os.remove('temp.p')"
   ]
  },
  {
   "cell_type": "code",
   "execution_count": 12,
   "id": "045591ba-dfab-4e86-8fa9-2daf0d36d7af",
   "metadata": {},
   "outputs": [
    {
     "name": "stdout",
     "output_type": "stream",
     "text": [
      "Size (MB): 22.125713\n",
      "Size (MB): 10.278745\n"
     ]
    }
   ],
   "source": [
    "print_size_of_model(m_large)\n",
    "print_size_of_model(m_small)"
   ]
  },
  {
   "cell_type": "code",
   "execution_count": 13,
   "id": "0c7ea9a3-d49b-42bb-858d-a0c219e9e027",
   "metadata": {},
   "outputs": [],
   "source": [
    "def fmat(n):\n",
    "    return \"{:.2f}M\".format(n / 1_000_000)"
   ]
  },
  {
   "cell_type": "code",
   "execution_count": 14,
   "id": "5335f381-0bb5-4133-9c2b-be1693c3e592",
   "metadata": {},
   "outputs": [],
   "source": [
    "def params(model, f=True):\n",
    "    s = sum(p.numel() for p in model.parameters() if p.requires_grad)\n",
    "    return fmat(s) if f else s"
   ]
  },
  {
   "cell_type": "code",
   "execution_count": 15,
   "id": "2599d1e9-2b89-416a-85b4-3ab9a854c5ff",
   "metadata": {},
   "outputs": [
    {
     "data": {
      "text/plain": [
       "('5.48M', '2.54M')"
      ]
     },
     "execution_count": 15,
     "metadata": {},
     "output_type": "execute_result"
    }
   ],
   "source": [
    "params(m_large), params(m_small)"
   ]
  },
  {
   "cell_type": "code",
   "execution_count": 17,
   "id": "13ee5914-ce7f-453b-89b7-59126c2945da",
   "metadata": {
    "tags": []
   },
   "outputs": [
    {
     "data": {
      "text/plain": [
       "===============================================================================================\n",
       "Layer (type:depth-idx)                        Output Shape              Param #\n",
       "===============================================================================================\n",
       "MobileNetV3                                   --                        --\n",
       "├─Sequential: 1-1                             [1, 16, 112, 112]         --\n",
       "│    └─Conv2d: 2-1                            [1, 16, 112, 112]         432\n",
       "│    └─BatchNorm2d: 2-2                       [1, 16, 112, 112]         32\n",
       "│    └─Identity: 2-3                          [1, 16, 112, 112]         --\n",
       "├─Sequential: 1-2                             [1, 160, 7, 7]            --\n",
       "│    └─MBConv: 2-4                            [1, 16, 112, 112]         --\n",
       "│    │    └─Identity: 3-1                     [1, 16, 112, 112]         --\n",
       "│    │    └─Sequential: 3-2                   [1, 16, 112, 112]         176\n",
       "│    │    └─Identity: 3-3                     [1, 16, 112, 112]         --\n",
       "│    │    └─Sequential: 3-4                   [1, 16, 112, 112]         288\n",
       "│    │    └─Dropout: 3-5                      [1, 16, 112, 112]         --\n",
       "│    └─MBConv: 2-5                            [1, 24, 56, 56]           --\n",
       "│    │    └─Sequential: 3-6                   [1, 64, 112, 112]         1,152\n",
       "│    │    └─Sequential: 3-7                   [1, 64, 56, 56]           704\n",
       "│    │    └─Identity: 3-8                     [1, 64, 56, 56]           --\n",
       "│    │    └─Sequential: 3-9                   [1, 24, 56, 56]           1,584\n",
       "│    └─MBConv: 2-6                            [1, 24, 56, 56]           --\n",
       "│    │    └─Sequential: 3-10                  [1, 72, 56, 56]           1,872\n",
       "│    │    └─Sequential: 3-11                  [1, 72, 56, 56]           792\n",
       "│    │    └─Identity: 3-12                    [1, 72, 56, 56]           --\n",
       "│    │    └─Sequential: 3-13                  [1, 24, 56, 56]           1,776\n",
       "│    │    └─Dropout: 3-14                     [1, 24, 56, 56]           --\n",
       "│    └─MBConv: 2-7                            [1, 40, 28, 28]           --\n",
       "│    │    └─Sequential: 3-15                  [1, 72, 56, 56]           1,872\n",
       "│    │    └─Sequential: 3-16                  [1, 72, 28, 28]           1,944\n",
       "│    │    └─SEBlock: 3-17                     [1, 72, 28, 28]           2,682\n",
       "│    │    └─Sequential: 3-18                  [1, 40, 28, 28]           2,960\n",
       "│    └─MBConv: 2-8                            [1, 40, 28, 28]           --\n",
       "│    │    └─Sequential: 3-19                  [1, 120, 28, 28]          5,040\n",
       "│    │    └─Sequential: 3-20                  [1, 120, 28, 28]          3,240\n",
       "│    │    └─SEBlock: 3-21                     [1, 120, 28, 28]          7,350\n",
       "│    │    └─Sequential: 3-22                  [1, 40, 28, 28]           4,880\n",
       "│    │    └─Dropout: 3-23                     [1, 40, 28, 28]           --\n",
       "│    └─MBConv: 2-9                            [1, 40, 28, 28]           --\n",
       "│    │    └─Sequential: 3-24                  [1, 120, 28, 28]          5,040\n",
       "│    │    └─Sequential: 3-25                  [1, 120, 28, 28]          3,240\n",
       "│    │    └─SEBlock: 3-26                     [1, 120, 28, 28]          7,350\n",
       "│    │    └─Sequential: 3-27                  [1, 40, 28, 28]           4,880\n",
       "│    │    └─Dropout: 3-28                     [1, 40, 28, 28]           --\n",
       "│    └─MBConv: 2-10                           [1, 80, 14, 14]           --\n",
       "│    │    └─Sequential: 3-29                  [1, 240, 28, 28]          10,080\n",
       "│    │    └─Sequential: 3-30                  [1, 240, 14, 14]          2,640\n",
       "│    │    └─Identity: 3-31                    [1, 240, 14, 14]          --\n",
       "│    │    └─Sequential: 3-32                  [1, 80, 14, 14]           19,360\n",
       "│    └─MBConv: 2-11                           [1, 80, 14, 14]           --\n",
       "│    │    └─Sequential: 3-33                  [1, 200, 14, 14]          16,400\n",
       "│    │    └─Sequential: 3-34                  [1, 200, 14, 14]          2,200\n",
       "│    │    └─Identity: 3-35                    [1, 200, 14, 14]          --\n",
       "│    │    └─Sequential: 3-36                  [1, 80, 14, 14]           16,160\n",
       "│    │    └─Dropout: 3-37                     [1, 80, 14, 14]           --\n",
       "│    └─MBConv: 2-12                           [1, 80, 14, 14]           --\n",
       "│    │    └─Sequential: 3-38                  [1, 184, 14, 14]          15,088\n",
       "│    │    └─Sequential: 3-39                  [1, 184, 14, 14]          2,024\n",
       "│    │    └─Identity: 3-40                    [1, 184, 14, 14]          --\n",
       "│    │    └─Sequential: 3-41                  [1, 80, 14, 14]           14,880\n",
       "│    │    └─Dropout: 3-42                     [1, 80, 14, 14]           --\n",
       "│    └─MBConv: 2-13                           [1, 80, 14, 14]           --\n",
       "│    │    └─Sequential: 3-43                  [1, 184, 14, 14]          15,088\n",
       "│    │    └─Sequential: 3-44                  [1, 184, 14, 14]          2,024\n",
       "│    │    └─Identity: 3-45                    [1, 184, 14, 14]          --\n",
       "│    │    └─Sequential: 3-46                  [1, 80, 14, 14]           14,880\n",
       "│    │    └─Dropout: 3-47                     [1, 80, 14, 14]           --\n",
       "│    └─MBConv: 2-14                           [1, 112, 14, 14]          --\n",
       "│    │    └─Sequential: 3-48                  [1, 480, 14, 14]          39,360\n",
       "│    │    └─Sequential: 3-49                  [1, 480, 14, 14]          5,280\n",
       "│    │    └─SEBlock: 3-50                     [1, 480, 14, 14]          115,800\n",
       "│    │    └─Sequential: 3-51                  [1, 112, 14, 14]          53,984\n",
       "│    └─MBConv: 2-15                           [1, 112, 14, 14]          --\n",
       "│    │    └─Sequential: 3-52                  [1, 672, 14, 14]          76,608\n",
       "│    │    └─Sequential: 3-53                  [1, 672, 14, 14]          7,392\n",
       "│    │    └─SEBlock: 3-54                     [1, 672, 14, 14]          226,632\n",
       "│    │    └─Sequential: 3-55                  [1, 112, 14, 14]          75,488\n",
       "│    │    └─Dropout: 3-56                     [1, 112, 14, 14]          --\n",
       "│    └─MBConv: 2-16                           [1, 160, 7, 7]            --\n",
       "│    │    └─Sequential: 3-57                  [1, 672, 14, 14]          76,608\n",
       "│    │    └─Sequential: 3-58                  [1, 672, 7, 7]            18,144\n",
       "│    │    └─SEBlock: 3-59                     [1, 672, 7, 7]            226,632\n",
       "│    │    └─Sequential: 3-60                  [1, 160, 7, 7]            107,840\n",
       "│    └─MBConv: 2-17                           [1, 160, 7, 7]            --\n",
       "│    │    └─Sequential: 3-61                  [1, 960, 7, 7]            155,520\n",
       "│    │    └─Sequential: 3-62                  [1, 960, 7, 7]            25,920\n",
       "│    │    └─SEBlock: 3-63                     [1, 960, 7, 7]            462,000\n",
       "│    │    └─Sequential: 3-64                  [1, 160, 7, 7]            153,920\n",
       "│    │    └─Dropout: 3-65                     [1, 160, 7, 7]            --\n",
       "│    └─MBConv: 2-18                           [1, 160, 7, 7]            --\n",
       "│    │    └─Sequential: 3-66                  [1, 960, 7, 7]            155,520\n",
       "│    │    └─Sequential: 3-67                  [1, 960, 7, 7]            25,920\n",
       "│    │    └─SEBlock: 3-68                     [1, 960, 7, 7]            462,000\n",
       "│    │    └─Sequential: 3-69                  [1, 160, 7, 7]            153,920\n",
       "│    │    └─Dropout: 3-70                     [1, 160, 7, 7]            --\n",
       "├─Sequential: 1-3                             [1, 960, 7, 7]            --\n",
       "│    └─Sequential: 2-19                       [1, 960, 7, 7]            --\n",
       "│    │    └─Conv2d: 3-71                      [1, 960, 7, 7]            153,600\n",
       "│    │    └─BatchNorm2d: 3-72                 [1, 960, 7, 7]            1,920\n",
       "│    │    └─Hardswish: 3-73                   [1, 960, 7, 7]            --\n",
       "├─Sequential: 1-4                             [1, 1000]                 --\n",
       "│    └─Linear: 2-20                           [1, 1280]                 1,230,080\n",
       "│    └─Hardswish: 2-21                        [1, 1280]                 --\n",
       "│    └─Dropout: 2-22                          [1, 1280]                 --\n",
       "│    └─Linear: 2-23                           [1, 1000]                 1,281,000\n",
       "===============================================================================================\n",
       "Total params: 5,481,198\n",
       "Trainable params: 5,481,198\n",
       "Non-trainable params: 0\n",
       "Total mult-adds (M): 216.62\n",
       "===============================================================================================\n",
       "Input size (MB): 0.60\n",
       "Forward/backward pass size (MB): 70.46\n",
       "Params size (MB): 21.92\n",
       "Estimated Total Size (MB): 92.98\n",
       "==============================================================================================="
      ]
     },
     "execution_count": 17,
     "metadata": {},
     "output_type": "execute_result"
    }
   ],
   "source": [
    "summary(m_large, (1, 3, 224, 224), depth=3)"
   ]
  },
  {
   "cell_type": "markdown",
   "id": "a8979797-a0c6-497d-8c6e-db9833fcdad2",
   "metadata": {},
   "source": []
  }
 ],
 "metadata": {
  "kernelspec": {
   "display_name": "Python 3 (ipykernel)",
   "language": "python",
   "name": "python3"
  },
  "language_info": {
   "codemirror_mode": {
    "name": "ipython",
    "version": 3
   },
   "file_extension": ".py",
   "mimetype": "text/x-python",
   "name": "python",
   "nbconvert_exporter": "python",
   "pygments_lexer": "ipython3",
   "version": "3.9.4"
  }
 },
 "nbformat": 4,
 "nbformat_minor": 5
}
