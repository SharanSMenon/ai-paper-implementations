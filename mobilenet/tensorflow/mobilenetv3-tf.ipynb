{
 "cells": [
  {
   "cell_type": "markdown",
   "id": "9de9f196-a7fb-4898-936c-640c34ef1249",
   "metadata": {},
   "source": [
    "# MobileNet V3 in Tensorflow"
   ]
  },
  {
   "cell_type": "code",
   "execution_count": null,
   "id": "3d2ba274-6a01-4913-adc3-590eaecc2f89",
   "metadata": {},
   "outputs": [],
   "source": []
  }
 ],
 "metadata": {
  "kernelspec": {
   "display_name": "Python 3 (ipykernel)",
   "language": "python",
   "name": "python3"
  },
  "language_info": {
   "codemirror_mode": {
    "name": "ipython",
    "version": 3
   },
   "file_extension": ".py",
   "mimetype": "text/x-python",
   "name": "python",
   "nbconvert_exporter": "python",
   "pygments_lexer": "ipython3",
   "version": "3.9.4"
  }
 },
 "nbformat": 4,
 "nbformat_minor": 5
}
