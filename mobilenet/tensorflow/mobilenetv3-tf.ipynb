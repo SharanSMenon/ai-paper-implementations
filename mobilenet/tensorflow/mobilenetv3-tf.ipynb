{
 "cells": [
  {
   "cell_type": "markdown",
   "id": "9de9f196-a7fb-4898-936c-640c34ef1249",
   "metadata": {},
   "source": [
    "# MobileNet V3 in Tensorflow"
   ]
  },
  {
   "cell_type": "code",
   "execution_count": 1,
   "id": "3d2ba274-6a01-4913-adc3-590eaecc2f89",
   "metadata": {},
   "outputs": [
    {
     "name": "stderr",
     "output_type": "stream",
     "text": [
      "/opt/homebrew/Caskroom/miniforge/base/lib/python3.9/site-packages/jax/_src/lib/__init__.py:32: UserWarning: JAX on Mac ARM machines is experimental and minimally tested. Please see https://github.com/google/jax/issues/5501 in the event of problems.\n",
      "  warnings.warn(\"JAX on Mac ARM machines is experimental and minimally tested. \"\n"
     ]
    }
   ],
   "source": [
    "import tensorflow as tf\n",
    "import numpy as np\n",
    "from tensorflow import keras\n",
    "from tensorflow.keras import layers as ly"
   ]
  },
  {
   "cell_type": "code",
   "execution_count": 2,
   "id": "df1ed532-dd6c-4e71-b800-46791428428f",
   "metadata": {},
   "outputs": [],
   "source": [
    "def hard_sigmoid(x):\n",
    "    return ly.ReLU(6.)(x + 3.) * (1. / 6.)\n",
    "\n",
    "def hard_swish(x):\n",
    "    return ly.Multiply()([x, hard_sigmoid(x)])"
   ]
  },
  {
   "cell_type": "code",
   "execution_count": 3,
   "id": "2b2734bc-10ed-49fc-b02b-2cbcab9b31ae",
   "metadata": {},
   "outputs": [],
   "source": [
    "def bn_act(x, bn=True, act=True):\n",
    "    if bn:\n",
    "        x = ly.BatchNormalization(epsilon=1e-3,momentum=0.999)(x)\n",
    "    if act:\n",
    "        x = ly.Activation(hard_swish)(x)\n",
    "    return x"
   ]
  },
  {
   "cell_type": "code",
   "execution_count": null,
   "id": "89efdada-bb8b-4344-a35e-740b0e17ab64",
   "metadata": {},
   "outputs": [],
   "source": []
  }
 ],
 "metadata": {
  "kernelspec": {
   "display_name": "Python 3 (ipykernel)",
   "language": "python",
   "name": "python3"
  },
  "language_info": {
   "codemirror_mode": {
    "name": "ipython",
    "version": 3
   },
   "file_extension": ".py",
   "mimetype": "text/x-python",
   "name": "python",
   "nbconvert_exporter": "python",
   "pygments_lexer": "ipython3",
   "version": "3.9.4"
  }
 },
 "nbformat": 4,
 "nbformat_minor": 5
}
