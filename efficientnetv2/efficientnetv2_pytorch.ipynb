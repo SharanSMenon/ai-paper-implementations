{
 "cells": [
  {
   "cell_type": "markdown",
   "id": "18688cc8-c43d-427e-ba9d-4a9fd8a9e947",
   "metadata": {},
   "source": [
    "# EfficientNetV2 in PyTorch"
   ]
  },
  {
   "cell_type": "code",
   "execution_count": 1,
   "id": "5a4e6790-9273-485a-96c4-4307e9b4e84f",
   "metadata": {},
   "outputs": [],
   "source": [
    "import torch\n",
    "from torch import nn, optim\n",
    "import math\n",
    "import timm\n",
    "import os\n",
    "from torchinfo import summary"
   ]
  },
  {
   "cell_type": "code",
   "execution_count": 2,
   "id": "ea6bdb4e-31d9-4db7-88f0-8f365f03013e",
   "metadata": {},
   "outputs": [],
   "source": [
    "### Obtained from Paper ###\n",
    "# Configs taken from \n",
    "# https://github.com/leondgarse/keras_efficientnet_v2/blob/main/keras_efficientnet_v2/efficientnet_v2.py\n",
    "# convs parameter is which type of block to use, maps to `layer_map`\n",
    "# 6 models are supported, more are coming soon.\n",
    "CONFIGS = {\n",
    "    \"b0\": {\n",
    "        \"widths\": [32, 16, 32, 48, 96, 112, 192],\n",
    "        \"depths\": [1, 2, 2, 3, 5, 8],\n",
    "        \"strides\": [1, 2, 2, 2, 1, 2],\n",
    "        \"convs\": [0, 1, 1, 2, 3, 3],\n",
    "        \"output_conv_size\": 1280,\n",
    "        \"timm_weights\": \"tf_efficientnetv2_b0\",\n",
    "    },\n",
    "    \"b1\": {\n",
    "        \"widths\": [32, 16, 32, 48, 96, 112, 192],\n",
    "        \"depths\": [2, 3, 3, 4, 6, 9],\n",
    "        \"strides\": [1, 2, 2, 2, 1, 2],\n",
    "        \"convs\":[0, 1, 1, 2, 3, 3],\n",
    "        \"output_conv_size\": 1280,\n",
    "        \"timm_weights\":\"tf_efficientnetv2_b1\",\n",
    "    },\n",
    "    \"b2\": {\n",
    "        \"widths\": [32, 16, 32, 56, 104, 120, 208],\n",
    "        \"depths\": [2, 3, 3, 4, 6, 10],\n",
    "        \"strides\": [1, 2, 2, 2, 1, 2],\n",
    "        \"convs\": [0, 1, 1, 2, 3, 3],\n",
    "        \"output_conv_size\": 1408,\n",
    "        \"timm_weights\":\"tf_efficientnetv2_b2\",\n",
    "    },\n",
    "    \"s\": {\n",
    "        \"widths\": [24, 24, 48, 64, 128, 160, 256],\n",
    "        \"depths\": [2, 4, 4, 6, 9, 15],\n",
    "        \"strides\": [1, 2, 2, 2, 1, 2],\n",
    "        \"convs\": [0, 1, 1, 2, 3, 3],\n",
    "        \"output_conv_size\": 1280,\n",
    "        \"timm_weights\": \"tf_efficientnetv2_s\"\n",
    "    },\n",
    "    \"m\": {\n",
    "        \"widths\": [24, 24, 48, 80, 160, 176, 304, 512],\n",
    "        \"depths\": [3, 5, 5, 7, 14, 18, 5],\n",
    "        \"strides\": [1, 2, 2, 2, 1, 2, 1],\n",
    "        \"convs\": [0, 1, 1, 2, 3, 3, 3],\n",
    "        \"output_conv_size\": 1280,\n",
    "        \"timm_weights\":\"tf_efficientnetv2_m\",\n",
    "    },\n",
    "    \"l\": {\n",
    "        \"widths\": [32, 32, 64, 96, 192, 224, 384, 640],\n",
    "        \"depths\": [4, 7, 7, 10, 19, 25, 7],\n",
    "        \"strides\": [1, 2, 2, 2, 1, 2, 1],\n",
    "        \"convs\": [0, 1, 1, 2, 3, 3, 3],\n",
    "        \"output_conv_size\": 1280,\n",
    "        \"timm_weights\":\"tf_efficientnetv2_l\",\n",
    "    }\n",
    "}"
   ]
  },
  {
   "cell_type": "code",
   "execution_count": 3,
   "id": "fce24c87-faf4-4887-8bca-f9d74cb1db8d",
   "metadata": {},
   "outputs": [],
   "source": [
    "def conv_block(in_channels, out_channels, kernel_size=3, \n",
    "               stride=1, padding=1, groups=1,\n",
    "               bias=False, bn=True, act = True):\n",
    "    layers = [\n",
    "        nn.Conv2d(in_channels, out_channels, kernel_size, stride=stride, \n",
    "                  padding=padding, groups=groups, bias=bias),\n",
    "        nn.BatchNorm2d(out_channels) if bn else nn.Identity(),\n",
    "        nn.SiLU() if act else nn.Identity()\n",
    "    ]\n",
    "    return nn.Sequential(*layers)"
   ]
  },
  {
   "cell_type": "code",
   "execution_count": 4,
   "id": "76264a04-dda4-4c05-8632-721aaf2ec3d2",
   "metadata": {},
   "outputs": [],
   "source": [
    "class SEBlock(nn.Module):\n",
    "    def __init__(self, c, r=24):\n",
    "        super(SEBlock, self).__init__()\n",
    "        self.squeeze = nn.AdaptiveMaxPool2d(1)\n",
    "        self.excitation = nn.Sequential(\n",
    "            nn.Conv2d(c, c // r, kernel_size=1),\n",
    "            nn.SiLU(),\n",
    "            nn.Conv2d(c // r, c, kernel_size=1),\n",
    "            nn.Sigmoid()\n",
    "        )\n",
    "    def forward(self, x):\n",
    "        s = self.squeeze(x)\n",
    "        e = self.excitation(s)\n",
    "        return x * e"
   ]
  },
  {
   "cell_type": "code",
   "execution_count": 5,
   "id": "dcec24e0-9cb5-488d-9772-e684d1ed3564",
   "metadata": {},
   "outputs": [],
   "source": [
    "class MBConv(nn.Module):\n",
    "    def __init__(self, n_in, n_out, expansion, kernel_size=3, stride=1, r=24, dropout=0.1):\n",
    "        super(MBConv, self).__init__()\n",
    "        self.skip_connection = (n_in == n_out) and (stride == 1)\n",
    "        \n",
    "        padding = (kernel_size-1)//2\n",
    "        expanded = expansion*n_in\n",
    "        \n",
    "        self.expand_pw = nn.Identity() if expansion == 1 else conv_block(n_in, expanded, kernel_size=1, padding=0)\n",
    "        self.depthwise = conv_block(expanded, expanded, kernel_size=kernel_size, \n",
    "                                    stride=stride, padding=padding, groups=expanded)\n",
    "        self.se = SEBlock(expanded, r=4 * expansion)\n",
    "        self.reduce_pw = conv_block(expanded, n_out, kernel_size=1, padding=0, act=False)\n",
    "        self.dropout = nn.Dropout(dropout)\n",
    "        \n",
    "    def forward(self, x):\n",
    "        residual = x\n",
    "        x = self.expand_pw(x)\n",
    "        x = self.depthwise(x)\n",
    "        x = self.se(x)\n",
    "        x = self.reduce_pw(x)\n",
    "        if self.skip_connection:\n",
    "            x = self.dropout(x)\n",
    "            x = x + residual\n",
    "        return x"
   ]
  },
  {
   "cell_type": "code",
   "execution_count": 6,
   "id": "7b8d6656-7ab7-4f59-857a-d289ab609a10",
   "metadata": {},
   "outputs": [],
   "source": [
    "class FusedMBConv(nn.Module):\n",
    "    def __init__(self, n_in, n_out, expansion, kernel_size=3, stride=1, r=24, dropout=0.1):\n",
    "        super(FusedMBConv, self).__init__()\n",
    "        self.skip_connection = (n_in == n_out) and (stride == 1)\n",
    "        padding = (kernel_size-1)//2\n",
    "        expanded = expansion*n_in\n",
    "        \n",
    "        self.expand_pw = conv_block(n_in, expanded, kernel_size=3, stride=stride, padding=1)\n",
    "        self.reduce_pw = conv_block(expanded, n_out, kernel_size=1, padding=0, act=False)\n",
    "        \n",
    "        if expansion == 1:\n",
    "            self.reduce_pw = nn.Identity() # for consistency with timm implementation\n",
    "            self.expand_pw = conv_block(n_in, n_out, kernel_size=3, stride=stride, padding=1)\n",
    "        self.dropout = nn.Dropout(dropout)\n",
    "        \n",
    "    def forward(self, x):\n",
    "        residual = x\n",
    "        x = self.expand_pw(x)\n",
    "        x = self.reduce_pw(x)\n",
    "        if self.skip_connection:\n",
    "            x = self.dropout(x)\n",
    "            x = x + residual\n",
    "        return x"
   ]
  },
  {
   "cell_type": "code",
   "execution_count": 7,
   "id": "26f1447d-bb8d-4e8f-849b-25b9d54c14c6",
   "metadata": {},
   "outputs": [],
   "source": [
    "def mbconv4(n_in, n_out, kernel_size=3, stride=1, r=24, dropout=0.1):\n",
    "    return MBConv(n_in, n_out, 4, kernel_size=kernel_size, stride=stride, r=r, dropout=dropout)"
   ]
  },
  {
   "cell_type": "code",
   "execution_count": 8,
   "id": "ba923815-4dfd-40d3-bd1e-888eb61c86c0",
   "metadata": {},
   "outputs": [],
   "source": [
    "def mbconv6(n_in, n_out, kernel_size=3, stride=1, r=24, dropout=0.1):\n",
    "    return MBConv(n_in, n_out, 6, kernel_size=kernel_size, stride=stride, r=r, dropout=dropout)"
   ]
  },
  {
   "cell_type": "code",
   "execution_count": 9,
   "id": "d7626f7b-e988-459f-9a75-a89db795e5a7",
   "metadata": {},
   "outputs": [],
   "source": [
    "def fused_mbconv1(n_in, n_out, kernel_size=3, stride=1, r=24, dropout=0.1):\n",
    "    return FusedMBConv(n_in, n_out, 1, kernel_size=kernel_size, stride=stride, r=r, dropout=dropout)"
   ]
  },
  {
   "cell_type": "code",
   "execution_count": 10,
   "id": "06040e7f-c923-4740-bda9-23b051fc27ad",
   "metadata": {},
   "outputs": [],
   "source": [
    "def fused_mbconv4(n_in, n_out, kernel_size=3, stride=1, r=24, dropout=0.1):\n",
    "    return FusedMBConv(n_in, n_out, 4, kernel_size=kernel_size, stride=stride, r=r, dropout=dropout)"
   ]
  },
  {
   "cell_type": "code",
   "execution_count": 11,
   "id": "0051ab01-dc2e-4810-811b-a6f0ef1d52bf",
   "metadata": {},
   "outputs": [],
   "source": [
    "layers_map = [fused_mbconv1, fused_mbconv4, mbconv4, mbconv6]"
   ]
  },
  {
   "cell_type": "code",
   "execution_count": 12,
   "id": "40dff774-5292-4b46-a505-26b61460ff4a",
   "metadata": {},
   "outputs": [],
   "source": [
    "def create_stage(n_in, n_out, num_layers, layer=mbconv6, \n",
    "                 kernel_size=3, stride=1, r=24, ps=0):\n",
    "    layers = [layer(n_in, n_out, kernel_size=kernel_size,\n",
    "                       stride=stride, r=r, dropout=ps)]\n",
    "    layers += [layer(n_out, n_out, kernel_size=kernel_size,\n",
    "                        r=r, dropout=ps) for _ in range(num_layers-1)]\n",
    "    return nn.Sequential(*layers)"
   ]
  },
  {
   "cell_type": "code",
   "execution_count": 13,
   "id": "abd23b36-7e2e-4759-a778-550ffc8c6291",
   "metadata": {},
   "outputs": [],
   "source": [
    "class EfficientNetV2(nn.Module):\n",
    "    \"\"\"\n",
    "    Generic EfficientNet V2 Class.\n",
    "    \"\"\"\n",
    "    def __init__(self, cfg, n_classes=1000):\n",
    "        super(EfficientNetV2, self).__init__()\n",
    "        self.cfg = cfg\n",
    "        widths, depths, strides, convs = cfg['widths'],cfg['depths'],cfg['strides'],cfg['convs']\n",
    "        outconv_size = cfg['output_conv_size']\n",
    "        \n",
    "        stages = [conv_block(3, widths[0], stride=2, padding=1)]\n",
    "        for i in range(len(depths)):\n",
    "            stages.append(create_stage(widths[i], widths[i + 1], depths[i], layer=layers_map[convs[i]], \n",
    "                        stride=strides[i], r=4 if i ==0 else 24, ps=0))\n",
    "\n",
    "        self.features = nn.Sequential(*stages)\n",
    "        self.pre = conv_block(widths[-1], outconv_size, kernel_size=1, padding=0)\n",
    "        self.pool_flatten = nn.Sequential(nn.AdaptiveAvgPool2d(1), nn.Flatten())\n",
    "        self.head = nn.Sequential(\n",
    "            nn.Linear(outconv_size, n_classes)\n",
    "        )\n",
    "            \n",
    "    def forward(self, x):\n",
    "        x = self.features(x)\n",
    "        x = self.pre(x)\n",
    "        x = self.pool_flatten(x)\n",
    "        x = self.head(x)\n",
    "        return x"
   ]
  },
  {
   "cell_type": "code",
   "execution_count": 14,
   "id": "3a8fd70e-c038-4520-a2da-9d2fcf7fcd1e",
   "metadata": {},
   "outputs": [],
   "source": [
    "def efficientnetv2_b0(n_classes=1000):\n",
    "    return EfficientNetV2(CONFIGS['b0'], n_classes=n_classes)\n",
    "def efficientnetv2_b1(n_classes=1000):\n",
    "    return EfficientNetV2(CONFIGS['b1'], n_classes=n_classes)\n",
    "def efficientnetv2_b2(n_classes=1000):\n",
    "    return EfficientNetV2(CONFIGS['b2'], n_classes=n_classes)\n",
    "def efficientnetv2_s(n_classes=1000):\n",
    "    return EfficientNetV2(CONFIGS['s'], n_classes=n_classes)\n",
    "def efficientnetv2_m(n_classes=1000):\n",
    "    return EfficientNetV2(CONFIGS['m'], n_classes=n_classes)\n",
    "def efficientnetv2_l(n_classes=1000):\n",
    "    return EfficientNetV2(CONFIGS['l'], n_classes=n_classes)"
   ]
  },
  {
   "cell_type": "code",
   "execution_count": 15,
   "id": "f9c186f9-e7a3-485a-bca1-c7367c2ad306",
   "metadata": {},
   "outputs": [],
   "source": [
    "def load_timm_weights(model):\n",
    "    url = model.cfg.get(\"timm_weights\")\n",
    "    timm_model = timm.create_model(url, pretrained=True, num_classes=1000)\n",
    "    params = nn.utils.parameters_to_vector(timm_model.parameters())\n",
    "    nn.utils.vector_to_parameters(params, model.parameters())"
   ]
  },
  {
   "cell_type": "code",
   "execution_count": 16,
   "id": "877f0828-f9a2-4b0f-b69f-4312f753e4a2",
   "metadata": {
    "scrolled": true,
    "tags": []
   },
   "outputs": [],
   "source": [
    "v2_b0 = efficientnetv2_b0()\n",
    "v2_b1 = efficientnetv2_b1()\n",
    "v2_b2 = efficientnetv2_b2()\n",
    "v2_s = efficientnetv2_s()\n",
    "v2_m = efficientnetv2_m()\n",
    "v2_l = efficientnetv2_l()"
   ]
  },
  {
   "cell_type": "code",
   "execution_count": 17,
   "id": "f9db591f-1b9a-4218-9fa2-1b77b6c72718",
   "metadata": {},
   "outputs": [],
   "source": [
    "models = [v2_b0, v2_b1, v2_b2, v2_s, v2_m, v2_l]"
   ]
  },
  {
   "cell_type": "code",
   "execution_count": 18,
   "id": "e7a92984-1d80-4dfb-acfe-5d36c84ed14c",
   "metadata": {},
   "outputs": [],
   "source": [
    "for model in models:\n",
    "    load_timm_weights(model)"
   ]
  },
  {
   "cell_type": "code",
   "execution_count": 19,
   "id": "b7c62f60-f1a3-456b-a74f-ef48369cebb3",
   "metadata": {},
   "outputs": [
    {
     "name": "stdout",
     "output_type": "stream",
     "text": [
      "CPU times: user 99.1 ms, sys: 45.6 ms, total: 145 ms\n",
      "Wall time: 90.2 ms\n"
     ]
    }
   ],
   "source": [
    "%%time\n",
    "inp = torch.randn(1, 3, 224, 224)\n",
    "with torch.no_grad():\n",
    "    v2_b0(inp).shape"
   ]
  },
  {
   "cell_type": "code",
   "execution_count": 20,
   "id": "42efc541-a43b-498d-b269-9b07edc88e6b",
   "metadata": {},
   "outputs": [
    {
     "name": "stdout",
     "output_type": "stream",
     "text": [
      "CPU times: user 251 ms, sys: 84.5 ms, total: 335 ms\n",
      "Wall time: 163 ms\n"
     ]
    }
   ],
   "source": [
    "%%time\n",
    "inp = torch.randn(1, 3, 224, 224)\n",
    "with torch.no_grad():\n",
    "    v2_s(inp).shape"
   ]
  },
  {
   "cell_type": "code",
   "execution_count": 21,
   "id": "55850705-1670-4618-95b9-fe34839e8c08",
   "metadata": {},
   "outputs": [
    {
     "name": "stdout",
     "output_type": "stream",
     "text": [
      "CPU times: user 786 ms, sys: 189 ms, total: 976 ms\n",
      "Wall time: 420 ms\n"
     ]
    }
   ],
   "source": [
    "%%time\n",
    "inp = torch.randn(1, 3, 224, 224)\n",
    "with torch.no_grad():\n",
    "    v2_l(inp).shape"
   ]
  },
  {
   "cell_type": "code",
   "execution_count": 22,
   "id": "d680a39b-306a-465d-a755-d83b96438615",
   "metadata": {},
   "outputs": [],
   "source": [
    "def print_size_of_model(model):\n",
    "    torch.save(model.state_dict(), \"temp.p\")\n",
    "    print('Size (MB):', os.path.getsize(\"temp.p\")/1e6)\n",
    "    os.remove('temp.p')"
   ]
  },
  {
   "cell_type": "code",
   "execution_count": 23,
   "id": "a026a87c-85cd-49c2-8de4-727cd07176b0",
   "metadata": {},
   "outputs": [
    {
     "name": "stdout",
     "output_type": "stream",
     "text": [
      "Size (MB): 28.901277\n",
      "Size (MB): 32.971721\n",
      "Size (MB): 40.841335\n",
      "Size (MB): 86.636651\n",
      "Size (MB): 217.994129\n",
      "Size (MB): 476.483625\n"
     ]
    }
   ],
   "source": [
    "for m in models:\n",
    "    print_size_of_model(m)"
   ]
  },
  {
   "cell_type": "code",
   "execution_count": 24,
   "id": "8636316d-2bc0-4b62-aa32-3fd644f2b7c6",
   "metadata": {},
   "outputs": [],
   "source": [
    "def fmat(n):\n",
    "    return \"{:.2f}M\".format(n / 1_000_000)"
   ]
  },
  {
   "cell_type": "code",
   "execution_count": 25,
   "id": "cf109755-c801-483b-8d92-282f2c7c5766",
   "metadata": {},
   "outputs": [],
   "source": [
    "def params(model, f=True):\n",
    "    s = sum(p.numel() for p in model.parameters() if p.requires_grad)\n",
    "    return fmat(s) if f else s"
   ]
  },
  {
   "cell_type": "code",
   "execution_count": 26,
   "id": "0cd42d1b-96cb-49fc-9c14-02d60a7e4a55",
   "metadata": {},
   "outputs": [
    {
     "name": "stdout",
     "output_type": "stream",
     "text": [
      "7.14M\n",
      "8.14M\n",
      "10.10M\n",
      "21.46M\n",
      "54.14M\n",
      "118.52M\n"
     ]
    }
   ],
   "source": [
    "for m in models:\n",
    "    print(params(m))"
   ]
  },
  {
   "cell_type": "code",
   "execution_count": 34,
   "id": "dbabeec5-778b-4ce7-9719-1e5a15cc0afd",
   "metadata": {},
   "outputs": [
    {
     "data": {
      "text/plain": [
       "====================================================================================================\n",
       "Layer (type:depth-idx)                             Output Shape              Param #\n",
       "====================================================================================================\n",
       "EfficientNetV2                                     --                        --\n",
       "====================================================================================================\n",
       "Total params: 118,515,272\n",
       "Trainable params: 118,515,272\n",
       "Non-trainable params: 0\n",
       "Total mult-adds (G): 12.23\n",
       "====================================================================================================\n",
       "Input size (MB): 0.60\n",
       "Forward/backward pass size (MB): 551.04\n",
       "Params size (MB): 474.06\n",
       "Estimated Total Size (MB): 1025.71\n",
       "===================================================================================================="
      ]
     },
     "execution_count": 34,
     "metadata": {},
     "output_type": "execute_result"
    }
   ],
   "source": [
    "summary(v2_l, (1, 3, 224, 224), depth=0)"
   ]
  },
  {
   "cell_type": "code",
   "execution_count": null,
   "id": "8a69fcba-c9bb-47ad-afef-02e43d9d231d",
   "metadata": {},
   "outputs": [],
   "source": []
  }
 ],
 "metadata": {
  "kernelspec": {
   "display_name": "Python 3 (ipykernel)",
   "language": "python",
   "name": "python3"
  },
  "language_info": {
   "codemirror_mode": {
    "name": "ipython",
    "version": 3
   },
   "file_extension": ".py",
   "mimetype": "text/x-python",
   "name": "python",
   "nbconvert_exporter": "python",
   "pygments_lexer": "ipython3",
   "version": "3.9.4"
  }
 },
 "nbformat": 4,
 "nbformat_minor": 5
}
