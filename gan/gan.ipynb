{
 "cells": [
  {
   "cell_type": "code",
   "execution_count": 47,
   "source": [
    "import torch\n",
    "import torchvision\n",
    "from torchvision import datasets, transforms\n",
    "import matplotlib.pyplot as plt\n",
    "from tqdm.notebook import tqdm"
   ],
   "outputs": [],
   "metadata": {}
  },
  {
   "cell_type": "markdown",
   "source": [
    "## Loading MNIST"
   ],
   "metadata": {}
  },
  {
   "cell_type": "code",
   "execution_count": 3,
   "source": [
    "transform = transforms.Compose([transforms.ToTensor(),\n",
    "                                transforms.Normalize((0.5,), (0.5,))])\n",
    "# Download and load the training data\n",
    "trainset = datasets.MNIST('MNIST_data/', download=True, train=True, transform=transform)\n",
    "trainloader = torch.utils.data.DataLoader(trainset, batch_size=64, shuffle=True)\n",
    "\n",
    "testset = datasets.MNIST('MNIST_data/', download=True, train=False, transform=transform)\n",
    "testloader = torch.utils.data.DataLoader(trainset, batch_size=64, shuffle=True)"
   ],
   "outputs": [
    {
     "output_type": "stream",
     "name": "stderr",
     "text": [
      "  0%|          | 0/9912422 [00:00<?, ?it/s]"
     ]
    },
    {
     "output_type": "stream",
     "name": "stdout",
     "text": [
      "Downloading http://yann.lecun.com/exdb/mnist/train-images-idx3-ubyte.gz\n",
      "Downloading http://yann.lecun.com/exdb/mnist/train-images-idx3-ubyte.gz to MNIST_data/MNIST/raw/train-images-idx3-ubyte.gz\n"
     ]
    },
    {
     "output_type": "stream",
     "name": "stderr",
     "text": [
      "9913344it [02:27, 67065.49it/s]\n"
     ]
    },
    {
     "output_type": "stream",
     "name": "stdout",
     "text": [
      "Extracting MNIST_data/MNIST/raw/train-images-idx3-ubyte.gz to MNIST_data/MNIST/raw\n"
     ]
    },
    {
     "output_type": "stream",
     "name": "stderr",
     "text": [
      "29696it [00:00, 4331410.89it/s]          "
     ]
    },
    {
     "output_type": "stream",
     "name": "stdout",
     "text": [
      "\n",
      "Downloading http://yann.lecun.com/exdb/mnist/train-labels-idx1-ubyte.gz\n",
      "Downloading http://yann.lecun.com/exdb/mnist/train-labels-idx1-ubyte.gz to MNIST_data/MNIST/raw/train-labels-idx1-ubyte.gz\n",
      "Extracting MNIST_data/MNIST/raw/train-labels-idx1-ubyte.gz to MNIST_data/MNIST/raw\n",
      "\n",
      "Downloading http://yann.lecun.com/exdb/mnist/t10k-images-idx3-ubyte.gz\n"
     ]
    },
    {
     "output_type": "stream",
     "name": "stderr",
     "text": [
      "\n",
      "  0%|          | 0/1648877 [00:00<?, ?it/s]"
     ]
    },
    {
     "output_type": "stream",
     "name": "stdout",
     "text": [
      "Downloading http://yann.lecun.com/exdb/mnist/t10k-images-idx3-ubyte.gz to MNIST_data/MNIST/raw/t10k-images-idx3-ubyte.gz\n"
     ]
    },
    {
     "output_type": "stream",
     "name": "stderr",
     "text": [
      "1649664it [00:31, 51610.32it/s]                             \n",
      "5120it [00:00, 25998591.38it/s]         "
     ]
    },
    {
     "output_type": "stream",
     "name": "stdout",
     "text": [
      "Extracting MNIST_data/MNIST/raw/t10k-images-idx3-ubyte.gz to MNIST_data/MNIST/raw\n",
      "\n",
      "Downloading http://yann.lecun.com/exdb/mnist/t10k-labels-idx1-ubyte.gz\n",
      "Downloading http://yann.lecun.com/exdb/mnist/t10k-labels-idx1-ubyte.gz to MNIST_data/MNIST/raw/t10k-labels-idx1-ubyte.gz\n",
      "Extracting MNIST_data/MNIST/raw/t10k-labels-idx1-ubyte.gz to MNIST_data/MNIST/raw\n",
      "\n"
     ]
    },
    {
     "output_type": "stream",
     "name": "stderr",
     "text": [
      "\n",
      "/opt/homebrew/Caskroom/miniforge/base/lib/python3.9/site-packages/torchvision/datasets/mnist.py:498: UserWarning: The given NumPy array is not writeable, and PyTorch does not support non-writeable tensors. This means you can write to the underlying (supposedly non-writeable) NumPy array using the tensor. You may want to copy the array to protect its data or make it writeable before converting it to a tensor. This type of warning will be suppressed for the rest of this program. (Triggered internally at  ../torch/csrc/utils/tensor_numpy.cpp:180.)\n",
      "  return torch.from_numpy(parsed.astype(m[2], copy=False)).view(*s)\n"
     ]
    }
   ],
   "metadata": {}
  },
  {
   "cell_type": "code",
   "execution_count": 24,
   "source": [
    "class Discriminator(torch.nn.Module):\n",
    "    \"\"\"Discriminator Model\n",
    "\n",
    "    Loss is BCE\n",
    "\n",
    "    :param torch: [description]\n",
    "    :type torch: [type]\n",
    "    \"\"\"\n",
    "    def __init__(self):\n",
    "        super(Discriminator, self).__init__()\n",
    "        self.fc1 = torch.nn.Linear(784, 256)\n",
    "        self.fc2 = torch.nn.Linear(256, 256)\n",
    "        self.fc3 = torch.nn.Linear(256, 1)\n",
    "        self.relu = torch.nn.ReLU()\n",
    "        self.sigmoid = torch.nn.Sigmoid()\n",
    "\n",
    "    def forward(self, x):\n",
    "        x = x.view(-1, 784)\n",
    "        x = self.relu(self.fc1(x))\n",
    "        x = self.relu(self.fc2(x))\n",
    "        x = self.fc3(x)\n",
    "        return self.sigmoid(x)"
   ],
   "outputs": [],
   "metadata": {}
  },
  {
   "cell_type": "code",
   "execution_count": 76,
   "source": [
    "class Generator(torch.nn.Module):\n",
    "    def __init__(self):\n",
    "        super(Generator, self).__init__()\n",
    "        self.fc1 = torch.nn.Linear(100, 256)\n",
    "        self.fc2 = torch.nn.Linear(256, 256)\n",
    "        self.fc3 = torch.nn.Linear(256, 784)\n",
    "        self.lrelu = torch.nn.ReLU()\n",
    "\n",
    "    def forward(self, x):\n",
    "        x = self.lrelu(self.fc1(x))\n",
    "        x = self.lrelu(self.fc2(x))\n",
    "        x = self.fc3(x)\n",
    "        return x"
   ],
   "outputs": [],
   "metadata": {}
  },
  {
   "cell_type": "code",
   "execution_count": 102,
   "source": [
    "criterion = torch.nn.BCELoss()\n",
    "D = Discriminator()\n",
    "G = Generator()"
   ],
   "outputs": [],
   "metadata": {}
  },
  {
   "cell_type": "code",
   "execution_count": 103,
   "source": [
    "optim_G = torch.optim.Adam(G.parameters(), lr=0.0002)\n",
    "optim_D = torch.optim.Adam(D.parameters(), lr=0.0002)"
   ],
   "outputs": [],
   "metadata": {}
  },
  {
   "cell_type": "code",
   "execution_count": 104,
   "source": [
    "random_sample = torch.rand(1, 100)"
   ],
   "outputs": [],
   "metadata": {}
  },
  {
   "cell_type": "code",
   "execution_count": 105,
   "source": [
    "plt.imshow(G(random_sample).view(28, 28).detach().numpy(), cmap='gray')"
   ],
   "outputs": [
    {
     "output_type": "execute_result",
     "data": {
      "text/plain": [
       "<matplotlib.image.AxesImage at 0x11cf2e430>"
      ]
     },
     "metadata": {},
     "execution_count": 105
    },
    {
     "output_type": "display_data",
     "data": {
      "text/plain": [
       "<Figure size 432x288 with 1 Axes>"
      ],
      "image/svg+xml": "<?xml version=\"1.0\" encoding=\"utf-8\" standalone=\"no\"?>\n<!DOCTYPE svg PUBLIC \"-//W3C//DTD SVG 1.1//EN\"\n  \"http://www.w3.org/Graphics/SVG/1.1/DTD/svg11.dtd\">\n<svg height=\"248.518125pt\" version=\"1.1\" viewBox=\"0 0 251.565 248.518125\" width=\"251.565pt\" xmlns=\"http://www.w3.org/2000/svg\" xmlns:xlink=\"http://www.w3.org/1999/xlink\">\n <metadata>\n  <rdf:RDF xmlns:cc=\"http://creativecommons.org/ns#\" xmlns:dc=\"http://purl.org/dc/elements/1.1/\" xmlns:rdf=\"http://www.w3.org/1999/02/22-rdf-syntax-ns#\">\n   <cc:Work>\n    <dc:type rdf:resource=\"http://purl.org/dc/dcmitype/StillImage\"/>\n    <dc:date>2021-08-24T16:05:59.498795</dc:date>\n    <dc:format>image/svg+xml</dc:format>\n    <dc:creator>\n     <cc:Agent>\n      <dc:title>Matplotlib v3.4.3, https://matplotlib.org/</dc:title>\n     </cc:Agent>\n    </dc:creator>\n   </cc:Work>\n  </rdf:RDF>\n </metadata>\n <defs>\n  <style type=\"text/css\">*{stroke-linecap:butt;stroke-linejoin:round;}</style>\n </defs>\n <g id=\"figure_1\">\n  <g id=\"patch_1\">\n   <path d=\"M 0 248.518125 \nL 251.565 248.518125 \nL 251.565 0 \nL 0 0 \nz\n\" style=\"fill:none;\"/>\n  </g>\n  <g id=\"axes_1\">\n   <g id=\"patch_2\">\n    <path d=\"M 26.925 224.64 \nL 244.365 224.64 \nL 244.365 7.2 \nL 26.925 7.2 \nz\n\" style=\"fill:#ffffff;\"/>\n   </g>\n   <g clip-path=\"url(#p095c56b699)\">\n    <image height=\"218\" id=\"image4474220aa5\" transform=\"scale(1 -1)translate(0 -218)\" width=\"218\" x=\"26.925\" xlink:href=\"data:image/png;base64,\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\" y=\"-6.64\"/>\n   </g>\n   <g id=\"matplotlib.axis_1\">\n    <g id=\"xtick_1\">\n     <g id=\"line2d_1\">\n      <defs>\n       <path d=\"M 0 0 \nL 0 3.5 \n\" id=\"madc0dad97b\" style=\"stroke:#000000;stroke-width:0.8;\"/>\n      </defs>\n      <g>\n       <use style=\"stroke:#000000;stroke-width:0.8;\" x=\"30.807857\" xlink:href=\"#madc0dad97b\" y=\"224.64\"/>\n      </g>\n     </g>\n     <g id=\"text_1\">\n      <!-- 0 -->\n      <g transform=\"translate(27.626607 239.238437)scale(0.1 -0.1)\">\n       <defs>\n        <path d=\"M 2034 4250 \nQ 1547 4250 1301 3770 \nQ 1056 3291 1056 2328 \nQ 1056 1369 1301 889 \nQ 1547 409 2034 409 \nQ 2525 409 2770 889 \nQ 3016 1369 3016 2328 \nQ 3016 3291 2770 3770 \nQ 2525 4250 2034 4250 \nz\nM 2034 4750 \nQ 2819 4750 3233 4129 \nQ 3647 3509 3647 2328 \nQ 3647 1150 3233 529 \nQ 2819 -91 2034 -91 \nQ 1250 -91 836 529 \nQ 422 1150 422 2328 \nQ 422 3509 836 4129 \nQ 1250 4750 2034 4750 \nz\n\" id=\"DejaVuSans-30\" transform=\"scale(0.015625)\"/>\n       </defs>\n       <use xlink:href=\"#DejaVuSans-30\"/>\n      </g>\n     </g>\n    </g>\n    <g id=\"xtick_2\">\n     <g id=\"line2d_2\">\n      <g>\n       <use style=\"stroke:#000000;stroke-width:0.8;\" x=\"69.636429\" xlink:href=\"#madc0dad97b\" y=\"224.64\"/>\n      </g>\n     </g>\n     <g id=\"text_2\">\n      <!-- 5 -->\n      <g transform=\"translate(66.455179 239.238437)scale(0.1 -0.1)\">\n       <defs>\n        <path d=\"M 691 4666 \nL 3169 4666 \nL 3169 4134 \nL 1269 4134 \nL 1269 2991 \nQ 1406 3038 1543 3061 \nQ 1681 3084 1819 3084 \nQ 2600 3084 3056 2656 \nQ 3513 2228 3513 1497 \nQ 3513 744 3044 326 \nQ 2575 -91 1722 -91 \nQ 1428 -91 1123 -41 \nQ 819 9 494 109 \nL 494 744 \nQ 775 591 1075 516 \nQ 1375 441 1709 441 \nQ 2250 441 2565 725 \nQ 2881 1009 2881 1497 \nQ 2881 1984 2565 2268 \nQ 2250 2553 1709 2553 \nQ 1456 2553 1204 2497 \nQ 953 2441 691 2322 \nL 691 4666 \nz\n\" id=\"DejaVuSans-35\" transform=\"scale(0.015625)\"/>\n       </defs>\n       <use xlink:href=\"#DejaVuSans-35\"/>\n      </g>\n     </g>\n    </g>\n    <g id=\"xtick_3\">\n     <g id=\"line2d_3\">\n      <g>\n       <use style=\"stroke:#000000;stroke-width:0.8;\" x=\"108.465\" xlink:href=\"#madc0dad97b\" y=\"224.64\"/>\n      </g>\n     </g>\n     <g id=\"text_3\">\n      <!-- 10 -->\n      <g transform=\"translate(102.1025 239.238437)scale(0.1 -0.1)\">\n       <defs>\n        <path d=\"M 794 531 \nL 1825 531 \nL 1825 4091 \nL 703 3866 \nL 703 4441 \nL 1819 4666 \nL 2450 4666 \nL 2450 531 \nL 3481 531 \nL 3481 0 \nL 794 0 \nL 794 531 \nz\n\" id=\"DejaVuSans-31\" transform=\"scale(0.015625)\"/>\n       </defs>\n       <use xlink:href=\"#DejaVuSans-31\"/>\n       <use x=\"63.623047\" xlink:href=\"#DejaVuSans-30\"/>\n      </g>\n     </g>\n    </g>\n    <g id=\"xtick_4\">\n     <g id=\"line2d_4\">\n      <g>\n       <use style=\"stroke:#000000;stroke-width:0.8;\" x=\"147.293571\" xlink:href=\"#madc0dad97b\" y=\"224.64\"/>\n      </g>\n     </g>\n     <g id=\"text_4\">\n      <!-- 15 -->\n      <g transform=\"translate(140.931071 239.238437)scale(0.1 -0.1)\">\n       <use xlink:href=\"#DejaVuSans-31\"/>\n       <use x=\"63.623047\" xlink:href=\"#DejaVuSans-35\"/>\n      </g>\n     </g>\n    </g>\n    <g id=\"xtick_5\">\n     <g id=\"line2d_5\">\n      <g>\n       <use style=\"stroke:#000000;stroke-width:0.8;\" x=\"186.122143\" xlink:href=\"#madc0dad97b\" y=\"224.64\"/>\n      </g>\n     </g>\n     <g id=\"text_5\">\n      <!-- 20 -->\n      <g transform=\"translate(179.759643 239.238437)scale(0.1 -0.1)\">\n       <defs>\n        <path d=\"M 1228 531 \nL 3431 531 \nL 3431 0 \nL 469 0 \nL 469 531 \nQ 828 903 1448 1529 \nQ 2069 2156 2228 2338 \nQ 2531 2678 2651 2914 \nQ 2772 3150 2772 3378 \nQ 2772 3750 2511 3984 \nQ 2250 4219 1831 4219 \nQ 1534 4219 1204 4116 \nQ 875 4013 500 3803 \nL 500 4441 \nQ 881 4594 1212 4672 \nQ 1544 4750 1819 4750 \nQ 2544 4750 2975 4387 \nQ 3406 4025 3406 3419 \nQ 3406 3131 3298 2873 \nQ 3191 2616 2906 2266 \nQ 2828 2175 2409 1742 \nQ 1991 1309 1228 531 \nz\n\" id=\"DejaVuSans-32\" transform=\"scale(0.015625)\"/>\n       </defs>\n       <use xlink:href=\"#DejaVuSans-32\"/>\n       <use x=\"63.623047\" xlink:href=\"#DejaVuSans-30\"/>\n      </g>\n     </g>\n    </g>\n    <g id=\"xtick_6\">\n     <g id=\"line2d_6\">\n      <g>\n       <use style=\"stroke:#000000;stroke-width:0.8;\" x=\"224.950714\" xlink:href=\"#madc0dad97b\" y=\"224.64\"/>\n      </g>\n     </g>\n     <g id=\"text_6\">\n      <!-- 25 -->\n      <g transform=\"translate(218.588214 239.238437)scale(0.1 -0.1)\">\n       <use xlink:href=\"#DejaVuSans-32\"/>\n       <use x=\"63.623047\" xlink:href=\"#DejaVuSans-35\"/>\n      </g>\n     </g>\n    </g>\n   </g>\n   <g id=\"matplotlib.axis_2\">\n    <g id=\"ytick_1\">\n     <g id=\"line2d_7\">\n      <defs>\n       <path d=\"M 0 0 \nL -3.5 0 \n\" id=\"mbf691ab9fc\" style=\"stroke:#000000;stroke-width:0.8;\"/>\n      </defs>\n      <g>\n       <use style=\"stroke:#000000;stroke-width:0.8;\" x=\"26.925\" xlink:href=\"#mbf691ab9fc\" y=\"11.082857\"/>\n      </g>\n     </g>\n     <g id=\"text_7\">\n      <!-- 0 -->\n      <g transform=\"translate(13.5625 14.882076)scale(0.1 -0.1)\">\n       <use xlink:href=\"#DejaVuSans-30\"/>\n      </g>\n     </g>\n    </g>\n    <g id=\"ytick_2\">\n     <g id=\"line2d_8\">\n      <g>\n       <use style=\"stroke:#000000;stroke-width:0.8;\" x=\"26.925\" xlink:href=\"#mbf691ab9fc\" y=\"49.911429\"/>\n      </g>\n     </g>\n     <g id=\"text_8\">\n      <!-- 5 -->\n      <g transform=\"translate(13.5625 53.710647)scale(0.1 -0.1)\">\n       <use xlink:href=\"#DejaVuSans-35\"/>\n      </g>\n     </g>\n    </g>\n    <g id=\"ytick_3\">\n     <g id=\"line2d_9\">\n      <g>\n       <use style=\"stroke:#000000;stroke-width:0.8;\" x=\"26.925\" xlink:href=\"#mbf691ab9fc\" y=\"88.74\"/>\n      </g>\n     </g>\n     <g id=\"text_9\">\n      <!-- 10 -->\n      <g transform=\"translate(7.2 92.539219)scale(0.1 -0.1)\">\n       <use xlink:href=\"#DejaVuSans-31\"/>\n       <use x=\"63.623047\" xlink:href=\"#DejaVuSans-30\"/>\n      </g>\n     </g>\n    </g>\n    <g id=\"ytick_4\">\n     <g id=\"line2d_10\">\n      <g>\n       <use style=\"stroke:#000000;stroke-width:0.8;\" x=\"26.925\" xlink:href=\"#mbf691ab9fc\" y=\"127.568571\"/>\n      </g>\n     </g>\n     <g id=\"text_10\">\n      <!-- 15 -->\n      <g transform=\"translate(7.2 131.36779)scale(0.1 -0.1)\">\n       <use xlink:href=\"#DejaVuSans-31\"/>\n       <use x=\"63.623047\" xlink:href=\"#DejaVuSans-35\"/>\n      </g>\n     </g>\n    </g>\n    <g id=\"ytick_5\">\n     <g id=\"line2d_11\">\n      <g>\n       <use style=\"stroke:#000000;stroke-width:0.8;\" x=\"26.925\" xlink:href=\"#mbf691ab9fc\" y=\"166.397143\"/>\n      </g>\n     </g>\n     <g id=\"text_11\">\n      <!-- 20 -->\n      <g transform=\"translate(7.2 170.196362)scale(0.1 -0.1)\">\n       <use xlink:href=\"#DejaVuSans-32\"/>\n       <use x=\"63.623047\" xlink:href=\"#DejaVuSans-30\"/>\n      </g>\n     </g>\n    </g>\n    <g id=\"ytick_6\">\n     <g id=\"line2d_12\">\n      <g>\n       <use style=\"stroke:#000000;stroke-width:0.8;\" x=\"26.925\" xlink:href=\"#mbf691ab9fc\" y=\"205.225714\"/>\n      </g>\n     </g>\n     <g id=\"text_12\">\n      <!-- 25 -->\n      <g transform=\"translate(7.2 209.024933)scale(0.1 -0.1)\">\n       <use xlink:href=\"#DejaVuSans-32\"/>\n       <use x=\"63.623047\" xlink:href=\"#DejaVuSans-35\"/>\n      </g>\n     </g>\n    </g>\n   </g>\n   <g id=\"patch_3\">\n    <path d=\"M 26.925 224.64 \nL 26.925 7.2 \n\" style=\"fill:none;stroke:#000000;stroke-linecap:square;stroke-linejoin:miter;stroke-width:0.8;\"/>\n   </g>\n   <g id=\"patch_4\">\n    <path d=\"M 244.365 224.64 \nL 244.365 7.2 \n\" style=\"fill:none;stroke:#000000;stroke-linecap:square;stroke-linejoin:miter;stroke-width:0.8;\"/>\n   </g>\n   <g id=\"patch_5\">\n    <path d=\"M 26.925 224.64 \nL 244.365 224.64 \n\" style=\"fill:none;stroke:#000000;stroke-linecap:square;stroke-linejoin:miter;stroke-width:0.8;\"/>\n   </g>\n   <g id=\"patch_6\">\n    <path d=\"M 26.925 7.2 \nL 244.365 7.2 \n\" style=\"fill:none;stroke:#000000;stroke-linecap:square;stroke-linejoin:miter;stroke-width:0.8;\"/>\n   </g>\n  </g>\n </g>\n <defs>\n  <clipPath id=\"p095c56b699\">\n   <rect height=\"217.44\" width=\"217.44\" x=\"26.925\" y=\"7.2\"/>\n  </clipPath>\n </defs>\n</svg>\n",
      "image/png": "[encoded data removed]"
     },
     "metadata": {
      "needs_background": "light"
     }
    }
   ],
   "metadata": {}
  },
  {
   "cell_type": "markdown",
   "source": [
    "## Training\n",
    "\n",
    "1. Generate Fake Images\n",
    "2. Feed to discriminator\n",
    "3. Get generator loss and train generator\n",
    "4. Generate more fake images\n",
    "5. Feed to discriminator\n",
    "6. Get discriminator loss and train discriminator"
   ],
   "metadata": {}
  },
  {
   "cell_type": "code",
   "execution_count": 106,
   "source": [
    "EPOCHS = 35\n",
    "REAL_LABEL = 1.0\n",
    "FAKE_LABEL = 0.0"
   ],
   "outputs": [],
   "metadata": {}
  },
  {
   "cell_type": "code",
   "execution_count": 107,
   "source": [
    "for epoch in range(1, EPOCHS + 1):\n",
    "    loss_d = 0.0\n",
    "    loss_g = 0.0\n",
    "    for images, labels in tqdm(trainloader):\n",
    "        fake_labels = torch.full((images.size(0), 1), FAKE_LABEL)\n",
    "        real_labels = torch.full((images.size(0), 1), REAL_LABEL)\n",
    "        ### Training Discriminator ###\n",
    "        ### Maximize log(D(x)) + log(1 - D(G(z))) ###\n",
    "        optim_D.zero_grad()\n",
    "\n",
    "        noise = torch.randn(images.size(0), 100)\n",
    "        fake_images = G(noise)\n",
    "        d_real = D(images)\n",
    "        d_fake = D(fake_images)\n",
    "\n",
    "        # d_loss = criterion(d_real, torch.ones(d_real.size())) + criterion(d_fake, torch.zeros(d_fake.size())) # loss_fake + loss_real\n",
    "        d_loss_real = criterion(d_real, real_labels)\n",
    "        d_loss_fake = criterion(d_fake, fake_labels)\n",
    "        d_loss = d_loss_real + d_loss_fake\n",
    "        d_loss.backward()\n",
    "        optim_D.step()\n",
    "        loss_d += d_loss\n",
    "\n",
    "        ### Training Generator ###\n",
    "        ### Maximize log(D(G(z))) ###\n",
    "        optim_G.zero_grad()\n",
    "        noise = torch.randn(images.size(0), 100)\n",
    "        fake_images = G(noise)\n",
    "        d_fake = D(fake_images)\n",
    "        g_loss = criterion(d_fake, real_labels)\n",
    "        g_loss.backward()\n",
    "        loss_g += g_loss\n",
    "        optim_G.step()\n",
    "    \n",
    "    print('Epoch [{}/{}], Loss_D: {:.4f}, Loss_G: {:.4f}'.format(epoch, EPOCHS, loss_d / len(trainloader), loss_g / len(trainloader)))"
   ],
   "outputs": [
    {
     "output_type": "display_data",
     "data": {
      "text/plain": [
       "  0%|          | 0/938 [00:00<?, ?it/s]"
      ],
      "application/vnd.jupyter.widget-view+json": {
       "version_major": 2,
       "version_minor": 0,
       "model_id": "1ce08245b71544f19c99467bb5bfe138"
      }
     },
     "metadata": {}
    },
    {
     "output_type": "stream",
     "name": "stdout",
     "text": [
      "Epoch [1/35], Loss_D: 0.3765, Loss_G: 3.0167\n"
     ]
    },
    {
     "output_type": "display_data",
     "data": {
      "text/plain": [
       "  0%|          | 0/938 [00:00<?, ?it/s]"
      ],
      "application/vnd.jupyter.widget-view+json": {
       "version_major": 2,
       "version_minor": 0,
       "model_id": "688aafdc28794dd29d9f67eafa13697c"
      }
     },
     "metadata": {}
    },
    {
     "output_type": "stream",
     "name": "stdout",
     "text": [
      "Epoch [2/35], Loss_D: 0.9863, Loss_G: 2.9274\n"
     ]
    },
    {
     "output_type": "display_data",
     "data": {
      "text/plain": [
       "  0%|          | 0/938 [00:00<?, ?it/s]"
      ],
      "application/vnd.jupyter.widget-view+json": {
       "version_major": 2,
       "version_minor": 0,
       "model_id": "922c4f1642d54a43b59aace1705fb008"
      }
     },
     "metadata": {}
    },
    {
     "output_type": "stream",
     "name": "stdout",
     "text": [
      "Epoch [3/35], Loss_D: 0.7994, Loss_G: 1.9590\n"
     ]
    },
    {
     "output_type": "display_data",
     "data": {
      "text/plain": [
       "  0%|          | 0/938 [00:00<?, ?it/s]"
      ],
      "application/vnd.jupyter.widget-view+json": {
       "version_major": 2,
       "version_minor": 0,
       "model_id": "41f0d7b1eaf64a04a7959b15af47fb97"
      }
     },
     "metadata": {}
    },
    {
     "output_type": "stream",
     "name": "stdout",
     "text": [
      "Epoch [4/35], Loss_D: 0.9786, Loss_G: 2.4117\n"
     ]
    },
    {
     "output_type": "display_data",
     "data": {
      "text/plain": [
       "  0%|          | 0/938 [00:00<?, ?it/s]"
      ],
      "application/vnd.jupyter.widget-view+json": {
       "version_major": 2,
       "version_minor": 0,
       "model_id": "2cc584203e914134b009a7953ad67023"
      }
     },
     "metadata": {}
    },
    {
     "output_type": "stream",
     "name": "stdout",
     "text": [
      "Epoch [5/35], Loss_D: 1.1245, Loss_G: 1.7591\n"
     ]
    },
    {
     "output_type": "display_data",
     "data": {
      "text/plain": [
       "  0%|          | 0/938 [00:00<?, ?it/s]"
      ],
      "application/vnd.jupyter.widget-view+json": {
       "version_major": 2,
       "version_minor": 0,
       "model_id": "70505a38e69c4b6c9fbad98e3ceb6ba9"
      }
     },
     "metadata": {}
    },
    {
     "output_type": "stream",
     "name": "stdout",
     "text": [
      "Epoch [6/35], Loss_D: 1.0838, Loss_G: 1.4808\n"
     ]
    },
    {
     "output_type": "display_data",
     "data": {
      "text/plain": [
       "  0%|          | 0/938 [00:00<?, ?it/s]"
      ],
      "application/vnd.jupyter.widget-view+json": {
       "version_major": 2,
       "version_minor": 0,
       "model_id": "26291e08bc3d42538c282d1f78e82f74"
      }
     },
     "metadata": {}
    },
    {
     "output_type": "stream",
     "name": "stdout",
     "text": [
      "Epoch [7/35], Loss_D: 0.8752, Loss_G: 1.6926\n"
     ]
    },
    {
     "output_type": "display_data",
     "data": {
      "text/plain": [
       "  0%|          | 0/938 [00:00<?, ?it/s]"
      ],
      "application/vnd.jupyter.widget-view+json": {
       "version_major": 2,
       "version_minor": 0,
       "model_id": "581eb0734a744e0eb712ef47b8e6bf4c"
      }
     },
     "metadata": {}
    },
    {
     "output_type": "stream",
     "name": "stdout",
     "text": [
      "Epoch [8/35], Loss_D: 0.9880, Loss_G: 1.9183\n"
     ]
    },
    {
     "output_type": "display_data",
     "data": {
      "text/plain": [
       "  0%|          | 0/938 [00:00<?, ?it/s]"
      ],
      "application/vnd.jupyter.widget-view+json": {
       "version_major": 2,
       "version_minor": 0,
       "model_id": "7773319f127d4f4a94760ed65aebe123"
      }
     },
     "metadata": {}
    },
    {
     "output_type": "stream",
     "name": "stdout",
     "text": [
      "Epoch [9/35], Loss_D: 0.6399, Loss_G: 2.1340\n"
     ]
    },
    {
     "output_type": "display_data",
     "data": {
      "text/plain": [
       "  0%|          | 0/938 [00:00<?, ?it/s]"
      ],
      "application/vnd.jupyter.widget-view+json": {
       "version_major": 2,
       "version_minor": 0,
       "model_id": "caf089c29dd04d3e91d774361fe4ebbc"
      }
     },
     "metadata": {}
    },
    {
     "output_type": "stream",
     "name": "stdout",
     "text": [
      "Epoch [10/35], Loss_D: 0.5443, Loss_G: 2.3943\n"
     ]
    },
    {
     "output_type": "display_data",
     "data": {
      "text/plain": [
       "  0%|          | 0/938 [00:00<?, ?it/s]"
      ],
      "application/vnd.jupyter.widget-view+json": {
       "version_major": 2,
       "version_minor": 0,
       "model_id": "d4101181682046f481e3b99c76d17101"
      }
     },
     "metadata": {}
    },
    {
     "output_type": "stream",
     "name": "stdout",
     "text": [
      "Epoch [11/35], Loss_D: 0.5784, Loss_G: 2.7131\n"
     ]
    },
    {
     "output_type": "display_data",
     "data": {
      "text/plain": [
       "  0%|          | 0/938 [00:00<?, ?it/s]"
      ],
      "application/vnd.jupyter.widget-view+json": {
       "version_major": 2,
       "version_minor": 0,
       "model_id": "5855965fd71d41f293b1997bae406f39"
      }
     },
     "metadata": {}
    },
    {
     "output_type": "stream",
     "name": "stdout",
     "text": [
      "Epoch [12/35], Loss_D: 0.6921, Loss_G: 2.5493\n"
     ]
    },
    {
     "output_type": "display_data",
     "data": {
      "text/plain": [
       "  0%|          | 0/938 [00:00<?, ?it/s]"
      ],
      "application/vnd.jupyter.widget-view+json": {
       "version_major": 2,
       "version_minor": 0,
       "model_id": "0e792dcfb8524317800ff91d7d5edbdf"
      }
     },
     "metadata": {}
    },
    {
     "output_type": "stream",
     "name": "stdout",
     "text": [
      "Epoch [13/35], Loss_D: 0.7577, Loss_G: 2.3828\n"
     ]
    },
    {
     "output_type": "display_data",
     "data": {
      "text/plain": [
       "  0%|          | 0/938 [00:00<?, ?it/s]"
      ],
      "application/vnd.jupyter.widget-view+json": {
       "version_major": 2,
       "version_minor": 0,
       "model_id": "781bf618f0b34f6a93abe4dc517617f7"
      }
     },
     "metadata": {}
    },
    {
     "output_type": "stream",
     "name": "stdout",
     "text": [
      "Epoch [14/35], Loss_D: 0.6998, Loss_G: 2.2063\n"
     ]
    },
    {
     "output_type": "display_data",
     "data": {
      "text/plain": [
       "  0%|          | 0/938 [00:00<?, ?it/s]"
      ],
      "application/vnd.jupyter.widget-view+json": {
       "version_major": 2,
       "version_minor": 0,
       "model_id": "17b9976d137d495295680553e22fb533"
      }
     },
     "metadata": {}
    },
    {
     "output_type": "stream",
     "name": "stdout",
     "text": [
      "Epoch [15/35], Loss_D: 0.6163, Loss_G: 2.3092\n"
     ]
    },
    {
     "output_type": "display_data",
     "data": {
      "text/plain": [
       "  0%|          | 0/938 [00:00<?, ?it/s]"
      ],
      "application/vnd.jupyter.widget-view+json": {
       "version_major": 2,
       "version_minor": 0,
       "model_id": "d9b5509fbaa5430d865e225a1edace4d"
      }
     },
     "metadata": {}
    },
    {
     "output_type": "stream",
     "name": "stdout",
     "text": [
      "Epoch [16/35], Loss_D: 0.5971, Loss_G: 2.4648\n"
     ]
    },
    {
     "output_type": "display_data",
     "data": {
      "text/plain": [
       "  0%|          | 0/938 [00:00<?, ?it/s]"
      ],
      "application/vnd.jupyter.widget-view+json": {
       "version_major": 2,
       "version_minor": 0,
       "model_id": "e5144400d3a745d3bfcb4d8cb7d7d881"
      }
     },
     "metadata": {}
    },
    {
     "output_type": "stream",
     "name": "stdout",
     "text": [
      "Epoch [17/35], Loss_D: 0.6133, Loss_G: 2.3743\n"
     ]
    },
    {
     "output_type": "display_data",
     "data": {
      "text/plain": [
       "  0%|          | 0/938 [00:00<?, ?it/s]"
      ],
      "application/vnd.jupyter.widget-view+json": {
       "version_major": 2,
       "version_minor": 0,
       "model_id": "635aa1ae14ca4bca9230ba7bf059e17c"
      }
     },
     "metadata": {}
    },
    {
     "output_type": "stream",
     "name": "stdout",
     "text": [
      "Epoch [18/35], Loss_D: 0.6692, Loss_G: 2.4149\n"
     ]
    },
    {
     "output_type": "display_data",
     "data": {
      "text/plain": [
       "  0%|          | 0/938 [00:00<?, ?it/s]"
      ],
      "application/vnd.jupyter.widget-view+json": {
       "version_major": 2,
       "version_minor": 0,
       "model_id": "c4963a421f7740f586821233a07bd36f"
      }
     },
     "metadata": {}
    },
    {
     "output_type": "stream",
     "name": "stdout",
     "text": [
      "Epoch [19/35], Loss_D: 0.7016, Loss_G: 2.2532\n"
     ]
    },
    {
     "output_type": "display_data",
     "data": {
      "text/plain": [
       "  0%|          | 0/938 [00:00<?, ?it/s]"
      ],
      "application/vnd.jupyter.widget-view+json": {
       "version_major": 2,
       "version_minor": 0,
       "model_id": "0ea49ff32d3e4e6d8f2704dd92a3cb40"
      }
     },
     "metadata": {}
    },
    {
     "output_type": "stream",
     "name": "stdout",
     "text": [
      "Epoch [20/35], Loss_D: 0.8157, Loss_G: 2.2394\n"
     ]
    },
    {
     "output_type": "display_data",
     "data": {
      "text/plain": [
       "  0%|          | 0/938 [00:00<?, ?it/s]"
      ],
      "application/vnd.jupyter.widget-view+json": {
       "version_major": 2,
       "version_minor": 0,
       "model_id": "86034b2a0dba43288794614c20af77a1"
      }
     },
     "metadata": {}
    },
    {
     "output_type": "stream",
     "name": "stdout",
     "text": [
      "Epoch [21/35], Loss_D: 0.8516, Loss_G: 2.0363\n"
     ]
    },
    {
     "output_type": "display_data",
     "data": {
      "text/plain": [
       "  0%|          | 0/938 [00:00<?, ?it/s]"
      ],
      "application/vnd.jupyter.widget-view+json": {
       "version_major": 2,
       "version_minor": 0,
       "model_id": "1634753d1a514b9387a1e8ee01ebeb8e"
      }
     },
     "metadata": {}
    },
    {
     "output_type": "stream",
     "name": "stdout",
     "text": [
      "Epoch [22/35], Loss_D: 0.8746, Loss_G: 1.8538\n"
     ]
    },
    {
     "output_type": "display_data",
     "data": {
      "text/plain": [
       "  0%|          | 0/938 [00:00<?, ?it/s]"
      ],
      "application/vnd.jupyter.widget-view+json": {
       "version_major": 2,
       "version_minor": 0,
       "model_id": "157d498dae8041b39766bdcf7a887e13"
      }
     },
     "metadata": {}
    },
    {
     "output_type": "stream",
     "name": "stdout",
     "text": [
      "Epoch [23/35], Loss_D: 0.8831, Loss_G: 1.7683\n"
     ]
    },
    {
     "output_type": "display_data",
     "data": {
      "text/plain": [
       "  0%|          | 0/938 [00:00<?, ?it/s]"
      ],
      "application/vnd.jupyter.widget-view+json": {
       "version_major": 2,
       "version_minor": 0,
       "model_id": "abdbb533cd1f46ddba9b2ea57efcaf5e"
      }
     },
     "metadata": {}
    },
    {
     "output_type": "stream",
     "name": "stdout",
     "text": [
      "Epoch [24/35], Loss_D: 0.8005, Loss_G: 1.7757\n"
     ]
    },
    {
     "output_type": "display_data",
     "data": {
      "text/plain": [
       "  0%|          | 0/938 [00:00<?, ?it/s]"
      ],
      "application/vnd.jupyter.widget-view+json": {
       "version_major": 2,
       "version_minor": 0,
       "model_id": "023e1d9e13094d9caa4f41d99073c805"
      }
     },
     "metadata": {}
    },
    {
     "output_type": "stream",
     "name": "stdout",
     "text": [
      "Epoch [25/35], Loss_D: 0.8545, Loss_G: 1.9139\n"
     ]
    },
    {
     "output_type": "display_data",
     "data": {
      "text/plain": [
       "  0%|          | 0/938 [00:00<?, ?it/s]"
      ],
      "application/vnd.jupyter.widget-view+json": {
       "version_major": 2,
       "version_minor": 0,
       "model_id": "1376382c29a74ec0a1b39af96dfc7ae2"
      }
     },
     "metadata": {}
    },
    {
     "output_type": "stream",
     "name": "stdout",
     "text": [
      "Epoch [26/35], Loss_D: 0.9117, Loss_G: 1.7429\n"
     ]
    },
    {
     "output_type": "display_data",
     "data": {
      "text/plain": [
       "  0%|          | 0/938 [00:00<?, ?it/s]"
      ],
      "application/vnd.jupyter.widget-view+json": {
       "version_major": 2,
       "version_minor": 0,
       "model_id": "5d72bc54720d4b43a341f4f94cf9a432"
      }
     },
     "metadata": {}
    },
    {
     "output_type": "stream",
     "name": "stdout",
     "text": [
      "Epoch [27/35], Loss_D: 0.9376, Loss_G: 1.8302\n"
     ]
    },
    {
     "output_type": "display_data",
     "data": {
      "text/plain": [
       "  0%|          | 0/938 [00:00<?, ?it/s]"
      ],
      "application/vnd.jupyter.widget-view+json": {
       "version_major": 2,
       "version_minor": 0,
       "model_id": "657fa5decded4c41a22d7b3298d8b16e"
      }
     },
     "metadata": {}
    },
    {
     "output_type": "stream",
     "name": "stdout",
     "text": [
      "Epoch [28/35], Loss_D: 0.9469, Loss_G: 1.7322\n"
     ]
    },
    {
     "output_type": "display_data",
     "data": {
      "text/plain": [
       "  0%|          | 0/938 [00:00<?, ?it/s]"
      ],
      "application/vnd.jupyter.widget-view+json": {
       "version_major": 2,
       "version_minor": 0,
       "model_id": "314002be730e4336bd9d7b41e539aa63"
      }
     },
     "metadata": {}
    },
    {
     "output_type": "stream",
     "name": "stdout",
     "text": [
      "Epoch [29/35], Loss_D: 0.9784, Loss_G: 1.7418\n"
     ]
    },
    {
     "output_type": "display_data",
     "data": {
      "text/plain": [
       "  0%|          | 0/938 [00:00<?, ?it/s]"
      ],
      "application/vnd.jupyter.widget-view+json": {
       "version_major": 2,
       "version_minor": 0,
       "model_id": "ba81d5f111444328b81ba11925b8fb81"
      }
     },
     "metadata": {}
    },
    {
     "output_type": "stream",
     "name": "stdout",
     "text": [
      "Epoch [30/35], Loss_D: 1.0223, Loss_G: 2.0703\n"
     ]
    },
    {
     "output_type": "display_data",
     "data": {
      "text/plain": [
       "  0%|          | 0/938 [00:00<?, ?it/s]"
      ],
      "application/vnd.jupyter.widget-view+json": {
       "version_major": 2,
       "version_minor": 0,
       "model_id": "6d82aed6f21b479c8eae114a8e94a769"
      }
     },
     "metadata": {}
    },
    {
     "output_type": "stream",
     "name": "stdout",
     "text": [
      "Epoch [31/35], Loss_D: 0.9931, Loss_G: 1.9527\n"
     ]
    },
    {
     "output_type": "display_data",
     "data": {
      "text/plain": [
       "  0%|          | 0/938 [00:00<?, ?it/s]"
      ],
      "application/vnd.jupyter.widget-view+json": {
       "version_major": 2,
       "version_minor": 0,
       "model_id": "fc274dccca9641808024cb93f81b610e"
      }
     },
     "metadata": {}
    },
    {
     "output_type": "stream",
     "name": "stdout",
     "text": [
      "Epoch [32/35], Loss_D: 1.0120, Loss_G: 1.7579\n"
     ]
    },
    {
     "output_type": "display_data",
     "data": {
      "text/plain": [
       "  0%|          | 0/938 [00:00<?, ?it/s]"
      ],
      "application/vnd.jupyter.widget-view+json": {
       "version_major": 2,
       "version_minor": 0,
       "model_id": "8a754aed59c147fa907f8618c24e7a05"
      }
     },
     "metadata": {}
    },
    {
     "output_type": "stream",
     "name": "stdout",
     "text": [
      "Epoch [33/35], Loss_D: 0.9896, Loss_G: 1.6564\n"
     ]
    },
    {
     "output_type": "display_data",
     "data": {
      "text/plain": [
       "  0%|          | 0/938 [00:00<?, ?it/s]"
      ],
      "application/vnd.jupyter.widget-view+json": {
       "version_major": 2,
       "version_minor": 0,
       "model_id": "e1b4261e5bbd4de4b0cac2364885fca1"
      }
     },
     "metadata": {}
    },
    {
     "output_type": "stream",
     "name": "stdout",
     "text": [
      "Epoch [34/35], Loss_D: 1.0153, Loss_G: 1.5958\n"
     ]
    },
    {
     "output_type": "display_data",
     "data": {
      "text/plain": [
       "  0%|          | 0/938 [00:00<?, ?it/s]"
      ],
      "application/vnd.jupyter.widget-view+json": {
       "version_major": 2,
       "version_minor": 0,
       "model_id": "4349d85cbb6a49afb31bc5d090c79ff5"
      }
     },
     "metadata": {}
    },
    {
     "output_type": "stream",
     "name": "stdout",
     "text": [
      "Epoch [35/35], Loss_D: 0.9540, Loss_G: 1.7789\n"
     ]
    }
   ],
   "metadata": {}
  },
  {
   "cell_type": "code",
   "execution_count": 121,
   "source": [
    "random_sample = torch.rand(1, 100)\n",
    "plt.imshow(G(random_sample).view(28, 28).detach().numpy(), cmap='gray')"
   ],
   "outputs": [
    {
     "output_type": "execute_result",
     "data": {
      "text/plain": [
       "<matplotlib.image.AxesImage at 0x12e7a9280>"
      ]
     },
     "metadata": {},
     "execution_count": 121
    },
    {
     "output_type": "display_data",
     "data": {
      "text/plain": [
       "<Figure size 432x288 with 1 Axes>"
      ],
      "image/svg+xml": "<?xml version=\"1.0\" encoding=\"utf-8\" standalone=\"no\"?>\n<!DOCTYPE svg PUBLIC \"-//W3C//DTD SVG 1.1//EN\"\n  \"http://www.w3.org/Graphics/SVG/1.1/DTD/svg11.dtd\">\n<svg height=\"248.518125pt\" version=\"1.1\" viewBox=\"0 0 251.565 248.518125\" width=\"251.565pt\" xmlns=\"http://www.w3.org/2000/svg\" xmlns:xlink=\"http://www.w3.org/1999/xlink\">\n <metadata>\n  <rdf:RDF xmlns:cc=\"http://creativecommons.org/ns#\" xmlns:dc=\"http://purl.org/dc/elements/1.1/\" xmlns:rdf=\"http://www.w3.org/1999/02/22-rdf-syntax-ns#\">\n   <cc:Work>\n    <dc:type rdf:resource=\"http://purl.org/dc/dcmitype/StillImage\"/>\n    <dc:date>2021-08-24T16:10:04.243654</dc:date>\n    <dc:format>image/svg+xml</dc:format>\n    <dc:creator>\n     <cc:Agent>\n      <dc:title>Matplotlib v3.4.3, https://matplotlib.org/</dc:title>\n     </cc:Agent>\n    </dc:creator>\n   </cc:Work>\n  </rdf:RDF>\n </metadata>\n <defs>\n  <style type=\"text/css\">*{stroke-linecap:butt;stroke-linejoin:round;}</style>\n </defs>\n <g id=\"figure_1\">\n  <g id=\"patch_1\">\n   <path d=\"M 0 248.518125 \nL 251.565 248.518125 \nL 251.565 0 \nL 0 0 \nz\n\" style=\"fill:none;\"/>\n  </g>\n  <g id=\"axes_1\">\n   <g id=\"patch_2\">\n    <path d=\"M 26.925 224.64 \nL 244.365 224.64 \nL 244.365 7.2 \nL 26.925 7.2 \nz\n\" style=\"fill:#ffffff;\"/>\n   </g>\n   <g clip-path=\"url(#p30e3c5931d)\">\n    <image height=\"218\" id=\"image8d458645b0\" transform=\"scale(1 -1)translate(0 -218)\" width=\"218\" x=\"26.925\" xlink:href=\"data:image/png;base64,\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\" y=\"-6.64\"/>\n   </g>\n   <g id=\"matplotlib.axis_1\">\n    <g id=\"xtick_1\">\n     <g id=\"line2d_1\">\n      <defs>\n       <path d=\"M 0 0 \nL 0 3.5 \n\" id=\"md5062a633f\" style=\"stroke:#000000;stroke-width:0.8;\"/>\n      </defs>\n      <g>\n       <use style=\"stroke:#000000;stroke-width:0.8;\" x=\"30.807857\" xlink:href=\"#md5062a633f\" y=\"224.64\"/>\n      </g>\n     </g>\n     <g id=\"text_1\">\n      <!-- 0 -->\n      <g transform=\"translate(27.626607 239.238437)scale(0.1 -0.1)\">\n       <defs>\n        <path d=\"M 2034 4250 \nQ 1547 4250 1301 3770 \nQ 1056 3291 1056 2328 \nQ 1056 1369 1301 889 \nQ 1547 409 2034 409 \nQ 2525 409 2770 889 \nQ 3016 1369 3016 2328 \nQ 3016 3291 2770 3770 \nQ 2525 4250 2034 4250 \nz\nM 2034 4750 \nQ 2819 4750 3233 4129 \nQ 3647 3509 3647 2328 \nQ 3647 1150 3233 529 \nQ 2819 -91 2034 -91 \nQ 1250 -91 836 529 \nQ 422 1150 422 2328 \nQ 422 3509 836 4129 \nQ 1250 4750 2034 4750 \nz\n\" id=\"DejaVuSans-30\" transform=\"scale(0.015625)\"/>\n       </defs>\n       <use xlink:href=\"#DejaVuSans-30\"/>\n      </g>\n     </g>\n    </g>\n    <g id=\"xtick_2\">\n     <g id=\"line2d_2\">\n      <g>\n       <use style=\"stroke:#000000;stroke-width:0.8;\" x=\"69.636429\" xlink:href=\"#md5062a633f\" y=\"224.64\"/>\n      </g>\n     </g>\n     <g id=\"text_2\">\n      <!-- 5 -->\n      <g transform=\"translate(66.455179 239.238437)scale(0.1 -0.1)\">\n       <defs>\n        <path d=\"M 691 4666 \nL 3169 4666 \nL 3169 4134 \nL 1269 4134 \nL 1269 2991 \nQ 1406 3038 1543 3061 \nQ 1681 3084 1819 3084 \nQ 2600 3084 3056 2656 \nQ 3513 2228 3513 1497 \nQ 3513 744 3044 326 \nQ 2575 -91 1722 -91 \nQ 1428 -91 1123 -41 \nQ 819 9 494 109 \nL 494 744 \nQ 775 591 1075 516 \nQ 1375 441 1709 441 \nQ 2250 441 2565 725 \nQ 2881 1009 2881 1497 \nQ 2881 1984 2565 2268 \nQ 2250 2553 1709 2553 \nQ 1456 2553 1204 2497 \nQ 953 2441 691 2322 \nL 691 4666 \nz\n\" id=\"DejaVuSans-35\" transform=\"scale(0.015625)\"/>\n       </defs>\n       <use xlink:href=\"#DejaVuSans-35\"/>\n      </g>\n     </g>\n    </g>\n    <g id=\"xtick_3\">\n     <g id=\"line2d_3\">\n      <g>\n       <use style=\"stroke:#000000;stroke-width:0.8;\" x=\"108.465\" xlink:href=\"#md5062a633f\" y=\"224.64\"/>\n      </g>\n     </g>\n     <g id=\"text_3\">\n      <!-- 10 -->\n      <g transform=\"translate(102.1025 239.238437)scale(0.1 -0.1)\">\n       <defs>\n        <path d=\"M 794 531 \nL 1825 531 \nL 1825 4091 \nL 703 3866 \nL 703 4441 \nL 1819 4666 \nL 2450 4666 \nL 2450 531 \nL 3481 531 \nL 3481 0 \nL 794 0 \nL 794 531 \nz\n\" id=\"DejaVuSans-31\" transform=\"scale(0.015625)\"/>\n       </defs>\n       <use xlink:href=\"#DejaVuSans-31\"/>\n       <use x=\"63.623047\" xlink:href=\"#DejaVuSans-30\"/>\n      </g>\n     </g>\n    </g>\n    <g id=\"xtick_4\">\n     <g id=\"line2d_4\">\n      <g>\n       <use style=\"stroke:#000000;stroke-width:0.8;\" x=\"147.293571\" xlink:href=\"#md5062a633f\" y=\"224.64\"/>\n      </g>\n     </g>\n     <g id=\"text_4\">\n      <!-- 15 -->\n      <g transform=\"translate(140.931071 239.238437)scale(0.1 -0.1)\">\n       <use xlink:href=\"#DejaVuSans-31\"/>\n       <use x=\"63.623047\" xlink:href=\"#DejaVuSans-35\"/>\n      </g>\n     </g>\n    </g>\n    <g id=\"xtick_5\">\n     <g id=\"line2d_5\">\n      <g>\n       <use style=\"stroke:#000000;stroke-width:0.8;\" x=\"186.122143\" xlink:href=\"#md5062a633f\" y=\"224.64\"/>\n      </g>\n     </g>\n     <g id=\"text_5\">\n      <!-- 20 -->\n      <g transform=\"translate(179.759643 239.238437)scale(0.1 -0.1)\">\n       <defs>\n        <path d=\"M 1228 531 \nL 3431 531 \nL 3431 0 \nL 469 0 \nL 469 531 \nQ 828 903 1448 1529 \nQ 2069 2156 2228 2338 \nQ 2531 2678 2651 2914 \nQ 2772 3150 2772 3378 \nQ 2772 3750 2511 3984 \nQ 2250 4219 1831 4219 \nQ 1534 4219 1204 4116 \nQ 875 4013 500 3803 \nL 500 4441 \nQ 881 4594 1212 4672 \nQ 1544 4750 1819 4750 \nQ 2544 4750 2975 4387 \nQ 3406 4025 3406 3419 \nQ 3406 3131 3298 2873 \nQ 3191 2616 2906 2266 \nQ 2828 2175 2409 1742 \nQ 1991 1309 1228 531 \nz\n\" id=\"DejaVuSans-32\" transform=\"scale(0.015625)\"/>\n       </defs>\n       <use xlink:href=\"#DejaVuSans-32\"/>\n       <use x=\"63.623047\" xlink:href=\"#DejaVuSans-30\"/>\n      </g>\n     </g>\n    </g>\n    <g id=\"xtick_6\">\n     <g id=\"line2d_6\">\n      <g>\n       <use style=\"stroke:#000000;stroke-width:0.8;\" x=\"224.950714\" xlink:href=\"#md5062a633f\" y=\"224.64\"/>\n      </g>\n     </g>\n     <g id=\"text_6\">\n      <!-- 25 -->\n      <g transform=\"translate(218.588214 239.238437)scale(0.1 -0.1)\">\n       <use xlink:href=\"#DejaVuSans-32\"/>\n       <use x=\"63.623047\" xlink:href=\"#DejaVuSans-35\"/>\n      </g>\n     </g>\n    </g>\n   </g>\n   <g id=\"matplotlib.axis_2\">\n    <g id=\"ytick_1\">\n     <g id=\"line2d_7\">\n      <defs>\n       <path d=\"M 0 0 \nL -3.5 0 \n\" id=\"m4db2eef0c8\" style=\"stroke:#000000;stroke-width:0.8;\"/>\n      </defs>\n      <g>\n       <use style=\"stroke:#000000;stroke-width:0.8;\" x=\"26.925\" xlink:href=\"#m4db2eef0c8\" y=\"11.082857\"/>\n      </g>\n     </g>\n     <g id=\"text_7\">\n      <!-- 0 -->\n      <g transform=\"translate(13.5625 14.882076)scale(0.1 -0.1)\">\n       <use xlink:href=\"#DejaVuSans-30\"/>\n      </g>\n     </g>\n    </g>\n    <g id=\"ytick_2\">\n     <g id=\"line2d_8\">\n      <g>\n       <use style=\"stroke:#000000;stroke-width:0.8;\" x=\"26.925\" xlink:href=\"#m4db2eef0c8\" y=\"49.911429\"/>\n      </g>\n     </g>\n     <g id=\"text_8\">\n      <!-- 5 -->\n      <g transform=\"translate(13.5625 53.710647)scale(0.1 -0.1)\">\n       <use xlink:href=\"#DejaVuSans-35\"/>\n      </g>\n     </g>\n    </g>\n    <g id=\"ytick_3\">\n     <g id=\"line2d_9\">\n      <g>\n       <use style=\"stroke:#000000;stroke-width:0.8;\" x=\"26.925\" xlink:href=\"#m4db2eef0c8\" y=\"88.74\"/>\n      </g>\n     </g>\n     <g id=\"text_9\">\n      <!-- 10 -->\n      <g transform=\"translate(7.2 92.539219)scale(0.1 -0.1)\">\n       <use xlink:href=\"#DejaVuSans-31\"/>\n       <use x=\"63.623047\" xlink:href=\"#DejaVuSans-30\"/>\n      </g>\n     </g>\n    </g>\n    <g id=\"ytick_4\">\n     <g id=\"line2d_10\">\n      <g>\n       <use style=\"stroke:#000000;stroke-width:0.8;\" x=\"26.925\" xlink:href=\"#m4db2eef0c8\" y=\"127.568571\"/>\n      </g>\n     </g>\n     <g id=\"text_10\">\n      <!-- 15 -->\n      <g transform=\"translate(7.2 131.36779)scale(0.1 -0.1)\">\n       <use xlink:href=\"#DejaVuSans-31\"/>\n       <use x=\"63.623047\" xlink:href=\"#DejaVuSans-35\"/>\n      </g>\n     </g>\n    </g>\n    <g id=\"ytick_5\">\n     <g id=\"line2d_11\">\n      <g>\n       <use style=\"stroke:#000000;stroke-width:0.8;\" x=\"26.925\" xlink:href=\"#m4db2eef0c8\" y=\"166.397143\"/>\n      </g>\n     </g>\n     <g id=\"text_11\">\n      <!-- 20 -->\n      <g transform=\"translate(7.2 170.196362)scale(0.1 -0.1)\">\n       <use xlink:href=\"#DejaVuSans-32\"/>\n       <use x=\"63.623047\" xlink:href=\"#DejaVuSans-30\"/>\n      </g>\n     </g>\n    </g>\n    <g id=\"ytick_6\">\n     <g id=\"line2d_12\">\n      <g>\n       <use style=\"stroke:#000000;stroke-width:0.8;\" x=\"26.925\" xlink:href=\"#m4db2eef0c8\" y=\"205.225714\"/>\n      </g>\n     </g>\n     <g id=\"text_12\">\n      <!-- 25 -->\n      <g transform=\"translate(7.2 209.024933)scale(0.1 -0.1)\">\n       <use xlink:href=\"#DejaVuSans-32\"/>\n       <use x=\"63.623047\" xlink:href=\"#DejaVuSans-35\"/>\n      </g>\n     </g>\n    </g>\n   </g>\n   <g id=\"patch_3\">\n    <path d=\"M 26.925 224.64 \nL 26.925 7.2 \n\" style=\"fill:none;stroke:#000000;stroke-linecap:square;stroke-linejoin:miter;stroke-width:0.8;\"/>\n   </g>\n   <g id=\"patch_4\">\n    <path d=\"M 244.365 224.64 \nL 244.365 7.2 \n\" style=\"fill:none;stroke:#000000;stroke-linecap:square;stroke-linejoin:miter;stroke-width:0.8;\"/>\n   </g>\n   <g id=\"patch_5\">\n    <path d=\"M 26.925 224.64 \nL 244.365 224.64 \n\" style=\"fill:none;stroke:#000000;stroke-linecap:square;stroke-linejoin:miter;stroke-width:0.8;\"/>\n   </g>\n   <g id=\"patch_6\">\n    <path d=\"M 26.925 7.2 \nL 244.365 7.2 \n\" style=\"fill:none;stroke:#000000;stroke-linecap:square;stroke-linejoin:miter;stroke-width:0.8;\"/>\n   </g>\n  </g>\n </g>\n <defs>\n  <clipPath id=\"p30e3c5931d\">\n   <rect height=\"217.44\" width=\"217.44\" x=\"26.925\" y=\"7.2\"/>\n  </clipPath>\n </defs>\n</svg>\n",
      "image/png": "[encoded data removed]"
     },
     "metadata": {
      "needs_background": "light"
     }
    }
   ],
   "metadata": {}
  },
  {
   "cell_type": "code",
   "execution_count": null,
   "source": [],
   "outputs": [],
   "metadata": {}
  }
 ],
 "metadata": {
  "orig_nbformat": 4,
  "language_info": {
   "name": "python",
   "version": "3.9.4",
   "mimetype": "text/x-python",
   "codemirror_mode": {
    "name": "ipython",
    "version": 3
   },
   "pygments_lexer": "ipython3",
   "nbconvert_exporter": "python",
   "file_extension": ".py"
  },
  "kernelspec": {
   "name": "python3",
   "display_name": "Python 3.9.4 64-bit ('base': conda)"
  },
  "interpreter": {
   "hash": "95ec9ec1504d83f612128e0fb229072f90bbb4cb09d9d5d93b5dd26e0ca2cfd1"
  }
 },
 "nbformat": 4,
 "nbformat_minor": 2
}