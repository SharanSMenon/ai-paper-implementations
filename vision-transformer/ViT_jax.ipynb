{
 "cells": [
  {
   "cell_type": "markdown",
   "id": "87d23c9f-f251-4118-91cf-b73a8c4b6055",
   "metadata": {},
   "source": [
    "# ViT in Flax.linen (JAX)"
   ]
  },
  {
   "cell_type": "code",
   "execution_count": null,
   "id": "aba1c147-c3a7-405a-9389-20833ef51f25",
   "metadata": {},
   "outputs": [],
   "source": [
    "# coming soon\n",
    "import jax\n",
    "import flax.linen as nn"
   ]
  }
 ],
 "metadata": {
  "kernelspec": {
   "display_name": "Python 3 (ipykernel)",
   "language": "python",
   "name": "python3"
  },
  "language_info": {
   "codemirror_mode": {
    "name": "ipython",
    "version": 3
   },
   "file_extension": ".py",
   "mimetype": "text/x-python",
   "name": "python",
   "nbconvert_exporter": "python",
   "pygments_lexer": "ipython3",
   "version": "3.9.4"
  }
 },
 "nbformat": 4,
 "nbformat_minor": 5
}
