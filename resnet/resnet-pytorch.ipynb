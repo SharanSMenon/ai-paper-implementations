{
 "cells": [
  {
   "cell_type": "code",
   "execution_count": 1,
   "id": "9a38f02d-ab57-41d2-8f4b-b604f847c35b",
   "metadata": {},
   "outputs": [],
   "source": [
    "import torch\n",
    "from torch import nn\n",
    "from torchinfo import summary"
   ]
  },
  {
   "cell_type": "code",
   "execution_count": 2,
   "id": "40a16186-c5b7-4c8c-b6b3-95f91a9630dc",
   "metadata": {},
   "outputs": [],
   "source": [
    "def conv1x1(inplanes, out_planes, stride=1):\n",
    "    return nn.Conv2d(inplanes, out_planes, kernel_size=1, stride=stride, bias=False)"
   ]
  },
  {
   "cell_type": "code",
   "execution_count": 3,
   "id": "b4ebd425-53b6-4f80-b027-2e7ee32ddbe9",
   "metadata": {},
   "outputs": [],
   "source": [
    "def conv3x3(in_planes, out_planes, stride=1, groups=1, dilation=1):\n",
    "    return nn.Conv2d(in_planes, out_planes, kernel_size=3, stride=stride,\n",
    "                     padding=dilation, groups=groups, bias=False, dilation=dilation)"
   ]
  },
  {
   "cell_type": "code",
   "execution_count": 4,
   "id": "775ef3bf-70db-4f3f-a636-99eb3595a635",
   "metadata": {},
   "outputs": [],
   "source": [
    "class BasicBlock(nn.Module):\n",
    "    expansion = 1\n",
    "\n",
    "    def __init__(self, inplanes, planes, stride=1, downsample=None, groups=1,\n",
    "                 base_width=64, dilation=1, norm_layer=None):\n",
    "        super(BasicBlock, self).__init__()\n",
    "        if norm_layer is None:\n",
    "            norm_layer = nn.BatchNorm2d\n",
    "        self.layers = nn.Sequential(*[\n",
    "            conv3x3(inplanes, planes, stride),\n",
    "            norm_layer(planes),\n",
    "            nn.ReLU(inplace=True),\n",
    "            conv3x3(planes, planes),\n",
    "            norm_layer(planes),\n",
    "        ])\n",
    "        self.relu = nn.ReLU(inplace=True)\n",
    "        self.downsample = downsample\n",
    "        self.stride = stride\n",
    "\n",
    "    def forward(self, x):\n",
    "        identity = x\n",
    "\n",
    "        out = self.layers(x)\n",
    "\n",
    "        if self.downsample is not None:\n",
    "            identity = self.downsample(x)\n",
    "\n",
    "        out += identity\n",
    "        out = self.relu(out)\n",
    "\n",
    "        return out"
   ]
  },
  {
   "cell_type": "code",
   "execution_count": 5,
   "id": "86719590-ed73-4bce-b270-44b8bf847d48",
   "metadata": {},
   "outputs": [],
   "source": [
    "class Bottleneck(nn.Module):\n",
    "    expansion = 4\n",
    "    def __init__(self, inplanes, planes, stride=1, downsample=None, groups=1,\n",
    "                 base_width=64, dilation=1, norm_layer=None):\n",
    "        super(Bottleneck, self).__init__()\n",
    "        if norm_layer is None:\n",
    "            norm_layer = nn.BatchNorm2d\n",
    "        width = int(planes * (base_width / 64.)) * groups\n",
    "        self.layers = nn.Sequential(*[\n",
    "            conv1x1(inplanes, width),\n",
    "            norm_layer(width),\n",
    "            nn.ReLU(inplace=True),\n",
    "            conv3x3(width, width, stride, groups, dilation),\n",
    "            norm_layer(width),\n",
    "            nn.ReLU(inplace=True),\n",
    "            conv1x1(width, planes * self.expansion),\n",
    "            norm_layer(planes * self.expansion),\n",
    "        ])\n",
    "        self.relu = nn.ReLU(inplace=True)\n",
    "        self.downsample = downsample\n",
    "        self.stride = stride\n",
    "\n",
    "    def forward(self, x):\n",
    "        identity = x\n",
    "        out = self.layers(x)\n",
    "        if self.downsample is not None:\n",
    "            identity = self.downsample(x)\n",
    "        out += identity\n",
    "        out = self.relu(out)\n",
    "\n",
    "        return out"
   ]
  },
  {
   "cell_type": "code",
   "execution_count": 6,
   "id": "d2f5653b-7365-4ac6-a7fa-441ff4675385",
   "metadata": {},
   "outputs": [],
   "source": [
    "class ResNet(nn.Module):\n",
    "    def __init__(self, block=BasicBlock, n_classes=1000, depths=[2, 2, 2, 2]):\n",
    "        super(ResNet, self).__init__()\n",
    "        self.inplanes = 64\n",
    "        self.conv1 = nn.Sequential(\n",
    "            nn.Conv2d(3, self.inplanes, kernel_size=7, stride=2, padding=3, bias=False),\n",
    "            nn.BatchNorm2d(self.inplanes),\n",
    "            nn.ReLU(),\n",
    "            nn.MaxPool2d(kernel_size=3, stride=2, padding=1)\n",
    "        )\n",
    "        \n",
    "        self.layers = nn.Sequential(\n",
    "            self._make_layer(block, depths[0], 64),\n",
    "            self._make_layer(block, depths[1], 128, stride=2),\n",
    "            self._make_layer(block, depths[2], 256, stride=2),\n",
    "            self._make_layer(block, depths[3], 512, stride=2),   \n",
    "        )\n",
    "        self.avgpool = nn.AdaptiveAvgPool2d(1)\n",
    "        self.head = nn.Linear(512 * block.expansion, n_classes)\n",
    "    \n",
    "    def forward(self, x):\n",
    "        x = self.conv1(x)\n",
    "        x = self.layers(x)\n",
    "        x = self.avgpool(x)\n",
    "        x = x.flatten(1)\n",
    "        x = self.head(x)\n",
    "        return x\n",
    "    \n",
    "    def _make_layer(self, block, depth, planes, stride=1):\n",
    "        dw = None\n",
    "        if stride !=1 or self.inplanes != planes * block.expansion:\n",
    "            dw = nn.Sequential(\n",
    "                conv1x1(self.inplanes, planes * block.expansion, stride=stride),\n",
    "                nn.BatchNorm2d(planes * block.expansion)\n",
    "            )\n",
    "        layers = [\n",
    "            block(self.inplanes, planes, stride=stride, downsample=dw)\n",
    "        ]\n",
    "        self.inplanes = planes * block.expansion\n",
    "        for _ in range(1, depth):\n",
    "            layers.append(\n",
    "                block(self.inplanes, planes)\n",
    "            )\n",
    "        return nn.Sequential(*layers)\n",
    "        "
   ]
  },
  {
   "cell_type": "code",
   "execution_count": 7,
   "id": "3fd84dc5-feb1-407d-91e1-f973fcacf1b8",
   "metadata": {},
   "outputs": [],
   "source": [
    "def resnet18(n_classes=1000):\n",
    "    return ResNet(block=BasicBlock, n_classes=n_classes, depths=[2, 2, 2, 2])\n",
    "def resnet34(n_classes=1000):\n",
    "    return ResNet(block=BasicBlock, n_classes=n_classes, depths=[3, 4, 6, 3])\n",
    "def resnet50(n_classes=1000):\n",
    "    return ResNet(block=Bottleneck, n_classes=n_classes, depths=[3, 4, 6, 3])\n",
    "def resnet101(n_classes=1000):\n",
    "    return ResNet(block=Bottleneck, n_classes=n_classes, depths=[3, 4, 23, 3])"
   ]
  },
  {
   "cell_type": "code",
   "execution_count": 8,
   "id": "81de3a8f-68d1-49fb-bf93-78e1f5d8fb09",
   "metadata": {},
   "outputs": [],
   "source": [
    "r18 = resnet18()\n",
    "r34 = resnet34()\n",
    "r50 = resnet50()\n",
    "r101 = resnet101()"
   ]
  },
  {
   "cell_type": "code",
   "execution_count": 9,
   "id": "932d65c4-1248-4707-ba1d-4f21666894e1",
   "metadata": {},
   "outputs": [],
   "source": [
    "models = [r18, r34, r50, r101]"
   ]
  },
  {
   "cell_type": "code",
   "execution_count": 10,
   "id": "9865221f-6d27-48d4-b914-4f7337f94b25",
   "metadata": {},
   "outputs": [
    {
     "name": "stdout",
     "output_type": "stream",
     "text": [
      "CPU times: user 56.9 ms, sys: 31.2 ms, total: 88.1 ms\n",
      "Wall time: 80.3 ms\n"
     ]
    },
    {
     "name": "stderr",
     "output_type": "stream",
     "text": [
      "/opt/homebrew/Caskroom/miniforge/base/lib/python3.9/site-packages/torch/nn/functional.py:718: UserWarning: Named tensors and all their associated APIs are an experimental feature and subject to change. Please do not use them for anything important until they are released as stable. (Triggered internally at  ../c10/core/TensorImpl.h:1156.)\n",
      "  return torch.max_pool2d(input, kernel_size, stride, padding, dilation, ceil_mode)\n"
     ]
    }
   ],
   "source": [
    "%%time\n",
    "inp = torch.randn(1, 3, 224, 224)\n",
    "with torch.no_grad():\n",
    "    r18(inp).shape"
   ]
  },
  {
   "cell_type": "code",
   "execution_count": 11,
   "id": "fd5977e2-75f4-4fee-822a-3dc4a8eb8ee0",
   "metadata": {},
   "outputs": [
    {
     "name": "stdout",
     "output_type": "stream",
     "text": [
      "CPU times: user 197 ms, sys: 50.3 ms, total: 247 ms\n",
      "Wall time: 128 ms\n"
     ]
    }
   ],
   "source": [
    "%%time\n",
    "inp = torch.randn(1, 3, 224, 224)\n",
    "with torch.no_grad():\n",
    "    r101(inp).shape"
   ]
  },
  {
   "cell_type": "code",
   "execution_count": 14,
   "id": "1f9eb42c-079f-4696-889c-64540d9e7eaf",
   "metadata": {},
   "outputs": [
    {
     "data": {
      "text/plain": [
       "===============================================================================================\n",
       "Layer (type:depth-idx)                        Output Shape              Param #\n",
       "===============================================================================================\n",
       "ResNet                                        --                        --\n",
       "├─Sequential: 1-1                             [1, 64, 56, 56]           9,536\n",
       "├─Sequential: 1-2                             [1, 2048, 7, 7]           42,490,624\n",
       "├─AdaptiveAvgPool2d: 1-3                      [1, 2048, 1, 1]           --\n",
       "├─Linear: 1-4                                 [1, 1000]                 2,049,000\n",
       "===============================================================================================\n",
       "Total params: 44,549,160\n",
       "Trainable params: 44,549,160\n",
       "Non-trainable params: 0\n",
       "Total mult-adds (G): 7.80\n",
       "===============================================================================================\n",
       "Input size (MB): 0.60\n",
       "Forward/backward pass size (MB): 259.72\n",
       "Params size (MB): 178.20\n",
       "Estimated Total Size (MB): 438.52\n",
       "==============================================================================================="
      ]
     },
     "execution_count": 14,
     "metadata": {},
     "output_type": "execute_result"
    }
   ],
   "source": [
    "summary(r101, (1, 3, 224, 224), depth=1)"
   ]
  },
  {
   "cell_type": "code",
   "execution_count": 13,
   "id": "78aca0f1-2faa-439e-b2a0-1701eb609681",
   "metadata": {},
   "outputs": [],
   "source": [
    "import os\n",
    "def print_size_of_model(model):\n",
    "    torch.save(model.state_dict(), \"temp.p\")\n",
    "    print('Size (MB):', os.path.getsize(\"temp.p\")/1e6)\n",
    "    os.remove('temp.p')"
   ]
  },
  {
   "cell_type": "code",
   "execution_count": 14,
   "id": "3f436912-afd0-4d4e-bf40-c53babd9e4cc",
   "metadata": {},
   "outputs": [
    {
     "name": "stdout",
     "output_type": "stream",
     "text": [
      "Size (MB): 46.836045\n",
      "Size (MB): 87.330125\n",
      "Size (MB): 102.545153\n",
      "Size (MB): 178.823773\n"
     ]
    }
   ],
   "source": [
    "for m in models:\n",
    "    print_size_of_model(m)"
   ]
  },
  {
   "cell_type": "code",
   "execution_count": 15,
   "id": "d4091557-abf2-4a79-9d68-5f5e9044bae1",
   "metadata": {},
   "outputs": [],
   "source": [
    "def fmat(n):\n",
    "    return \"{:.2f}M\".format(n / 1e6)"
   ]
  },
  {
   "cell_type": "code",
   "execution_count": 16,
   "id": "ffe4947d-8ee8-4967-b773-72301032ee2b",
   "metadata": {},
   "outputs": [],
   "source": [
    "def params(model, f=True):\n",
    "    s = sum(p.numel() for p in model.parameters() if p.requires_grad)\n",
    "    return fmat(s) if f else s"
   ]
  },
  {
   "cell_type": "code",
   "execution_count": 17,
   "id": "8321d216-7cd1-48a1-9856-be9867c3233a",
   "metadata": {},
   "outputs": [
    {
     "name": "stdout",
     "output_type": "stream",
     "text": [
      "11.69M\n",
      "21.80M\n",
      "25.56M\n",
      "44.55M\n"
     ]
    }
   ],
   "source": [
    "for m in models:\n",
    "    print(params(m))"
   ]
  }
 ],
 "metadata": {
  "kernelspec": {
   "display_name": "Python 3 (ipykernel)",
   "language": "python",
   "name": "python3"
  },
  "language_info": {
   "codemirror_mode": {
    "name": "ipython",
    "version": 3
   },
   "file_extension": ".py",
   "mimetype": "text/x-python",
   "name": "python",
   "nbconvert_exporter": "python",
   "pygments_lexer": "ipython3",
   "version": "3.9.4"
  }
 },
 "nbformat": 4,
 "nbformat_minor": 5
}
