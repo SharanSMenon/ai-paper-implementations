{
 "cells": [
  {
   "cell_type": "code",
   "execution_count": 1,
   "id": "49374890-ddf9-43d5-934c-54a4c1fe1a4a",
   "metadata": {},
   "outputs": [],
   "source": [
    "import tensorflow as tf\n",
    "import numpy as np\n",
    "from tensorflow import keras\n",
    "from tensorflow.keras import layers as ly"
   ]
  },
  {
   "cell_type": "code",
   "execution_count": 2,
   "id": "89415f45-a597-4571-b7d8-7c4088c81779",
   "metadata": {},
   "outputs": [],
   "source": [
    "def BasicBlock(x, planes, stride=1, downsample=False):\n",
    "    ex = 1 # expansion factor\n",
    "    x_skip = x\n",
    "    if downsample:\n",
    "        x_skip = ly.Conv2D(planes, (1, 1), strides=2, use_bias=False)(x_skip)\n",
    "        x_skip = ly.BatchNormalization()(x_skip)\n",
    "        \n",
    "    x = ly.Conv2D(planes, (3,3), strides=2 if downsample else 1, padding = 'same', use_bias=False)(x)\n",
    "    x = ly.BatchNormalization(axis=3)(x)\n",
    "    x = ly.Activation('relu')(x)\n",
    "    x = ly.Conv2D(planes, (3,3), strides=1, padding = 'same', use_bias=False)(x)\n",
    "    x = ly.BatchNormalization(axis=3)(x)\n",
    "    x = ly.Add()([x, x_skip])     \n",
    "    x = ly.Activation('relu')(x)\n",
    "    return x"
   ]
  },
  {
   "cell_type": "code",
   "execution_count": 3,
   "id": "a0356e50-7226-4980-9274-d855608529d1",
   "metadata": {},
   "outputs": [],
   "source": [
    "def BottleneckBlock(x, planes, stride=1, downsample=False):\n",
    "    ex = 4\n",
    "    x_skip = x\n",
    "    if downsample:\n",
    "        stride = stride\n",
    "        x_skip = ly.Conv2D(planes * ex, (1, 1), strides=stride, use_bias=False)(x_skip)\n",
    "        x_skip = ly.BatchNormalization()(x_skip)\n",
    "    else: \n",
    "        stride=1\n",
    "        \n",
    "    x = ly.Conv2D(planes, (1,1), strides=1, use_bias=False)(x)\n",
    "    x = ly.BatchNormalization(axis=3)(x)\n",
    "    x = ly.Activation('relu')(x)\n",
    "    x = ly.Conv2D(planes, (3,3), strides=stride, padding = 'same', use_bias=False)(x)\n",
    "    x = ly.BatchNormalization(axis=3)(x)\n",
    "    x = ly.Activation('relu')(x)\n",
    "    x = ly.Conv2D(planes * ex, (1,1), strides=1, use_bias=False)(x)\n",
    "    x = ly.BatchNormalization(axis=3)(x)\n",
    "    x = ly.Add()([x, x_skip])     \n",
    "    x = ly.Activation('relu')(x)\n",
    "    return x"
   ]
  },
  {
   "cell_type": "code",
   "execution_count": 32,
   "id": "dfc2b859-1272-457d-8a02-756253751476",
   "metadata": {},
   "outputs": [],
   "source": [
    "def StemBlock(x, planes):\n",
    "    x = ly.ZeroPadding2D(\n",
    "      padding=((3, 3), (3, 3)), name='conv1_pad')(x)\n",
    "    x = ly.Conv2D(planes, (7, 7), strides=2, name='conv1')(x)\n",
    "    x = ly.BatchNormalization()(x)\n",
    "    x = ly.Activation('relu')(x)\n",
    "    x = ly.ZeroPadding2D(padding=((1, 1), (1, 1)), name='pool1_pad')(x)\n",
    "    x = ly.MaxPooling2D(3, strides=2, name='pool1_pool')(x)\n",
    "    return x"
   ]
  },
  {
   "cell_type": "code",
   "execution_count": 45,
   "id": "195b6bac-6037-4cf0-84f2-cf4f627df348",
   "metadata": {},
   "outputs": [],
   "source": [
    "def ResNet(block, n_classes=1000, depths=[2, 2, 2, 2], include_top=True):\n",
    "    dims = [64, 128, 256, 512]\n",
    "    strides = [1, 2, 2, 2]\n",
    "    inplanes = 64\n",
    "    inputs = keras.Input(shape=(224, 224, 3))\n",
    "    x = StemBlock(inputs, inplanes)\n",
    "\n",
    "    for i in range(4):\n",
    "        dim = dims[i]\n",
    "        stride = strides[i]\n",
    "        x = block(x, dim, stride=stride, downsample=True)\n",
    "        for j in range(1, depths[i]):\n",
    "            x = block(x, dim, stride=stride, downsample=False)\n",
    "    \n",
    "    x = ly.GlobalAveragePooling2D()(x)\n",
    "    if include_top:\n",
    "        x = ly.Dense(n_classes)(x)\n",
    "    return keras.Model(inputs=inputs, outputs=x)"
   ]
  },
  {
   "cell_type": "code",
   "execution_count": 46,
   "id": "54444a5f-464d-4338-8228-01974566ce7c",
   "metadata": {},
   "outputs": [],
   "source": [
    "def resnet18(n_classes=1000, include_top=True):\n",
    "    model = ResNet(BasicBlock, n_classes=n_classes, include_top=include_top)\n",
    "    return model\n",
    "def resnet34(n_classes=1000, include_top=True):\n",
    "    model = ResNet(BasicBlock, n_classes=n_classes, \n",
    "                   depths=[3, 4, 6, 3], include_top=include_top)\n",
    "    return model\n",
    "def resnet50(n_classes=1000, include_top=True):\n",
    "    model = ResNet(BottleneckBlock, n_classes=n_classes, \n",
    "                   depths=[3, 4, 6, 3], include_top=include_top)\n",
    "    return model\n",
    "def resnet101(n_classes=1000, include_top=True):\n",
    "    model = ResNet(BottleneckBlock, n_classes=n_classes, \n",
    "                   depths=[3, 4, 23, 3], include_top=include_top)\n",
    "    return model"
   ]
  },
  {
   "cell_type": "code",
   "execution_count": 47,
   "id": "4e85144d-c066-4ad1-adeb-f801f9b12949",
   "metadata": {},
   "outputs": [],
   "source": [
    "r18 = resnet18()\n",
    "r34 = resnet34()\n",
    "r50 = resnet50()\n",
    "r101 = resnet101()\n",
    "models = [r18, r34, r50, r101]"
   ]
  },
  {
   "cell_type": "code",
   "execution_count": 36,
   "id": "7dfbfcdf-d573-487a-a188-dec5ac013dff",
   "metadata": {},
   "outputs": [
    {
     "name": "stdout",
     "output_type": "stream",
     "text": [
      "CPU times: user 13.6 ms, sys: 8.84 ms, total: 22.4 ms\n",
      "Wall time: 15 ms\n"
     ]
    },
    {
     "data": {
      "text/plain": [
       "TensorShape([1, 1000])"
      ]
     },
     "execution_count": 36,
     "metadata": {},
     "output_type": "execute_result"
    }
   ],
   "source": [
    "%%time\n",
    "r18(np.random.random((1, 224, 224, 3))).shape # should be [1, 1000]"
   ]
  },
  {
   "cell_type": "code",
   "execution_count": 49,
   "id": "b4754815-e6d3-4874-b779-e23acebb083f",
   "metadata": {},
   "outputs": [
    {
     "data": {
      "text/plain": [
       "TensorShape([1, 512])"
      ]
     },
     "execution_count": 49,
     "metadata": {},
     "output_type": "execute_result"
    }
   ],
   "source": [
    "r18_headless = resnet18(include_top=False)\n",
    "r18_headless(np.random.random((1, 224, 224, 3))).shape"
   ]
  },
  {
   "cell_type": "code",
   "execution_count": 37,
   "id": "844a078a-aa89-4681-8109-177eb1961209",
   "metadata": {},
   "outputs": [],
   "source": [
    "def fmat(n):\n",
    "    return \"{:.2f}M\".format(n / 1e6)"
   ]
  },
  {
   "cell_type": "code",
   "execution_count": 38,
   "id": "87c0621b-7bbc-4885-939e-a905f36d369c",
   "metadata": {},
   "outputs": [],
   "source": [
    "def params(model, f = True):\n",
    "    count = int(np.sum([np.prod(p.shape) for p in model.trainable_variables]))\n",
    "    return fmat(count) if f else count"
   ]
  },
  {
   "cell_type": "code",
   "execution_count": 39,
   "id": "df5c176b-6da1-4d6f-ab7f-693a90de4f7d",
   "metadata": {},
   "outputs": [
    {
     "name": "stdout",
     "output_type": "stream",
     "text": [
      "11.69M\n",
      "21.80M\n",
      "25.56M\n",
      "44.55M\n"
     ]
    }
   ],
   "source": [
    "for m in models:\n",
    "    print(params(m))"
   ]
  },
  {
   "cell_type": "code",
   "execution_count": 43,
   "id": "70ec41d1-5f60-42a0-9ff7-7da98f5bd754",
   "metadata": {},
   "outputs": [],
   "source": [
    "r50_keras = keras.applications.ResNet50(weights=None, input_shape=(224, 224, 3))"
   ]
  },
  {
   "cell_type": "code",
   "execution_count": null,
   "id": "549c44a0-1513-4ea6-bd7c-62cafcf50952",
   "metadata": {},
   "outputs": [],
   "source": []
  }
 ],
 "metadata": {
  "kernelspec": {
   "display_name": "Python 3 (ipykernel)",
   "language": "python",
   "name": "python3"
  },
  "language_info": {
   "codemirror_mode": {
    "name": "ipython",
    "version": 3
   },
   "file_extension": ".py",
   "mimetype": "text/x-python",
   "name": "python",
   "nbconvert_exporter": "python",
   "pygments_lexer": "ipython3",
   "version": "3.9.4"
  }
 },
 "nbformat": 4,
 "nbformat_minor": 5
}
