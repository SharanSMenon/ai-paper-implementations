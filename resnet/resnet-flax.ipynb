{
 "cells": [
  {
   "cell_type": "code",
   "execution_count": 1,
   "id": "ab674711-c311-42d2-8e1a-35157665ac45",
   "metadata": {},
   "outputs": [
    {
     "name": "stderr",
     "output_type": "stream",
     "text": [
      "/opt/homebrew/Caskroom/miniforge/base/lib/python3.9/site-packages/jax/_src/lib/__init__.py:32: UserWarning: JAX on Mac ARM machines is experimental and minimally tested. Please see https://github.com/google/jax/issues/5501 in the event of problems.\n",
      "  warnings.warn(\"JAX on Mac ARM machines is experimental and minimally tested. \"\n"
     ]
    }
   ],
   "source": [
    "import jax\n",
    "import jax.numpy as jnp\n",
    "import numpy as np\n",
    "import flax\n",
    "from flax import linen as nn"
   ]
  },
  {
   "cell_type": "code",
   "execution_count": 2,
   "id": "c6100ef7-75c5-4990-9dd7-c89e4f691bff",
   "metadata": {},
   "outputs": [],
   "source": [
    "def conv1x1(out_planes, stride=1):\n",
    "    return nn.Conv(out_planes, kernel_size=(1, 1), strides=(stride, stride), use_bias=False)"
   ]
  },
  {
   "cell_type": "code",
   "execution_count": 3,
   "id": "58da1b71-e9dd-45fe-9802-845524ecb3cf",
   "metadata": {},
   "outputs": [],
   "source": [
    "def conv3x3(out_planes, stride=1, groups=1, dilation=1):\n",
    "    return nn.Conv(out_planes, kernel_size=(3, 3), strides=(stride, stride),\n",
    "                     padding=(dilation, dilation), use_bias=False, dilation=(dilation, dilation))"
   ]
  },
  {
   "cell_type": "code",
   "execution_count": null,
   "id": "a6e4966a-68be-4f41-b72b-a4ba594fec23",
   "metadata": {},
   "outputs": [],
   "source": [
    "class BasicBlock(nn.Module):\n",
    "    expansion = 1\n",
    "    planes: int\n",
    "    stride: int\n",
    "    downsample: False\n",
    "        \n",
    "    def setup(self):\n",
    "        self.conv1 = conv3x3(planes, stride=stride)\n",
    "        self.bn1 = nn.BatchNorm()\n",
    "        self.conv2 = conv3x3(planes)\n",
    "        self.bn2 = nn.BatchNorm()"
   ]
  }
 ],
 "metadata": {
  "kernelspec": {
   "display_name": "Python 3 (ipykernel)",
   "language": "python",
   "name": "python3"
  },
  "language_info": {
   "codemirror_mode": {
    "name": "ipython",
    "version": 3
   },
   "file_extension": ".py",
   "mimetype": "text/x-python",
   "name": "python",
   "nbconvert_exporter": "python",
   "pygments_lexer": "ipython3",
   "version": "3.9.4"
  }
 },
 "nbformat": 4,
 "nbformat_minor": 5
}
