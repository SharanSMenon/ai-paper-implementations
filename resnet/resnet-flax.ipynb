{
 "cells": [
  {
   "cell_type": "code",
   "execution_count": 54,
   "id": "ab674711-c311-42d2-8e1a-35157665ac45",
   "metadata": {},
   "outputs": [],
   "source": [
    "import jax\n",
    "import jax.numpy as jnp\n",
    "import numpy as np\n",
    "import flax\n",
    "from flax import linen as nn\n",
    "from functools import partial"
   ]
  },
  {
   "cell_type": "code",
   "execution_count": 121,
   "id": "8eb6c936-e4ff-40da-80de-867d20f78235",
   "metadata": {},
   "outputs": [],
   "source": [
    "from typing import Sequence"
   ]
  },
  {
   "cell_type": "code",
   "execution_count": 12,
   "id": "668571a6-76a7-40b8-b916-815ff620e2e8",
   "metadata": {},
   "outputs": [
    {
     "name": "stderr",
     "output_type": "stream",
     "text": [
      "WARNING:absl:No GPU/TPU found, falling back to CPU. (Set TF_CPP_MIN_LOG_LEVEL=0 and rerun for more info.)\n"
     ]
    }
   ],
   "source": [
    "rng = jax.random.PRNGKey(0)\n",
    "rng, init_rng = jax.random.split(rng)"
   ]
  },
  {
   "cell_type": "code",
   "execution_count": 78,
   "id": "c6100ef7-75c5-4990-9dd7-c89e4f691bff",
   "metadata": {},
   "outputs": [],
   "source": [
    "def conv1x1(out_planes, strides=1):\n",
    "    return nn.Conv(out_planes, kernel_size=(1, 1), strides=(strides, strides), use_bias=False)"
   ]
  },
  {
   "cell_type": "code",
   "execution_count": 79,
   "id": "58da1b71-e9dd-45fe-9802-845524ecb3cf",
   "metadata": {},
   "outputs": [],
   "source": [
    "def conv3x3(out_planes, strides=1, groups=1, dilation=1):\n",
    "    return nn.Conv(out_planes, kernel_size=(3, 3), strides=(strides, strides),\n",
    "                     padding=[(dilation, dilation), (dilation, dilation)], use_bias=False)"
   ]
  },
  {
   "cell_type": "code",
   "execution_count": 100,
   "id": "a6e4966a-68be-4f41-b72b-a4ba594fec23",
   "metadata": {},
   "outputs": [],
   "source": [
    "class BasicBlock(nn.Module):\n",
    "    planes: int\n",
    "    stride: int = 1\n",
    "    expansion: int = 1\n",
    "    downsample: bool = False\n",
    "        \n",
    "    def setup(self):\n",
    "        self.conv1 = conv3x3(self.planes, strides=self.stride)\n",
    "        self.bn1 = nn.BatchNorm(use_running_average=False)\n",
    "        self.conv2 = conv3x3(self.planes)\n",
    "        self.bn2 = nn.BatchNorm(use_running_average=False)\n",
    "        if self.downsample:\n",
    "            self.dw = conv1x1(self.planes, strides=2)\n",
    "            self.dw_bn = nn.BatchNorm(use_running_average=False)\n",
    "    \n",
    "    def __call__(self, x):\n",
    "        identity = x\n",
    "        x = self.conv1(x)\n",
    "        x = self.bn1(x)\n",
    "        x = nn.relu(x)\n",
    "        x = self.conv2(x)\n",
    "        x = self.bn2(x)\n",
    "        if self.downsample:\n",
    "            identity = self.dw(identity)\n",
    "            identity = self.dw_bn(identity)\n",
    "        x = x + identity\n",
    "        x = nn.relu(x)\n",
    "        return x"
   ]
  },
  {
   "cell_type": "code",
   "execution_count": 123,
   "id": "95ac736d-a46f-40e8-8773-f7d4daa0caa2",
   "metadata": {},
   "outputs": [],
   "source": [
    "class ResNet(nn.Module):\n",
    "    block = BasicBlock\n",
    "    n_classes = 1000\n",
    "    depths: Sequence[int]\n",
    "    inplanes= 64\n",
    "    def setup(self):\n",
    "        super(ResNet, self).__init__()\n",
    "        self.conv1 = nn.Conv(self.inplanes, (7, 7), strides=(2, 2), padding=[(3, 3), (3, 3)], use_bias=False)\n",
    "        self.bn1 = nn.BatchNorm(use_running_average=False)\n",
    "        \n",
    "        self.layers = [\n",
    "            *self._make_layer(self.block, self.depths[0], 64),\n",
    "            *self._make_layer(self.block, self.depths[1], 128, stride=2),\n",
    "            *self._make_layer(self.block, self.depths[2], 256, stride=2),\n",
    "            *self._make_layer(self.block, self.depths[3], 512, stride=2),   \n",
    "        ]\n",
    "        self.head = nn.Dense(self.n_classes)\n",
    "    \n",
    "    def __call__(self, x):\n",
    "        x = self.conv1(x)\n",
    "        x = self.bn1(x)\n",
    "        x = nn.relu(x)\n",
    "        x = nn.pooling.max_pool(x, (3, 3), (2, 2))\n",
    "        for layer in self.layers:\n",
    "            x = layer(x)\n",
    "        x = nn.pooling.avg_pool(x, (1, 1))\n",
    "        x = self.head(x)\n",
    "        return x\n",
    "    \n",
    "    def _make_layer(self, block, depth, planes, stride=1):\n",
    "        dw = False\n",
    "        inplanes = self.inplanes\n",
    "        if stride !=1 or inplanes != planes * block.expansion:\n",
    "            dw = True\n",
    "        layers = [\n",
    "            block(planes, stride=stride, downsample=dw)\n",
    "        ]\n",
    "        inplanes = planes * block.expansion\n",
    "        for _ in range(1, depth):\n",
    "            layers.append(\n",
    "                block(planes)\n",
    "            )\n",
    "        self.inplanes = inplanes\n",
    "        return layers\n",
    "        "
   ]
  },
  {
   "cell_type": "code",
   "execution_count": 124,
   "id": "98101f4f-7147-4d36-9c22-92bc969b3c94",
   "metadata": {},
   "outputs": [],
   "source": [
    "x = jnp.ones([1, 224, 224, 3])"
   ]
  },
  {
   "cell_type": "code",
   "execution_count": 125,
   "id": "3cb1267a-bc00-4924-b109-e57d98492550",
   "metadata": {},
   "outputs": [],
   "source": [
    "resnet18 = ResNet(depths=[2, 2, 2, 2])\n",
    "resnet34 = ResNet(depths=[3, 4, 6, 3])"
   ]
  },
  {
   "cell_type": "code",
   "execution_count": 132,
   "id": "77198f0c-11ab-4140-9ffd-ed6674292f04",
   "metadata": {},
   "outputs": [],
   "source": [
    "params18 = resnet18.init(rng, x)['params']\n",
    "params34 = resnet34.init(rng, x)['params']"
   ]
  }
 ],
 "metadata": {
  "kernelspec": {
   "display_name": "Python 3 (ipykernel)",
   "language": "python",
   "name": "python3"
  },
  "language_info": {
   "codemirror_mode": {
    "name": "ipython",
    "version": 3
   },
   "file_extension": ".py",
   "mimetype": "text/x-python",
   "name": "python",
   "nbconvert_exporter": "python",
   "pygments_lexer": "ipython3",
   "version": "3.9.4"
  }
 },
 "nbformat": 4,
 "nbformat_minor": 5
}
