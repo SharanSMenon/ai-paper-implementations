{
 "cells": [
  {
   "cell_type": "markdown",
   "id": "29dbb64d-ad2f-48d5-a8e0-acde1f45909e",
   "metadata": {},
   "source": [
    "# EfficientNet in Tensorflow"
   ]
  },
  {
   "cell_type": "code",
   "execution_count": 1,
   "id": "78feab9b-0dd8-4456-bcc6-df44be59122e",
   "metadata": {},
   "outputs": [
    {
     "name": "stderr",
     "output_type": "stream",
     "text": [
      "/opt/homebrew/Caskroom/miniforge/base/lib/python3.9/site-packages/jax/_src/lib/__init__.py:32: UserWarning: JAX on Mac ARM machines is experimental and minimally tested. Please see https://github.com/google/jax/issues/5501 in the event of problems.\n",
      "  warnings.warn(\"JAX on Mac ARM machines is experimental and minimally tested. \"\n"
     ]
    }
   ],
   "source": [
    "import tensorflow as tf\n",
    "import numpy as np\n",
    "from tensorflow import keras\n",
    "from tensorflow.keras import layers as ly\n",
    "import math"
   ]
  },
  {
   "cell_type": "code",
   "execution_count": 2,
   "id": "2bba2ecf-d94a-4c45-9e2e-c2d3c74b314f",
   "metadata": {},
   "outputs": [],
   "source": [
    "def bn_act(x, bn=True, act=True):\n",
    "    if bn:\n",
    "        x = ly.BatchNormalization(epsilon=1e-3,momentum=0.999)(x)\n",
    "    if act:\n",
    "        x = ly.Activation(tf.nn.swish)(x)\n",
    "    return x"
   ]
  },
  {
   "cell_type": "code",
   "execution_count": 3,
   "id": "ad1de44a-e1cf-46f5-a96c-9a7245601a3a",
   "metadata": {},
   "outputs": [],
   "source": [
    "def SEBlock(x, c, r=24):\n",
    "    squeeze = ly.GlobalAveragePooling2D()(x)\n",
    "    squeeze = ly.Reshape((1, 1, c))(squeeze)\n",
    "    ex = ly.Conv2D(c // r, (1, 1), padding='same')(squeeze)\n",
    "    ex = ly.Activation(tf.nn.swish)(ex)\n",
    "    ex = ly.Conv2D(c, (1, 1), padding='same')(ex)\n",
    "    ex = ly.Activation(tf.nn.sigmoid)(ex)\n",
    "    x = ly.multiply([x, ex])\n",
    "    return x"
   ]
  },
  {
   "cell_type": "code",
   "execution_count": 4,
   "id": "748a7a69-37d3-481d-a3bd-82ac9aeed1e7",
   "metadata": {},
   "outputs": [],
   "source": [
    "def MBConv(x, n_in, n_out, expansion, ks=3, strides=1, dropout=0.1, r=24):\n",
    "    residual = x\n",
    "    skip_connection = (strides == 1) and (n_in == n_out)\n",
    "    padding = (ks-1)//2\n",
    "    if expansion != 1:\n",
    "        # Expand Pointwise\n",
    "        x = ly.Conv2D(expansion * n_in, kernel_size=1, padding='same', use_bias=False,\n",
    "                      activation=None)(x)\n",
    "        x = bn_act(x)\n",
    "    ## Depthwise\n",
    "    if strides == 2:\n",
    "        x = ly.ZeroPadding2D(padding=padding)(x)\n",
    "    x = ly.DepthwiseConv2D(kernel_size=ks, strides=strides, activation=None, use_bias=False, \n",
    "                          padding='same' if strides == 1 else 'valid')(x)\n",
    "    x = bn_act(x)\n",
    "    x = SEBlock(x, expansion * n_in, r=r)\n",
    "    x = ly.Conv2D(n_out, (1, 1), padding='same', activation=None, use_bias=False)(x)\n",
    "    x = bn_act(x, act=False)\n",
    "    if skip_connection:\n",
    "        x = ly.Dropout(0.2)(x)\n",
    "        x = ly.add([x, residual])\n",
    "    return x"
   ]
  },
  {
   "cell_type": "code",
   "execution_count": 5,
   "id": "f6a604f0-ab36-4fc7-9423-f3544ab33d93",
   "metadata": {},
   "outputs": [],
   "source": [
    "### Obtained from Paper ###\n",
    "widths = [32, 16, 24, 40, 80, 112, 192, 320, 1280]\n",
    "depths = [1, 2, 2, 3, 3, 4, 1]\n",
    "kernel_sizes = [3, 3, 5, 3, 5, 5, 3]\n",
    "strides = [1, 2, 2, 2, 1, 2, 1]"
   ]
  },
  {
   "cell_type": "code",
   "execution_count": 6,
   "id": "956678b8-dcdb-44e2-9304-bf031dd51ec3",
   "metadata": {},
   "outputs": [],
   "source": [
    "def scale_width(w, w_factor):\n",
    "    w *= w_factor\n",
    "    new_w = (int(w+4) // 8) * 8\n",
    "    new_w = max(8, new_w)\n",
    "    if new_w < 0.9*w:\n",
    "        new_w += 8\n",
    "    return int(new_w)"
   ]
  },
  {
   "cell_type": "code",
   "execution_count": 7,
   "id": "21c11fb2-1c3f-4a38-a948-3afee13847f0",
   "metadata": {},
   "outputs": [],
   "source": [
    "def efficientnet_scaler(w_factor=1, d_factor=1):\n",
    "    scaled_widths = [scale_width(w, w_factor) for w in widths]\n",
    "    scaled_depths = [math.ceil(d_factor*d) for d in depths]\n",
    "    return scaled_widths, scaled_depths"
   ]
  },
  {
   "cell_type": "code",
   "execution_count": 8,
   "id": "7abccd33-55b2-47b5-b08c-bcc127228dd7",
   "metadata": {},
   "outputs": [],
   "source": [
    "def EfficientNet(w_factor=1, d_factor=1, n_classes=1000):\n",
    "    scaled_widths, scaled_depths = efficientnet_scaler(w_factor=w_factor, d_factor=d_factor)\n",
    "    inputs = keras.Input(shape=(224, 224, 3))\n",
    "    x = ly.ZeroPadding2D(\n",
    "      padding=1)(inputs)\n",
    "    x = ly.Conv2D(scaled_widths[0], (3, 3), strides=(2, 2), padding='same', use_bias=False)(inputs)\n",
    "    x = bn_act(x)\n",
    "    print(x.shape)\n",
    "    \n",
    "    for i in range(7):\n",
    "        depth = scaled_depths[i]\n",
    "        stride = strides[i]\n",
    "        w_in = scaled_widths[i]\n",
    "        w_out = scaled_widths[i + 1]\n",
    "        ks = kernel_sizes[i]\n",
    "        x = MBConv(x, w_in, w_out, expansion= 1 if i == 0 else 6, ks=ks, strides=stride, r= 4 if i==0 else 24)\n",
    "        for j in range(1, depth):\n",
    "            x = MBConv(x, w_out, w_out, expansion= 1 if i == 0 else 6, ks=ks, r= 4 if i==0 else 24)\n",
    "    \n",
    "    x = ly.Conv2D(scaled_widths[-1], kernel_size=1, use_bias=False)(x)\n",
    "    x = bn_act(x)\n",
    "    x = ly.GlobalAveragePooling2D()(x)\n",
    "    x = ly.Dense(n_classes)(x)\n",
    "    return keras.Model(inputs=inputs, outputs=x, name=\"efficientnet\")"
   ]
  },
  {
   "cell_type": "code",
   "execution_count": 9,
   "id": "331b1198-cee7-4f7e-9663-d8c798f15750",
   "metadata": {},
   "outputs": [],
   "source": [
    "def efficientnet_b0(n_classes=1000, builder = EfficientNet):\n",
    "    return builder(n_classes=n_classes)"
   ]
  },
  {
   "cell_type": "code",
   "execution_count": 10,
   "id": "d3b881a8-b30b-4abc-bea0-d59d550f694b",
   "metadata": {},
   "outputs": [],
   "source": [
    "def efficientnet_b1(n_classes=1000, builder = EfficientNet):\n",
    "    return builder(1, 1.1, n_classes=n_classes)"
   ]
  },
  {
   "cell_type": "code",
   "execution_count": 11,
   "id": "87499351-8392-415c-aea1-7d58bbc8baba",
   "metadata": {},
   "outputs": [],
   "source": [
    "def efficientnet_b2(n_classes=1000, builder = EfficientNet):\n",
    "    return builder(1.1, 1.2, n_classes=n_classes)"
   ]
  },
  {
   "cell_type": "code",
   "execution_count": 12,
   "id": "b3c58f9c-e8b5-496f-a923-cb8fa3337e09",
   "metadata": {},
   "outputs": [],
   "source": [
    "def efficientnet_b3(n_classes=1000, builder = EfficientNet):\n",
    "    return builder(1.2, 1.4, n_classes=n_classes)"
   ]
  },
  {
   "cell_type": "code",
   "execution_count": 13,
   "id": "17167671-576f-457b-b223-dfcaca976283",
   "metadata": {},
   "outputs": [],
   "source": [
    "def efficientnet_b4(n_classes=1000, builder = EfficientNet):\n",
    "    return builder(1.4, 1.8, n_classes=n_classes)"
   ]
  },
  {
   "cell_type": "code",
   "execution_count": 14,
   "id": "38e9de07-6f38-4a8f-a164-1af4d8f7dd32",
   "metadata": {},
   "outputs": [],
   "source": [
    "def efficientnet_b5(n_classes=1000, builder = EfficientNet):\n",
    "    return builder(1.6, 2.2, n_classes=n_classes)"
   ]
  },
  {
   "cell_type": "code",
   "execution_count": 15,
   "id": "ff0ef791-8e60-4c1a-989d-094560baf1e5",
   "metadata": {},
   "outputs": [],
   "source": [
    "def efficientnet_b6(n_classes=1000, builder = EfficientNet):\n",
    "    return builder(1.8, 2.6, n_classes=n_classes)"
   ]
  },
  {
   "cell_type": "code",
   "execution_count": 16,
   "id": "d58c5ca3-28d9-4b44-acbf-706757d33d38",
   "metadata": {},
   "outputs": [],
   "source": [
    "def efficientnet_b7(n_classes=1000, builder = EfficientNet):\n",
    "    return builder(2, 3.1, n_classes=n_classes)"
   ]
  },
  {
   "cell_type": "code",
   "execution_count": 17,
   "id": "0bfd74ba-12d9-4830-a503-e77e90709a16",
   "metadata": {
    "scrolled": true,
    "tags": []
   },
   "outputs": [
    {
     "name": "stdout",
     "output_type": "stream",
     "text": [
      "Metal device set to: Apple M1\n",
      "(None, 112, 112, 32)\n",
      "(None, 112, 112, 32)\n",
      "(None, 112, 112, 32)\n",
      "(None, 112, 112, 40)\n",
      "(None, 112, 112, 48)\n",
      "(None, 112, 112, 48)\n",
      "(None, 112, 112, 56)\n",
      "(None, 112, 112, 64)\n"
     ]
    }
   ],
   "source": [
    "b0 = efficientnet_b0()\n",
    "b1 = efficientnet_b1()\n",
    "b2 = efficientnet_b2()\n",
    "b3 = efficientnet_b3()\n",
    "b4 = efficientnet_b4()\n",
    "b5 = efficientnet_b5()\n",
    "b6 = efficientnet_b6()\n",
    "b7 = efficientnet_b7()"
   ]
  },
  {
   "cell_type": "code",
   "execution_count": 18,
   "id": "56d798be-3325-457d-8846-f601cefde414",
   "metadata": {},
   "outputs": [
    {
     "name": "stdout",
     "output_type": "stream",
     "text": [
      "CPU times: user 878 ms, sys: 171 ms, total: 1.05 s\n",
      "Wall time: 2.38 s\n"
     ]
    },
    {
     "data": {
      "text/plain": [
       "(TensorShape([1, 1000]), TensorShape([1, 1000]), TensorShape([1, 1000]))"
      ]
     },
     "execution_count": 18,
     "metadata": {},
     "output_type": "execute_result"
    }
   ],
   "source": [
    "%%time\n",
    "inp = np.random.random((1, 224, 224, 3))\n",
    "b0(inp).shape, b3(inp).shape, b6(inp).shape, "
   ]
  },
  {
   "cell_type": "code",
   "execution_count": 19,
   "id": "e187244a-7262-4b2e-8a9a-d0d28447396b",
   "metadata": {},
   "outputs": [],
   "source": [
    "def fmat(n):\n",
    "    return \"{:.2f}M\".format(n / 1e6)"
   ]
  },
  {
   "cell_type": "code",
   "execution_count": 20,
   "id": "63801edb-246a-4923-b849-6558efc7f7af",
   "metadata": {},
   "outputs": [],
   "source": [
    "def params(model, f = True):\n",
    "    count = int(np.sum([np.prod(p.shape) for p in model.variables]))\n",
    "    return fmat(count) if f else count"
   ]
  },
  {
   "cell_type": "code",
   "execution_count": 21,
   "id": "c45498fb-79d1-42ab-a294-2ddb18a904d2",
   "metadata": {},
   "outputs": [
    {
     "data": {
      "text/plain": [
       "('5.33M', '7.86M', '9.18M', '12.32M', '19.47M', '30.56M', '43.27M', '66.66M')"
      ]
     },
     "execution_count": 21,
     "metadata": {},
     "output_type": "execute_result"
    }
   ],
   "source": [
    "params(b0),params(b1), params(b2), params(b3), params(b4), params(b5), params(b6), params(b7)"
   ]
  },
  {
   "cell_type": "markdown",
   "id": "037071ae-d449-4c0e-ba61-cfba813bde62",
   "metadata": {},
   "source": [
    "**Untested**"
   ]
  }
 ],
 "metadata": {
  "kernelspec": {
   "display_name": "Python 3 (ipykernel)",
   "language": "python",
   "name": "python3"
  },
  "language_info": {
   "codemirror_mode": {
    "name": "ipython",
    "version": 3
   },
   "file_extension": ".py",
   "mimetype": "text/x-python",
   "name": "python",
   "nbconvert_exporter": "python",
   "pygments_lexer": "ipython3",
   "version": "3.9.4"
  }
 },
 "nbformat": 4,
 "nbformat_minor": 5
}
