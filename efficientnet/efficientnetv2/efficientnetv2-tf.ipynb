{
 "cells": [
  {
   "cell_type": "markdown",
   "id": "591ce639-b59f-46a2-b1ea-92dc804af08a",
   "metadata": {},
   "source": [
    "# EfficientNet V2 in Tensorflow"
   ]
  },
  {
   "cell_type": "code",
   "execution_count": 1,
   "id": "6a289299-57a2-4bf3-b43b-4b7bf220f694",
   "metadata": {},
   "outputs": [
    {
     "name": "stderr",
     "output_type": "stream",
     "text": [
      "/opt/homebrew/Caskroom/miniforge/base/lib/python3.9/site-packages/jax/_src/lib/__init__.py:32: UserWarning: JAX on Mac ARM machines is experimental and minimally tested. Please see https://github.com/google/jax/issues/5501 in the event of problems.\n",
      "  warnings.warn(\"JAX on Mac ARM machines is experimental and minimally tested. \"\n"
     ]
    }
   ],
   "source": [
    "import tensorflow as tf\n",
    "import numpy as np\n",
    "from tensorflow import keras\n",
    "from tensorflow.keras import layers as ly\n",
    "import math\n",
    "from functools import partial"
   ]
  },
  {
   "cell_type": "code",
   "execution_count": 2,
   "id": "68af277f-a16c-46e4-ae6e-ff407ba90afd",
   "metadata": {},
   "outputs": [],
   "source": [
    "### Obtained from Paper ###\n",
    "# Configs taken from \n",
    "# https://github.com/leondgarse/keras_efficientnet_v2/blob/main/keras_efficientnet_v2/efficientnet_v2.py\n",
    "# convs parameter is which type of block to use, maps to `layer_map`\n",
    "# 6 models are supported, more are coming soon.\n",
    "CONFIGS = {\n",
    "    \"b0\": {\n",
    "        \"widths\": [32, 16, 32, 48, 96, 112, 192],\n",
    "        \"depths\": [1, 2, 2, 3, 5, 8],\n",
    "        \"strides\": [1, 2, 2, 2, 1, 2],\n",
    "        \"convs\": [0, 1, 1, 2, 3, 3],\n",
    "        \"output_conv_size\": 1280,\n",
    "    },\n",
    "    \"b1\": {\n",
    "        \"widths\": [32, 16, 32, 48, 96, 112, 192],\n",
    "        \"depths\": [2, 3, 3, 4, 6, 9],\n",
    "        \"strides\": [1, 2, 2, 2, 1, 2],\n",
    "        \"convs\":[0, 1, 1, 2, 3, 3],\n",
    "        \"output_conv_size\": 1280,\n",
    "    },\n",
    "    \"b2\": {\n",
    "        \"widths\": [32, 16, 32, 56, 104, 120, 208],\n",
    "        \"depths\": [2, 3, 3, 4, 6, 10],\n",
    "        \"strides\": [1, 2, 2, 2, 1, 2],\n",
    "        \"convs\": [0, 1, 1, 2, 3, 3],\n",
    "        \"output_conv_size\": 1408,\n",
    "    },\n",
    "    \"s\": {\n",
    "        \"widths\": [24, 24, 48, 64, 128, 160, 256],\n",
    "        \"depths\": [2, 4, 4, 6, 9, 15],\n",
    "        \"strides\": [1, 2, 2, 2, 1, 2],\n",
    "        \"convs\": [0, 1, 1, 2, 3, 3],\n",
    "        \"output_conv_size\": 1280,\n",
    "    },\n",
    "    \"m\": {\n",
    "        \"widths\": [24, 24, 48, 80, 160, 176, 304, 512],\n",
    "        \"depths\": [3, 5, 5, 7, 14, 18, 5],\n",
    "        \"strides\": [1, 2, 2, 2, 1, 2, 1],\n",
    "        \"convs\": [0, 1, 1, 2, 3, 3, 3],\n",
    "        \"output_conv_size\": 1280,\n",
    "    },\n",
    "    \"l\": {\n",
    "        \"widths\": [32, 32, 64, 96, 192, 224, 384, 640],\n",
    "        \"depths\": [4, 7, 7, 10, 19, 25, 7],\n",
    "        \"strides\": [1, 2, 2, 2, 1, 2, 1],\n",
    "        \"convs\": [0, 1, 1, 2, 3, 3, 3],\n",
    "        \"output_conv_size\": 1280,\n",
    "    }\n",
    "}"
   ]
  },
  {
   "cell_type": "code",
   "execution_count": 3,
   "id": "f97b4692-b6f0-43e9-992c-ff3896e2d146",
   "metadata": {},
   "outputs": [],
   "source": [
    "def bn_act(x, bn=True, act=True):\n",
    "    if bn:\n",
    "        x = ly.BatchNormalization(epsilon=1e-3,momentum=0.999)(x)\n",
    "    if act:\n",
    "        x = ly.Activation(tf.nn.swish)(x)\n",
    "    return x"
   ]
  },
  {
   "cell_type": "code",
   "execution_count": 4,
   "id": "c75e6dae-1032-4643-8611-a6b09dcbbc87",
   "metadata": {},
   "outputs": [],
   "source": [
    "def SEBlock(x, c, r=24):\n",
    "    squeeze = ly.GlobalAveragePooling2D()(x)\n",
    "    squeeze = ly.Reshape((1, 1, c))(squeeze)\n",
    "    ex = ly.Conv2D(c // r, (1, 1), padding='same')(squeeze)\n",
    "    ex = ly.Activation(tf.nn.swish)(ex)\n",
    "    ex = ly.Conv2D(c, (1, 1), padding='same')(ex)\n",
    "    ex = ly.Activation(tf.nn.sigmoid)(ex)\n",
    "    x = ly.multiply([x, ex])\n",
    "    return x"
   ]
  },
  {
   "cell_type": "code",
   "execution_count": 59,
   "id": "9c6801d9-647d-4612-b3ef-4dbfc5d62f77",
   "metadata": {},
   "outputs": [],
   "source": [
    "def MBConv(x, n_in, n_out, expansion, ks=3, strides=1, dropout=0.1, r=24):\n",
    "    residual = x\n",
    "    skip_connection = (strides == 1) and (n_in == n_out)\n",
    "    padding = (ks-1)//2\n",
    "    if expansion != 1:\n",
    "        # Expand Pointwise\n",
    "        x = ly.Conv2D(expansion * n_in, kernel_size=1, padding='same', use_bias=False,\n",
    "                      activation=None)(x)\n",
    "        x = bn_act(x)\n",
    "    ## Depthwise\n",
    "    x = ly.DepthwiseConv2D(kernel_size=ks, strides=strides, activation=None, use_bias=False, \n",
    "                          padding='same')(x)\n",
    "    x = bn_act(x)\n",
    "    x = SEBlock(x, expansion * n_in, r=r)\n",
    "    x = ly.Conv2D(n_out, (1, 1), padding='same', activation=None, use_bias=False)(x)\n",
    "    x = bn_act(x, act=False)\n",
    "    if skip_connection:\n",
    "        x = ly.Dropout(0.2)(x)\n",
    "        x = ly.add([x, residual])\n",
    "    return x"
   ]
  },
  {
   "cell_type": "code",
   "execution_count": 65,
   "id": "7a7facb9-396f-4ec0-8d84-aea09b821016",
   "metadata": {},
   "outputs": [],
   "source": [
    "def FusedMBConv(x, n_in, n_out, expansion, ks=3, strides=1, dropout=0.1, r=24):\n",
    "    \"\"\"\n",
    "    Implementation of the FusedMBConv Block from EfficientNet V2 Paper\n",
    "    \"\"\"\n",
    "    residual = x\n",
    "    skip_connection = (strides == 1) and (n_in == n_out)\n",
    "    padding = (ks-1)//2\n",
    "    if expansion != 1:\n",
    "        # Expand\n",
    "        x = ly.Conv2D(expansion * n_in, kernel_size=(3, 3), strides=strides, padding='same', use_bias=False,\n",
    "                      activation=None)(x)\n",
    "        x = bn_act(x)\n",
    "        # Reduce Pointwise\n",
    "        x = ly.Conv2D(n_out, (1, 1), padding='same', activation=None, use_bias=False)(x)\n",
    "        x = bn_act(x, act=False)\n",
    "    else:\n",
    "        # Reduce Pointwise\n",
    "        x = ly.Conv2D(n_out, (3, 3), padding='same', strides=strides, activation=None, use_bias=False)(x)\n",
    "        x = bn_act(x, act=False)\n",
    "    if skip_connection:\n",
    "        x = ly.Dropout(0.2)(x)\n",
    "        x = ly.add([x, residual])\n",
    "    return x"
   ]
  },
  {
   "cell_type": "code",
   "execution_count": 66,
   "id": "a73d3ef9-fff8-4160-90bf-c14689ae9a82",
   "metadata": {},
   "outputs": [],
   "source": [
    "layer_map = [\n",
    "    partial(FusedMBConv, expansion=1),\n",
    "    partial(FusedMBConv, expansion=4),\n",
    "    partial(MBConv, expansion=4),\n",
    "    partial(MBConv, expansion=6),\n",
    "]"
   ]
  },
  {
   "cell_type": "code",
   "execution_count": 67,
   "id": "d09a4882-ddb8-4d5c-9047-681fee55e66a",
   "metadata": {},
   "outputs": [],
   "source": [
    "def EfficientNetV2(cfg, n_classes=1000):\n",
    "    widths, depths, strides, convs = cfg['widths'],cfg['depths'],cfg['strides'],cfg['convs']\n",
    "    outconv_size = cfg['output_conv_size']\n",
    "    inputs = keras.Input(shape=(224, 224, 3))\n",
    "    x = ly.ZeroPadding2D(\n",
    "      padding=1)(inputs)\n",
    "    x = ly.Conv2D(widths[0], (3, 3), strides=(2, 2), padding='valid', use_bias=False)(x)\n",
    "    x = bn_act(x)\n",
    "    \n",
    "    for i in range(len(depths)):\n",
    "        depth = depths[i]\n",
    "        stride = strides[i]\n",
    "        w_in = widths[i]\n",
    "        w_out = widths[i + 1]\n",
    "        layer = layer_map[convs[i]]\n",
    "        x = layer(x, w_in, w_out, ks=3, strides=stride, r= 4 if i==0 else 24)\n",
    "        for j in range(1, depth):\n",
    "            x = layer(x, w_out, w_out, ks=3, r= 4 if i==0 else 24)\n",
    "    \n",
    "    x = ly.Conv2D(outconv_size, kernel_size=1, use_bias=False)(x)\n",
    "    x = bn_act(x)\n",
    "    x = ly.GlobalAveragePooling2D()(x)\n",
    "    x = ly.Dense(n_classes)(x)\n",
    "    return keras.Model(inputs=inputs, outputs=x, name=\"efficientnetv2\")"
   ]
  },
  {
   "cell_type": "code",
   "execution_count": 68,
   "id": "2886f96c-2016-406c-8179-e0827815db42",
   "metadata": {},
   "outputs": [],
   "source": [
    "def efficientnetv2_b0(n_classes=1000):\n",
    "    return EfficientNetV2(CONFIGS['b0'], n_classes=n_classes)\n",
    "def efficientnetv2_b1(n_classes=1000):\n",
    "    return EfficientNetV2(CONFIGS['b1'], n_classes=n_classes)\n",
    "def efficientnetv2_b2(n_classes=1000):\n",
    "    return EfficientNetV2(CONFIGS['b2'], n_classes=n_classes)\n",
    "def efficientnetv2_s(n_classes=1000):\n",
    "    return EfficientNetV2(CONFIGS['s'], n_classes=n_classes)\n",
    "def efficientnetv2_m(n_classes=1000):\n",
    "    return EfficientNetV2(CONFIGS['m'], n_classes=n_classes)\n",
    "def efficientnetv2_l(n_classes=1000):\n",
    "    return EfficientNetV2(CONFIGS['l'], n_classes=n_classes)"
   ]
  },
  {
   "cell_type": "code",
   "execution_count": 69,
   "id": "fea50f41-c9fd-4038-98b8-fae1cefe9c76",
   "metadata": {},
   "outputs": [],
   "source": [
    "v2_b0 = efficientnetv2_b0()\n",
    "v2_b1 = efficientnetv2_b1()\n",
    "v2_b2 = efficientnetv2_b2()\n",
    "v2_s = efficientnetv2_s()\n",
    "v2_m = efficientnetv2_m()\n",
    "v2_l = efficientnetv2_l()"
   ]
  },
  {
   "cell_type": "code",
   "execution_count": 73,
   "id": "2581d32d-5561-4e8b-af5a-e05fb26caf13",
   "metadata": {},
   "outputs": [],
   "source": [
    "models = [v2_b0, v2_b1, v2_b2, v2_s, v2_m, v2_l]"
   ]
  },
  {
   "cell_type": "code",
   "execution_count": 71,
   "id": "7308d4ea-5172-412d-8bab-1364a2c7e24c",
   "metadata": {
    "scrolled": true,
    "tags": []
   },
   "outputs": [],
   "source": [
    "def fmat(n):\n",
    "    return \"{:.2f}M\".format(n / 1e6)"
   ]
  },
  {
   "cell_type": "code",
   "execution_count": 72,
   "id": "e3cf4f1b-cda7-4838-ad0d-b48dade921bc",
   "metadata": {},
   "outputs": [],
   "source": [
    "def params(model, f = True):\n",
    "    count = int(np.sum([np.prod(p.shape) for p in model.variables]))\n",
    "    return fmat(count) if f else count"
   ]
  },
  {
   "cell_type": "code",
   "execution_count": 74,
   "id": "219452b1-a6e2-4c4a-a3cd-56e5e6ed5692",
   "metadata": {},
   "outputs": [
    {
     "name": "stdout",
     "output_type": "stream",
     "text": [
      "7.19M\n",
      "8.19M\n",
      "10.15M\n",
      "21.55M\n",
      "54.32M\n",
      "118.80M\n"
     ]
    }
   ],
   "source": [
    "for m in models:\n",
    "    print(params(m))"
   ]
  },
  {
   "cell_type": "code",
   "execution_count": null,
   "id": "beb1556a-7a14-40f6-8a70-ab69a3cc9cbf",
   "metadata": {},
   "outputs": [],
   "source": []
  }
 ],
 "metadata": {
  "kernelspec": {
   "display_name": "Python 3 (ipykernel)",
   "language": "python",
   "name": "python3"
  },
  "language_info": {
   "codemirror_mode": {
    "name": "ipython",
    "version": 3
   },
   "file_extension": ".py",
   "mimetype": "text/x-python",
   "name": "python",
   "nbconvert_exporter": "python",
   "pygments_lexer": "ipython3",
   "version": "3.9.4"
  }
 },
 "nbformat": 4,
 "nbformat_minor": 5
}
