{
 "cells": [
  {
   "cell_type": "markdown",
   "id": "275c306f-667d-4298-a9b0-dc9b07ba173e",
   "metadata": {},
   "source": [
    "# ConvNext in PyTorch\n",
    "\n",
    "An implementation of the [ConvNext Paper](https://arxiv.org/pdf/2201.03545.pdf)"
   ]
  },
  {
   "cell_type": "code",
   "execution_count": 1,
   "id": "1f7ba6cb-1fec-4340-b0b7-b0d36a8f3881",
   "metadata": {},
   "outputs": [],
   "source": [
    "import torch\n",
    "from torch import nn, optim\n",
    "import torch.nn.functional as F\n",
    "from torchinfo import summary"
   ]
  },
  {
   "cell_type": "code",
   "execution_count": 2,
   "id": "bd192f72-a0c6-4cb5-a24c-cb5fb9911120",
   "metadata": {},
   "outputs": [],
   "source": [
    "import random\n",
    "import numpy as np\n",
    "import math\n",
    "from timm.models.layers import trunc_normal_, DropPath"
   ]
  },
  {
   "cell_type": "code",
   "execution_count": 4,
   "id": "839aeae4-d98a-4a42-bd08-0f55688709be",
   "metadata": {},
   "outputs": [],
   "source": [
    "def conv1x1(inplanes, out_planes, stride=1):\n",
    "    return nn.Conv2d(inplanes, out_planes, kernel_size=1, stride=stride, bias=False)"
   ]
  },
  {
   "cell_type": "code",
   "execution_count": 5,
   "id": "bee82cb3-9d11-4e3e-8f99-97e0e79c9cf1",
   "metadata": {},
   "outputs": [],
   "source": [
    "class LayerNorm(nn.Module):\n",
    "    # from https://github.com/facebookresearch/ConvNeXt\n",
    "    r\"\"\" LayerNorm that supports two data formats: channels_last (default) or channels_first. \n",
    "    The ordering of the dimensions in the inputs. channels_last corresponds to inputs with \n",
    "    shape (batch_size, height, width, channels) while channels_first corresponds to inputs \n",
    "    with shape (batch_size, channels, height, width).\n",
    "    \"\"\"\n",
    "    def __init__(self, normalized_shape, eps=1e-6, data_format=\"channels_last\"):\n",
    "        super().__init__()\n",
    "        self.weight = nn.Parameter(torch.ones(normalized_shape))\n",
    "        self.bias = nn.Parameter(torch.zeros(normalized_shape))\n",
    "        self.eps = eps\n",
    "        self.data_format = data_format\n",
    "        if self.data_format not in [\"channels_last\", \"channels_first\"]:\n",
    "            raise NotImplementedError \n",
    "        self.normalized_shape = (normalized_shape, )\n",
    "    \n",
    "    def forward(self, x):\n",
    "        if self.data_format == \"channels_last\":\n",
    "            return F.layer_norm(x, self.normalized_shape, self.weight, self.bias, self.eps)\n",
    "        elif self.data_format == \"channels_first\":\n",
    "            u = x.mean(1, keepdim=True)\n",
    "            s = (x - u).pow(2).mean(1, keepdim=True)\n",
    "            x = (x - u) / torch.sqrt(s + self.eps)\n",
    "            x = self.weight[:, None, None] * x + self.bias[:, None, None]\n",
    "            return x"
   ]
  },
  {
   "cell_type": "code",
   "execution_count": 6,
   "id": "3ea23e05-1f5e-4de9-a095-decd582a9dfd",
   "metadata": {},
   "outputs": [],
   "source": [
    "class ConvNextBlock(nn.Module):\n",
    "    def __init__(self, dim, drop_path=0., layer_scale_init_value = 1e-6):\n",
    "        super(ConvNextBlock, self).__init__()\n",
    "        \n",
    "        self.layers = nn.Sequential(\n",
    "            nn.Conv2d(dim, dim, 7, padding=3, groups=dim),\n",
    "            LayerNorm(dim, eps=1e-6, data_format=\"channels_first\"),\n",
    "            conv1x1(dim, dim*4),\n",
    "            nn.GELU(),\n",
    "            conv1x1(dim*4, dim)\n",
    "        )\n",
    "        self.gamma = nn.Parameter(layer_scale_init_value * torch.ones((dim)), \n",
    "                                    requires_grad=True) if layer_scale_init_value > 0 else None\n",
    "        self.drop_path = DropPath(drop_path)\n",
    "    def forward(self, x):\n",
    "        original = x\n",
    "        x = self.layers(x)\n",
    "        if self.gamma is not None:\n",
    "            x = x.mul(self.gamma.reshape(1, -1, 1, 1))\n",
    "        x = original + self.drop_path(x)\n",
    "        return x"
   ]
  },
  {
   "cell_type": "code",
   "execution_count": 7,
   "id": "400f4803-8989-451f-8b11-787eecb6384a",
   "metadata": {},
   "outputs": [],
   "source": [
    "class ConvNextStage(nn.Module):\n",
    "    def __init__(self, dim, depth, dw_layer, drop_rate):\n",
    "        super(ConvNextStage, self).__init__()\n",
    "        \n",
    "        self.stage = nn.Sequential(*[\n",
    "            dw_layer,\n",
    "            *[ConvNextBlock(dim) for j in range(depth)]\n",
    "        ])\n",
    "        \n",
    "    def forward(self, x):\n",
    "        x = self.stage(x)\n",
    "        return x"
   ]
  },
  {
   "cell_type": "code",
   "execution_count": 8,
   "id": "66a59b4f-e521-4c34-ba55-862599e18eaf",
   "metadata": {},
   "outputs": [],
   "source": [
    "class ConvNext(nn.Module):\n",
    "    def __init__(self, n_classes=1000, \n",
    "                 depths = [3, 3, 9, 3], dims = [96, 192, 384, 768]):\n",
    "        super(ConvNext, self).__init__()\n",
    "        \n",
    "        stages = []\n",
    "            \n",
    "        for i in range(4):\n",
    "            if i == 0:\n",
    "                dw_layer = nn.Sequential(\n",
    "                    nn.Conv2d(3, dims[0], 4, stride=4),\n",
    "                    LayerNorm(dims[0], eps=1e-6, data_format=\"channels_first\")\n",
    "                )\n",
    "            else:\n",
    "                dw_layer = nn.Sequential(\n",
    "                    LayerNorm(dims[i-1], eps=1e-6, data_format=\"channels_first\"),\n",
    "                    nn.Conv2d(dims[i-1], dims[i], 2, stride=2)\n",
    "                )\n",
    "            \n",
    "            stage = ConvNextStage(dims[i], depths[i], dw_layer, drop_rate=0.0)\n",
    "            stages.append(stage)\n",
    "            \n",
    "        self.stages = nn.Sequential(*stages)\n",
    "        self.norm = LayerNorm(dims[-1], eps=1e-6)\n",
    "        self.head = nn.Linear(dims[-1], n_classes)\n",
    "    \n",
    "    def forward(self, x):\n",
    "        x = self.stages(x)\n",
    "        x = x.mean([-2, -1])\n",
    "        x = self.norm(x)\n",
    "        x = self.head(x)\n",
    "        return x"
   ]
  },
  {
   "cell_type": "code",
   "execution_count": 19,
   "id": "df271191-b755-4420-a734-352cb6845140",
   "metadata": {},
   "outputs": [],
   "source": [
    "def convnext_tiny(n_classes=1000):\n",
    "    model = ConvNext(n_classes=n_classes, depths=[3, 3, 9, 3], dims=[96, 192, 384, 768])\n",
    "    return model\n",
    "def convnext_base(n_classes=1000):\n",
    "    model = ConvNext(n_classes=n_classes, depths=[3, 3, 27, 3], dims=[128, 256, 512, 1024])\n",
    "    return model\n",
    "def convnext_large(n_classes=1000):\n",
    "    model = ConvNext(n_classes=n_classes, depths=[3, 3, 27, 3], dims=[192, 384, 768, 1536])\n",
    "    return model\n",
    "def convnext_xlarge(n_classes=1000):\n",
    "    model = ConvNext(n_classes=n_classes, depths=[3, 3, 27, 3], dims=[256, 512, 1024, 2048])\n",
    "    return model"
   ]
  },
  {
   "cell_type": "code",
   "execution_count": 20,
   "id": "35ac6a2d-d9d9-4178-aedf-54b9e4ec9426",
   "metadata": {},
   "outputs": [],
   "source": [
    "cn_tiny = convnext_tiny()\n",
    "cn_base = convnext_base()\n",
    "cn_large = convnext_large()\n",
    "cn_xlarge = convnext_xlarge()"
   ]
  },
  {
   "cell_type": "code",
   "execution_count": 21,
   "id": "e71cfd7a-a721-4ebf-89ad-aff1e067e3cc",
   "metadata": {},
   "outputs": [],
   "source": [
    "models = [cn_tiny, cn_base, cn_large, cn_xlarge]"
   ]
  },
  {
   "cell_type": "code",
   "execution_count": 22,
   "id": "28197aa5-6451-4daf-bb8b-b09a50e35e91",
   "metadata": {
    "scrolled": true,
    "tags": []
   },
   "outputs": [
    {
     "name": "stdout",
     "output_type": "stream",
     "text": [
      "torch.Size([1, 1000])\n",
      "CPU times: user 264 ms, sys: 59.6 ms, total: 323 ms\n",
      "Wall time: 187 ms\n"
     ]
    }
   ],
   "source": [
    "%%time\n",
    "inp = torch.randn(1, 3, 224, 224)\n",
    "with torch.no_grad():\n",
    "    print(cn_tiny(inp).shape)"
   ]
  },
  {
   "cell_type": "code",
   "execution_count": 23,
   "id": "d9a7959d-1059-4005-848f-7c75dc01de6a",
   "metadata": {},
   "outputs": [],
   "source": [
    "import os\n",
    "def print_size_of_model(model):\n",
    "    torch.save(model.state_dict(), \"temp.p\")\n",
    "    print('Size (MB):', os.path.getsize(\"temp.p\")/1e6)\n",
    "    os.remove('temp.p')"
   ]
  },
  {
   "cell_type": "code",
   "execution_count": 24,
   "id": "a5d838a0-7c42-4cf7-a01d-106554654234",
   "metadata": {},
   "outputs": [
    {
     "name": "stdout",
     "output_type": "stream",
     "text": [
      "Size (MB): 114.275869\n",
      "Size (MB): 354.103137\n",
      "Size (MB): 790.626145\n",
      "Size (MB): 1400.164257\n"
     ]
    }
   ],
   "source": [
    "for m in models:\n",
    "    print_size_of_model(m)"
   ]
  },
  {
   "cell_type": "code",
   "execution_count": 25,
   "id": "84809c6b-8180-4ae1-822a-1d421f3c175a",
   "metadata": {},
   "outputs": [],
   "source": [
    "def fmat(n):\n",
    "    return \"{:.2f}M\".format(n / 1_000_000)"
   ]
  },
  {
   "cell_type": "code",
   "execution_count": 26,
   "id": "c8fce309-6df0-47ab-9d61-549f74ece001",
   "metadata": {},
   "outputs": [],
   "source": [
    "def params(model, f=True):\n",
    "    s = sum(p.numel() for p in model.parameters() if p.requires_grad)\n",
    "    return fmat(s) if f else s"
   ]
  },
  {
   "cell_type": "code",
   "execution_count": 27,
   "id": "bb2000f5-8853-44b7-be7d-c42c0aab2ff9",
   "metadata": {},
   "outputs": [
    {
     "name": "stdout",
     "output_type": "stream",
     "text": [
      "28.56M\n",
      "88.50M\n",
      "197.63M\n",
      "350.02M\n"
     ]
    }
   ],
   "source": [
    "for m in models:\n",
    "    print(params(m))"
   ]
  },
  {
   "cell_type": "code",
   "execution_count": 18,
   "id": "1fc1df47-79ca-409e-9c18-8062d1369dc5",
   "metadata": {},
   "outputs": [
    {
     "data": {
      "text/plain": [
       "====================================================================================================\n",
       "Layer (type:depth-idx)                             Output Shape              Param #\n",
       "====================================================================================================\n",
       "ConvNext                                           --                        --\n",
       "├─Sequential: 1-1                                  [1, 768, 7, 7]            --\n",
       "│    └─ConvNextStage: 2-1                          [1, 96, 56, 56]           --\n",
       "│    │    └─Sequential: 3-1                        [1, 96, 56, 56]           --\n",
       "│    │    │    └─Sequential: 4-1                   [1, 96, 56, 56]           4,896\n",
       "│    │    │    └─ConvNextBlock: 4-2                [1, 96, 56, 56]           78,816\n",
       "│    │    │    └─ConvNextBlock: 4-3                [1, 96, 56, 56]           78,816\n",
       "│    │    │    └─ConvNextBlock: 4-4                [1, 96, 56, 56]           78,816\n",
       "│    └─ConvNextStage: 2-2                          [1, 192, 28, 28]          --\n",
       "│    │    └─Sequential: 3-2                        [1, 192, 28, 28]          --\n",
       "│    │    │    └─Sequential: 4-5                   [1, 192, 28, 28]          74,112\n",
       "│    │    │    └─ConvNextBlock: 4-6                [1, 192, 28, 28]          305,088\n",
       "│    │    │    └─ConvNextBlock: 4-7                [1, 192, 28, 28]          305,088\n",
       "│    │    │    └─ConvNextBlock: 4-8                [1, 192, 28, 28]          305,088\n",
       "│    └─ConvNextStage: 2-3                          [1, 384, 14, 14]          --\n",
       "│    │    └─Sequential: 3-3                        [1, 384, 14, 14]          --\n",
       "│    │    │    └─Sequential: 4-9                   [1, 384, 14, 14]          295,680\n",
       "│    │    │    └─ConvNextBlock: 4-10               [1, 384, 14, 14]          1,200,000\n",
       "│    │    │    └─ConvNextBlock: 4-11               [1, 384, 14, 14]          1,200,000\n",
       "│    │    │    └─ConvNextBlock: 4-12               [1, 384, 14, 14]          1,200,000\n",
       "│    │    │    └─ConvNextBlock: 4-13               [1, 384, 14, 14]          1,200,000\n",
       "│    │    │    └─ConvNextBlock: 4-14               [1, 384, 14, 14]          1,200,000\n",
       "│    │    │    └─ConvNextBlock: 4-15               [1, 384, 14, 14]          1,200,000\n",
       "│    │    │    └─ConvNextBlock: 4-16               [1, 384, 14, 14]          1,200,000\n",
       "│    │    │    └─ConvNextBlock: 4-17               [1, 384, 14, 14]          1,200,000\n",
       "│    │    │    └─ConvNextBlock: 4-18               [1, 384, 14, 14]          1,200,000\n",
       "│    └─ConvNextStage: 2-4                          [1, 768, 7, 7]            --\n",
       "│    │    └─Sequential: 3-4                        [1, 768, 7, 7]            --\n",
       "│    │    │    └─Sequential: 4-19                  [1, 768, 7, 7]            1,181,184\n",
       "│    │    │    └─ConvNextBlock: 4-20               [1, 768, 7, 7]            4,759,296\n",
       "│    │    │    └─ConvNextBlock: 4-21               [1, 768, 7, 7]            4,759,296\n",
       "│    │    │    └─ConvNextBlock: 4-22               [1, 768, 7, 7]            4,759,296\n",
       "├─LayerNorm: 1-2                                   [1, 768]                  1,536\n",
       "├─Linear: 1-3                                      [1, 1000]                 769,000\n",
       "====================================================================================================\n",
       "Total params: 28,549,384\n",
       "Trainable params: 28,549,384\n",
       "Non-trainable params: 0\n",
       "Total mult-adds (G): 4.46\n",
       "====================================================================================================\n",
       "Input size (MB): 0.60\n",
       "Forward/backward pass size (MB): 131.27\n",
       "Params size (MB): 114.20\n",
       "Estimated Total Size (MB): 246.07\n",
       "===================================================================================================="
      ]
     },
     "execution_count": 18,
     "metadata": {},
     "output_type": "execute_result"
    }
   ],
   "source": [
    "summary(cn_tiny, (1, 3, 224, 224), depth=4)"
   ]
  }
 ],
 "metadata": {
  "kernelspec": {
   "display_name": "Python 3 (ipykernel)",
   "language": "python",
   "name": "python3"
  },
  "language_info": {
   "codemirror_mode": {
    "name": "ipython",
    "version": 3
   },
   "file_extension": ".py",
   "mimetype": "text/x-python",
   "name": "python",
   "nbconvert_exporter": "python",
   "pygments_lexer": "ipython3",
   "version": "3.9.4"
  }
 },
 "nbformat": 4,
 "nbformat_minor": 5
}
