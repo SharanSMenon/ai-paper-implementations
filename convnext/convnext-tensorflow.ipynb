{
 "cells": [
  {
   "cell_type": "code",
   "execution_count": 1,
   "id": "c13e6bfa-0ad9-46d8-9095-264f80865a71",
   "metadata": {},
   "outputs": [],
   "source": [
    "import tensorflow as tf\n",
    "from tensorflow import keras\n",
    "from tensorflow.keras import layers as ly"
   ]
  },
  {
   "cell_type": "code",
   "execution_count": null,
   "id": "e4b9a1c9-547e-4f9a-a270-d4f3ac00f022",
   "metadata": {},
   "outputs": [],
   "source": [
    "def ConvNextBlock(x, dim, drop_path=0., layer_scale_init_value = 1e-6):\n",
    "    x= ly.Zero)\n",
    "    x = ly.Conv2D(dim, 7, groups=dim)"
   ]
  }
 ],
 "metadata": {
  "kernelspec": {
   "display_name": "Python 3 (ipykernel)",
   "language": "python",
   "name": "python3"
  },
  "language_info": {
   "codemirror_mode": {
    "name": "ipython",
    "version": 3
   },
   "file_extension": ".py",
   "mimetype": "text/x-python",
   "name": "python",
   "nbconvert_exporter": "python",
   "pygments_lexer": "ipython3",
   "version": "3.9.4"
  }
 },
 "nbformat": 4,
 "nbformat_minor": 5
}
